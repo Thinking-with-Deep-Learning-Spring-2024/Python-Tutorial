{
  "nbformat": 4,
  "nbformat_minor": 0,
  "metadata": {
    "kernelspec": {
      "display_name": "Python 3",
      "language": "python",
      "name": "python3"
    },
    "language_info": {
      "codemirror_mode": {
        "name": "ipython",
        "version": 3
      },
      "file_extension": ".py",
      "mimetype": "text/x-python",
      "name": "python",
      "nbconvert_exporter": "python",
      "pygments_lexer": "ipython3",
      "version": "3.7.6"
    },
    "colab": {
      "provenance": []
    }
  },
  "cells": [
    {
      "cell_type": "markdown",
      "metadata": {
        "id": "VeoWM7DWZXT4"
      },
      "source": [
        "# Thinking with Deep Learning: Python Tutorials"
      ]
    },
    {
      "cell_type": "markdown",
      "metadata": {
        "id": "6RN3JhMdZMxq"
      },
      "source": [
        "# 0. Know your tool: Google Colab"
      ]
    },
    {
      "cell_type": "markdown",
      "metadata": {
        "id": "lH7vxPduZ2JM"
      },
      "source": [
        "This environment is a Colab. It's a Jupyter notebook hosted on the Google Cloud. You can write and run your Python code here. You can also describe your code using markdown. **Try to add a cell below this text.**"
      ]
    },
    {
      "cell_type": "markdown",
      "metadata": {
        "id": "G-0T7jzCKyby"
      },
      "source": [
        "## Colab and Google Drive\n",
        "When you create a notebook on google colab, you also create an ipynb file in your google drive. This notebook can be revised, shared and downloaded to your own laptop. You can also create this notebook on your own laptop, and upload it to your google drive--the codes will appear automatically on the colab page."
      ]
    },
    {
      "cell_type": "markdown",
      "metadata": {
        "id": "a9iMdoNnQRfO"
      },
      "source": [
        "Colab can be directly linked to your google drive, by the following codes:"
      ]
    },
    {
      "cell_type": "code",
      "metadata": {
        "id": "Q6ilCb_uLr6N",
        "colab": {
          "base_uri": "https://localhost:8080/"
        },
        "outputId": "4fb7c951-e931-4300-8c82-d42d49f6e15e"
      },
      "source": [
        "from google.colab import drive\n",
        "drive.mount('/content/drive')"
      ],
      "execution_count": null,
      "outputs": [
        {
          "output_type": "stream",
          "name": "stdout",
          "text": [
            "Mounted at /content/drive\n"
          ]
        }
      ]
    },
    {
      "cell_type": "markdown",
      "metadata": {
        "id": "jvzcxdqULy29"
      },
      "source": [
        "These codes help you authorize colab to reach your content.\n",
        "\n",
        "The default path of your drive is \"/content/drive/My Drive/\". As colab only provide temporary computing, all the files on the server will be deleted automatically after you leave colab. However, you can always save your results in your drive. The files in the drive will not be lost."
      ]
    },
    {
      "cell_type": "markdown",
      "metadata": {
        "id": "xZBSyTSVPZjQ"
      },
      "source": [
        "## Libraries"
      ]
    },
    {
      "cell_type": "markdown",
      "metadata": {
        "id": "gFlsej4bPgDE"
      },
      "source": [
        "Google has pre-installed most of the packages you will use in this course, including Tensorflow, PyTorch, etc. If you want to install new packages, it is just the same as on a Jupyter notebook:"
      ]
    },
    {
      "cell_type": "code",
      "metadata": {
        "id": "9CjHBJMqP3N0"
      },
      "source": [
        "pip install numpy"
      ],
      "execution_count": null,
      "outputs": []
    },
    {
      "cell_type": "markdown",
      "metadata": {
        "id": "PKtegqiRP9BU"
      },
      "source": [
        "And it will install the package for you."
      ]
    },
    {
      "cell_type": "markdown",
      "metadata": {
        "id": "lU_62WG1TJbB"
      },
      "source": [
        "# 1. Very simple 'programs'\n",
        "## 1.1 Running Python from the command line\n",
        "In order to test pieces of code we can run Python from the command line. In this Jupyter Notebook we are going to simulate this. You can type the commands in the fields and execute them.<br>\n",
        "In the field type:<br>\n",
        "```python\n",
        "print('Hello, World')\n",
        "```\n",
        "Then press `<shift> + <return>` to execute the command.\n",
        "\n"
      ]
    },
    {
      "cell_type": "code",
      "source": [],
      "metadata": {
        "id": "UqQse4NjTaxr"
      },
      "execution_count": null,
      "outputs": []
    },
    {
      "cell_type": "markdown",
      "metadata": {
        "id": "1wGtjFOITJbC"
      },
      "source": [
        "What happened?\n",
        "\n",
        "You just created a program, that prints the words 'Hello, World'. The Python environment that you are in immediately compiles whatever you have typed in. This is useful for testing things, e.g. define a few variables, and then test to see if a certain line will work. That will come in a later lesson, though."
      ]
    },
    {
      "cell_type": "markdown",
      "metadata": {
        "id": "qnL4SmYfTJbC"
      },
      "source": [
        "## 1.2 Math in Python\n",
        "Type<br>\n",
        "```python\n",
        "1 + 1\n",
        "```\n",
        "and execute the code."
      ]
    },
    {
      "cell_type": "code",
      "execution_count": null,
      "metadata": {
        "scrolled": true,
        "id": "uBCtE00mTJbC"
      },
      "outputs": [],
      "source": []
    },
    {
      "cell_type": "markdown",
      "metadata": {
        "id": "HqnJ7-8qTJbC"
      },
      "source": [
        "Now type\n",
        "```python\n",
        "20 + 80\n",
        "```\n",
        "and execute the code."
      ]
    },
    {
      "cell_type": "code",
      "execution_count": null,
      "metadata": {
        "id": "8jMkdJgATJbC"
      },
      "outputs": [],
      "source": []
    },
    {
      "cell_type": "markdown",
      "metadata": {
        "id": "HtrX2Y82TJbC"
      },
      "source": [
        "These are additions. We can of course use other mathematical operators.<br>\n",
        "Try this subtraction:<br>\n",
        "```python\n",
        "6 - 5\n",
        "```"
      ]
    },
    {
      "cell_type": "code",
      "execution_count": null,
      "metadata": {
        "id": "q5HppqAKTJbC"
      },
      "outputs": [],
      "source": []
    },
    {
      "cell_type": "markdown",
      "metadata": {
        "id": "A0LqjBWcTJbC"
      },
      "source": [
        "and this multiplication:<br>\n",
        "```python\n",
        "2 * 5\n",
        "```"
      ]
    },
    {
      "cell_type": "code",
      "execution_count": null,
      "metadata": {
        "id": "fki2eiEITJbC"
      },
      "outputs": [],
      "source": []
    },
    {
      "cell_type": "markdown",
      "metadata": {
        "id": "NHwbMJ4iTJbC"
      },
      "source": [
        "Try:\n",
        "```python\n",
        "5 ** 2\n",
        "```"
      ]
    },
    {
      "cell_type": "code",
      "execution_count": null,
      "metadata": {
        "id": "1-O4RDXhTJbC"
      },
      "outputs": [],
      "source": []
    },
    {
      "cell_type": "markdown",
      "metadata": {
        "id": "TCBBn5G0TJbC"
      },
      "source": [
        "`**` is the exponential operator, so we executed 5 squared."
      ]
    },
    {
      "cell_type": "markdown",
      "metadata": {
        "id": "ZZTB50FWTJbC"
      },
      "source": [
        "Type:\n",
        "```python\n",
        "print('1 + 2 is an addition')\n",
        "```"
      ]
    },
    {
      "cell_type": "code",
      "execution_count": null,
      "metadata": {
        "id": "nTAeLp6wTJbC"
      },
      "outputs": [],
      "source": []
    },
    {
      "cell_type": "markdown",
      "metadata": {
        "id": "KT4uYdo8TJbC"
      },
      "source": [
        "You see that the `print` statement writes something on the screen.\n",
        "\n",
        "Try this:\n",
        "```python\n",
        "print('one kilobyte is 2^10 bytes, or', 2 ** 10, 'bytes')\n",
        "```"
      ]
    },
    {
      "cell_type": "code",
      "execution_count": null,
      "metadata": {
        "id": "cP1kcWGwTJbC"
      },
      "outputs": [],
      "source": []
    },
    {
      "cell_type": "markdown",
      "metadata": {
        "id": "wVHHa_FWTJbD"
      },
      "source": [
        "This demonstrates that you can print text and calculations in a sentence. The commas separating each section are a way of separating strings (text) from calculations or variable."
      ]
    },
    {
      "cell_type": "markdown",
      "metadata": {
        "id": "a_jlQv9BTJbD"
      },
      "source": [
        "Now try this:\n",
        "```python\n",
        "23 / 3\n",
        "```"
      ]
    },
    {
      "cell_type": "code",
      "execution_count": null,
      "metadata": {
        "id": "hDqoPxEqTJbD"
      },
      "outputs": [],
      "source": []
    },
    {
      "cell_type": "markdown",
      "metadata": {
        "id": "XXTngDyFTJbD"
      },
      "source": [
        "And this:<br>\n",
        "```python\n",
        "23 % 3\n",
        "```"
      ]
    },
    {
      "cell_type": "code",
      "execution_count": null,
      "metadata": {
        "id": "z2rHQiHqTJbD"
      },
      "outputs": [],
      "source": []
    },
    {
      "cell_type": "markdown",
      "metadata": {
        "id": "JOcCKbyyTJbD"
      },
      "source": [
        "`%` returns the remainder of the division."
      ]
    },
    {
      "cell_type": "markdown",
      "metadata": {
        "id": "Gr0tCvYSTJbD"
      },
      "source": [
        "## 1.3 Order of Operations"
      ]
    },
    {
      "cell_type": "markdown",
      "metadata": {
        "id": "u61LwsC3TJbD"
      },
      "source": [
        "Remember that thing called order of operation that they taught in maths? Well, it applies in Python, too. Here it is, if you need reminding:<br>\n",
        "1. Parenthesis `()`\n",
        "2. Exponents `**`\n",
        "3. Multiplication `*`, division `/` and remainder `%`\n",
        "4. Addition `+` and subtraction `-`"
      ]
    },
    {
      "cell_type": "markdown",
      "metadata": {
        "id": "JKwi3Qz6TJbD"
      },
      "source": [
        "Here are some examples that you might want to try, if you're rusty on this:<br>\n",
        "```python\n",
        "1 + 2 * 3\n",
        "(1 + 2) * 3\n",
        "```"
      ]
    },
    {
      "cell_type": "code",
      "execution_count": null,
      "metadata": {
        "id": "BUwxNAbMTJbD"
      },
      "outputs": [],
      "source": []
    },
    {
      "cell_type": "code",
      "execution_count": null,
      "metadata": {
        "id": "dM8b3XGPTJbD"
      },
      "outputs": [],
      "source": []
    },
    {
      "cell_type": "markdown",
      "metadata": {
        "id": "Ov0jRvnzTJbD"
      },
      "source": [
        "## 1.4 Comments, Please\n",
        "The final thing you'll need to know to move on to multi-line programs is the comment. Type the following (and yes, the output is shown):\n",
        "```python\n",
        "# I am a comment. Fear my wrath!\n",
        "```"
      ]
    },
    {
      "cell_type": "code",
      "execution_count": null,
      "metadata": {
        "id": "G9YUdSLwTJbD"
      },
      "outputs": [],
      "source": []
    },
    {
      "cell_type": "markdown",
      "metadata": {
        "id": "XzHzBzGBTJbD"
      },
      "source": [
        "A comment is a piece of code that is not run. In Python, you make something a comment by putting a hash in front of it. A hash comments everything after it in the line, and nothing before it. So you could type this:\n",
        "```python\n",
        "print(\"food is very nice\") #eat me\n",
        "```"
      ]
    },
    {
      "cell_type": "code",
      "execution_count": null,
      "metadata": {
        "id": "9ET5BpuGTJbD"
      },
      "outputs": [],
      "source": []
    },
    {
      "cell_type": "markdown",
      "metadata": {
        "id": "6avvfjDrTJbD"
      },
      "source": [
        "This results in a normal output, without the smutty comment, thank you very much.\n",
        "\n",
        "Now try this:\n",
        "```python\n",
        "# print(\"food is very nice\")\n",
        "```"
      ]
    },
    {
      "cell_type": "code",
      "execution_count": null,
      "metadata": {
        "id": "Zpw8OPUrTJbD"
      },
      "outputs": [],
      "source": []
    },
    {
      "cell_type": "markdown",
      "metadata": {
        "id": "yOCmJL1lTJbD"
      },
      "source": [
        "Nothing happens, because the code was after a comment."
      ]
    },
    {
      "cell_type": "markdown",
      "metadata": {
        "id": "_SS6YU8fTJbD"
      },
      "source": [
        "Comments are important for adding necessary information for another programmer to read, but not the computer. For example, an explanation of a section of code, saying what it does, or what is wrong with it. You can also comment bits of code by putting a `#` in front of it - if you don't want it to compile, but can't delete it because you might need it later."
      ]
    },
    {
      "cell_type": "markdown",
      "metadata": {
        "id": "d-bzXxZLYSj6"
      },
      "source": [
        "# 2. Variables and strings"
      ]
    },
    {
      "cell_type": "markdown",
      "metadata": {
        "id": "zaKTz35xYSj6"
      },
      "source": [
        "## 2.1 Variables\n",
        "Now let's start introducing variables. Variables store a value, that can be looked at or changed at a later time. Let's make a program that uses variables:"
      ]
    },
    {
      "cell_type": "code",
      "execution_count": null,
      "metadata": {
        "id": "Kka82lz_YSj6"
      },
      "outputs": [],
      "source": [
        "#variables demonstrated\n",
        "print(\"This program is a demo of variables\")\n",
        "v = 1\n",
        "print(\"The value of v is now\", v)\n",
        "v = v + 1\n",
        "print(\"v now equals itself plus one, making it worth\", v)\n",
        "v = 51\n",
        "print(\"v can store any numerical value, to be used elsewhere.\")\n",
        "print(\"for example, in a sentence. v is now worth\", v)\n",
        "print(\"v times 5 equals\", v * 5)\n",
        "print(\"but v still only remains\", v)\n",
        "print(\"to make v five times bigger, you would have to type v = v * 5\")\n",
        "v = v * 5\n",
        "print(\"there you go, now v equals\", v, \"and not\", v / 5)"
      ]
    },
    {
      "cell_type": "markdown",
      "metadata": {
        "id": "Oo70niUVYSj6"
      },
      "source": [
        "Run the script and try to understand the results."
      ]
    },
    {
      "cell_type": "markdown",
      "metadata": {
        "id": "kiLF7zSvYSj6"
      },
      "source": [
        "Note that we can also write `v = v + 1` as `v += 1`. This can be used for all operators (e.g. `-=`, `*=`,`/=`). Try it in the code above.\n",
        "\n",
        "It is good practice to use lowercase for variables. Don't use special characters and don't start with a number!"
      ]
    },
    {
      "cell_type": "markdown",
      "metadata": {
        "id": "9X8kfDo4YSj7"
      },
      "source": [
        "## 2.2 Strings\n",
        "As you can see, variables store values, for use at a later time. You can change them at any time. You can put in more than numbers, though. Variables can hold things like text. A variable that holds text is called a string. Try this program:"
      ]
    },
    {
      "cell_type": "code",
      "execution_count": null,
      "metadata": {
        "id": "aBIOQYLPYSj7"
      },
      "outputs": [],
      "source": [
        "#giving variables text, and adding text.\n",
        "word1 = \"Good\"\n",
        "word2 = \"morning\"\n",
        "word3 = \"to you too!\"\n",
        "print(word1, word2)\n",
        "sentence = word1 + \" \" + word2 + \" \" + word3\n",
        "print(sentence)"
      ]
    },
    {
      "cell_type": "markdown",
      "metadata": {
        "id": "2j4AYVThYSj7"
      },
      "source": [
        "As you see, the variables above were holding text. Variable names can also be longer than one letter - here, we had `word1`, `word2`, and `word3`. As you can also see, strings can be added together to make longer words or sentences. However, it doesn't add spaces in between the words - hence me putting in the `\" \"` things (there is one space between those).\n",
        "\n",
        "Often we need to manipulate strings. For example if we want to edit file names or make selections from text. Strings are similar to `lists` that you will learn later. So similar operations (called *list slicing*) apply to strings.\n",
        "\n",
        "Try the following code and explain what it does:"
      ]
    },
    {
      "cell_type": "code",
      "execution_count": null,
      "metadata": {
        "id": "b19bogDAYSj7"
      },
      "outputs": [],
      "source": [
        "text = \"abcdefghij\"\n",
        "len(text)"
      ]
    },
    {
      "cell_type": "markdown",
      "metadata": {
        "id": "ABy1gNWRYSj7"
      },
      "source": [
        "Yes, it shows us the amount of characters in a string.\n",
        "\n",
        "Now try this:"
      ]
    },
    {
      "cell_type": "code",
      "execution_count": null,
      "metadata": {
        "id": "E6Yb-wIVYSj7"
      },
      "outputs": [],
      "source": [
        "print(text[4])"
      ]
    },
    {
      "cell_type": "markdown",
      "metadata": {
        "id": "cRklS7wxYSj7"
      },
      "source": [
        "Here we want to print the character at position 4. Note that the first character \"a\" is at position 0! So position 4 gives us back \"e\".\n",
        "\n",
        "Now try:"
      ]
    },
    {
      "cell_type": "code",
      "execution_count": null,
      "metadata": {
        "id": "kZF1uEdbYSj7"
      },
      "outputs": [],
      "source": [
        "print(text[:4])"
      ]
    },
    {
      "cell_type": "code",
      "execution_count": null,
      "metadata": {
        "id": "KLYCir3IYSj7"
      },
      "outputs": [],
      "source": [
        "print(text[4:])"
      ]
    },
    {
      "cell_type": "markdown",
      "metadata": {
        "id": "Z-fw4ixnYSj7"
      },
      "source": [
        "Here you see that `[:4]` selects characters 0,1,2,3, which is \"abcd\". With `[4:]` we start with position 4 (counting from 0!) until the end of the string, which results in \"efghij\".\n",
        "\n",
        "We can also specify a range. Try this:"
      ]
    },
    {
      "cell_type": "code",
      "execution_count": null,
      "metadata": {
        "id": "RVjg85MrYSj7"
      },
      "outputs": [],
      "source": [
        "print(text[4:8])"
      ]
    },
    {
      "cell_type": "markdown",
      "metadata": {
        "id": "_wWV76j8YSj7"
      },
      "source": [
        "Now try this:"
      ]
    },
    {
      "cell_type": "code",
      "execution_count": null,
      "metadata": {
        "id": "uVVXtOjuYSj7"
      },
      "outputs": [],
      "source": [
        "print(text[-2])"
      ]
    },
    {
      "cell_type": "markdown",
      "metadata": {
        "id": "5zOrEEDiYSj7"
      },
      "source": [
        "What did it do?\n",
        "\n",
        "Right, you have selected the second character from the right! Note that here we start counting with -1 for the first character on the right.\n",
        "\n",
        "Try this:"
      ]
    },
    {
      "cell_type": "code",
      "execution_count": null,
      "metadata": {
        "id": "SbBoaJBiYSj7"
      },
      "outputs": [],
      "source": [
        "print(text[-4:])"
      ]
    },
    {
      "cell_type": "markdown",
      "metadata": {
        "id": "7lYHLFF1YSj7"
      },
      "source": [
        "In human language: start with the 4th character from the right and give me all characters from that position to the end of the string.\n",
        "\n",
        "Now try this and find out what it does:"
      ]
    },
    {
      "cell_type": "code",
      "execution_count": null,
      "metadata": {
        "id": "9Z0RBzYPYSj7"
      },
      "outputs": [],
      "source": [
        "print(text[::2])"
      ]
    },
    {
      "cell_type": "markdown",
      "metadata": {
        "id": "GwnevttbYSj7"
      },
      "source": [
        "We can also add the results of the *list slicing* to variables and insert this into strings using the format operation:"
      ]
    },
    {
      "cell_type": "code",
      "execution_count": null,
      "metadata": {
        "id": "sJ_hb_5xYSj7"
      },
      "outputs": [],
      "source": [
        "nrOfCharacters = len(sentence)\n",
        "lastWord = sentence[-4:-1]\n",
        "print(\"The sentence has {} characters and the last word is: {}\".format(nrOfCharacters,lastWord))"
      ]
    },
    {
      "cell_type": "markdown",
      "metadata": {
        "id": "Csr0O8n-YSj7"
      },
      "source": [
        "So you can easily insert variables at the places of the accolades (`{}`). They will be substituted in the same order of the variables in `.format()`"
      ]
    },
    {
      "cell_type": "markdown",
      "metadata": {
        "id": "x9PpVDgAYSj8"
      },
      "source": [
        "This can also be written as:"
      ]
    },
    {
      "cell_type": "code",
      "execution_count": null,
      "metadata": {
        "id": "LM_mf__NYSj8"
      },
      "outputs": [],
      "source": [
        "print(f\"The sentence has {nrOfCharacters} characters and the last word is: {lastWord}\")"
      ]
    },
    {
      "cell_type": "markdown",
      "metadata": {
        "id": "XgDruG6PYSj8"
      },
      "source": [
        "Besides *list slicing* there are also other operations that we can apply to strings.\n",
        "We can count the number of occurences of a specific character in a string:"
      ]
    },
    {
      "cell_type": "code",
      "execution_count": null,
      "metadata": {
        "id": "FNCeq6aoYSj8"
      },
      "outputs": [],
      "source": [
        "print(sentence.count('o'))"
      ]
    },
    {
      "cell_type": "markdown",
      "metadata": {
        "id": "2936v27yYSj8"
      },
      "source": [
        "We can also find the position of character:"
      ]
    },
    {
      "cell_type": "code",
      "execution_count": null,
      "metadata": {
        "id": "08A--gNHYSj8"
      },
      "outputs": [],
      "source": [
        "print(text.find('e'))"
      ]
    },
    {
      "cell_type": "code",
      "execution_count": null,
      "metadata": {
        "id": "PyDwiJbDYSj8"
      },
      "outputs": [],
      "source": [
        "sometext = \"Hey you, how are you doing?\"\n",
        "print(sometext.rfind(\"you\"))"
      ]
    },
    {
      "cell_type": "markdown",
      "metadata": {
        "id": "uzpA8pxwYSj8"
      },
      "source": [
        "`rfind` returns the lasts occurance of a string. So in `sometext` we have the word \"you\" twice. `rfind` returns `17` meaning that the last time that it found \"you\" is starting at position 17 (counting from 0).\n",
        "\n",
        "There are a few other useful string operations. Run the code below and will be obvious what it does:"
      ]
    },
    {
      "cell_type": "code",
      "execution_count": null,
      "metadata": {
        "id": "72TKKtxKYSj8"
      },
      "outputs": [],
      "source": [
        "# Changes the string to upper case\n",
        "print(sometext.upper())\n",
        "\n",
        "# Splits the string on a character and returns it as list items. You'll learn about lists later\n",
        "print(sometext.split(\",\"))\n",
        "\n",
        "# Replaces strings\n",
        "print(sometext.replace(\"?\",\"!\"))"
      ]
    },
    {
      "cell_type": "markdown",
      "metadata": {
        "id": "I60H3TKrYSj8"
      },
      "source": [
        "There are also some special characters:\n",
        "\n",
        "`\\n` jumps to a new line\n",
        "\n",
        "Examples:"
      ]
    },
    {
      "cell_type": "code",
      "execution_count": null,
      "metadata": {
        "id": "Aa5-Cmc3YSj8"
      },
      "outputs": [],
      "source": [
        "print(\"This is a very long sentence and I want to split it into two lines.\")\n",
        "print(\"This is a very long sentence\\nand I want to split it into two lines.\")"
      ]
    },
    {
      "cell_type": "markdown",
      "metadata": {
        "id": "CDDaGXahZZtW"
      },
      "source": [
        "# 3. Loops, Loops, Loops, Loops...\n",
        "## 3.1 Introduction\n",
        "(Our final lesson before we get into interacting with human input. Can't wait, can you?)\n",
        "\n",
        "Just imagine you needed a program to do something 20 times. What would you do? You could copy and paste the code 20 times, and have a virtually unreadable program, not to mention slow and pointless. Or, you could tell the computer to repeat a bit of code between point A and point B, until the time comes that you need it to stop. Such a thing is called a loop.\n",
        "\n",
        "## 3.2 The 'While' loop\n",
        "The following are examples of a type of loop, called the 'while' loop:\n"
      ]
    },
    {
      "cell_type": "code",
      "execution_count": null,
      "metadata": {
        "id": "E1G1E6BbZZtW"
      },
      "outputs": [],
      "source": [
        "a = 0\n",
        "while a < 10:\n",
        "    a = a + 1\n",
        "    print(a)"
      ]
    },
    {
      "cell_type": "markdown",
      "metadata": {
        "id": "rkeg4C8uZZtX"
      },
      "source": [
        "Now try to understand this example and run to see if it is what you expected."
      ]
    },
    {
      "cell_type": "code",
      "execution_count": null,
      "metadata": {
        "id": "_ZaFK218ZZtX"
      },
      "outputs": [],
      "source": [
        "x = 10\n",
        "while x != 0:\n",
        "    print(x)\n",
        "    x = x - 1\n",
        "    print(\"wow, we've counted x down, and now it equals\", x)\n",
        "print(\"And now the loop has ended.\")"
      ]
    },
    {
      "cell_type": "markdown",
      "metadata": {
        "id": "Jy8cdIG7ZZtX"
      },
      "source": [
        "| Expression | Function  |\n",
        "|   :---:    |   :---:   |\n",
        "|    `<`     | Less than |\n",
        "| `<=` | Less than or equal to |\n",
        "| `>` | Greater than |\n",
        "| `>=` | Greater than or equal to |\n",
        "| `!=` | Not equal to |\n",
        "| `==` | Equal to |\n",
        "\n",
        "Don't get `=` and `==` mixed up - the `=` operator makes what is on the left equal to what is on the right. the `==` operator says whether the thing on the left is the same as what is on the right, and returns True or False."
      ]
    },
    {
      "cell_type": "markdown",
      "metadata": {
        "id": "QiaMyByFZZtX"
      },
      "source": [
        "## 3.4 Conditional Statements\n",
        "OK! We've (hopefully) covered 'while' loops. Now let's look at something a little different - conditionals.<br>\n",
        "Conditionals are where a section of code is only run if certain conditions are met. This is similar to the 'while' loop you just wrote, which only runs when x doesn't equal 0. However, Conditionals are only run once. The most common conditional in any program language, is the 'if' statement. Here is how it works:<br>\n",
        "```\n",
        "if {conditions to be met}:\n",
        "    {do this}\n",
        "    {and this}\n",
        "    {and this}\n",
        "{but this happens regardless}\n",
        "{because it isn't indented}\n",
        "```\n",
        "<br>\n",
        "Now some examples in Python:"
      ]
    },
    {
      "cell_type": "code",
      "execution_count": null,
      "metadata": {
        "id": "gLOWif4DZZtX"
      },
      "outputs": [],
      "source": [
        "#EXAMPLE 1\n",
        "y = 1\n",
        "if y == 1:\n",
        "    print(\"y still equals 1, I was just checking\")"
      ]
    },
    {
      "cell_type": "code",
      "execution_count": null,
      "metadata": {
        "id": "ex-lZUXiZZtX"
      },
      "outputs": [],
      "source": [
        "#EXAMPLE 2\n",
        "print(\"We will show the even numbers up to 20\")\n",
        "n = 1\n",
        "while n <= 20:\n",
        "    if n % 2 == 0:\n",
        "        print(n)\n",
        "    n = n + 1\n",
        "print(\"there, done.\")"
      ]
    },
    {
      "cell_type": "markdown",
      "metadata": {
        "id": "9_MbQm3-ZZtX"
      },
      "source": [
        "Example 2 there looks tricky. But all we have done is run an `if` statement every time the `while` loop runs. Remember that the `%` just means the remainder from a division - just checking that there is nothing left over if the number is divided by two - showing it is even. If it is even, it prints what `n` is."
      ]
    },
    {
      "cell_type": "markdown",
      "metadata": {
        "id": "GLE0TKaAZZtX"
      },
      "source": [
        "## 3.5 `else` and `elif` - When it Ain't True\n",
        "There are many ways you can use the `if` statement to deal with situations where your boolean expression ends up FALSE. They are `else` and `elif`.<br>\n",
        "`else` simply tells the computer what to do if the conditions of `if` aren't met. For example, read the following:"
      ]
    },
    {
      "cell_type": "code",
      "execution_count": null,
      "metadata": {
        "id": "nE2w8tozZZtX"
      },
      "outputs": [],
      "source": [
        "a = 1\n",
        "if a > 5:\n",
        "    print(\"This shouldn't happen.\")\n",
        "else:\n",
        "    print(\"This should happen.\")"
      ]
    },
    {
      "cell_type": "markdown",
      "metadata": {
        "id": "aCBBOIiXZZtX"
      },
      "source": [
        "`a` is not greater than five, therefore what is under `else` is done.\n",
        "\n",
        "`elif` is just a shortened way of saying `else if`. When the `if` statement fails to be true, `elif` will do what is under it IF the conditions are met. For example:"
      ]
    },
    {
      "cell_type": "code",
      "execution_count": null,
      "metadata": {
        "id": "IFmrM-ZuZZtX"
      },
      "outputs": [],
      "source": [
        "z = 4\n",
        "if z > 70:\n",
        "    print(\"Something is very wrong\")\n",
        "elif z < 7:\n",
        "    print(\"This is normal\")"
      ]
    },
    {
      "cell_type": "markdown",
      "metadata": {
        "id": "d55WsD20ZZtX"
      },
      "source": [
        "The `if` statement, along with `else` and `elif` follow this form:\n",
        "```Python\n",
        "if {conditions}:\n",
        "    {run this code}\n",
        "elif {conditions}:\n",
        "    {run this code}\n",
        "elif {conditions}:\n",
        "    {run this code}\n",
        "else:\n",
        "    {run this code}\n",
        "#You can have as many or as little elif statements as you need\n",
        "#anywhere from zero to the sky.\n",
        "#You can have at most one else statement\n",
        "#and only after all other ifs and elifs.\n",
        "```"
      ]
    },
    {
      "cell_type": "markdown",
      "metadata": {
        "id": "08c5MfRnZZtX"
      },
      "source": [
        "***One of the most important points to remember is that you MUST have a colon `:` at the end of every line with an `if`, `elif`, `else` or `while` in it.***"
      ]
    },
    {
      "cell_type": "markdown",
      "metadata": {
        "id": "6DoBzNByZZtX"
      },
      "source": [
        "## 3.6 Indentation\n",
        "One other point is that the code to be executed if the conditions are met, MUST BE INDENTED. That means that if you want to loop the next five lines with a `while` loop, you must put a set number of spaces at the beginning of each of the next five lines. This is good programming practice in any language, but Python requires that you do it. Here is an example of both of the above points:"
      ]
    },
    {
      "cell_type": "code",
      "execution_count": null,
      "metadata": {
        "id": "_3ZvV7s1ZZtY"
      },
      "outputs": [],
      "source": [
        "a = 10\n",
        "while a > 0:\n",
        "    print(a)\n",
        "    if a > 5:\n",
        "        print(\"Big number!\")\n",
        "    elif a % 2 != 0:\n",
        "        print(\"This is an odd number\")\n",
        "        print(\"It isn't greater than five, either\")\n",
        "    else:\n",
        "        print(\"this number isn't greater than 5\")\n",
        "        print(\"nor is it odd\")\n",
        "        print(\"feeling special?\")\n",
        "    a = a - 1\n",
        "    print(\"we just made 'a' one less than what it was!\")\n",
        "    print(\"and unless a is not greater than 0, we'll do the loop again.\")\n",
        "print(\"well, it seems as if 'a' is now no bigger than 0!\")\n",
        "print(\"the loop is now over, and without furthur adue, so is this program!\")"
      ]
    },
    {
      "cell_type": "markdown",
      "metadata": {
        "id": "iOXiK8GcZZtY"
      },
      "source": [
        "Notice the three levels of indents there:\n",
        "1. Each line in the first level starts with no spaces. It is the main program, and will always execute.\n",
        "2. Each line in the second level starts with four spaces. When there is an `if` or loop on the first level, everything on the second level after that will be looped/'ifed', until a new line starts back on the first level again.\n",
        "3.\tEach line in the third level starts with eight spaces. When there is an `if` or loop on the second level, everything on the third level after that will be looped/'ifed', until a new line starts back on the second level again.\n",
        "4.\tThis goes on infinitely, until the person writing the program has an internal brain explosion, and cannot understand anything he/she has written."
      ]
    },
    {
      "cell_type": "markdown",
      "metadata": {
        "id": "4Px4qI2Nb6fo"
      },
      "source": [
        "# 4.\tLists, Tuples, and Dictionaries"
      ]
    },
    {
      "cell_type": "markdown",
      "metadata": {
        "id": "Qu8MmsvIb6fo"
      },
      "source": [
        "Lists, Tuples, and Dictionaries store long information.\n",
        "\n",
        "* **Lists** are what they seem - a list of values. Each one of them is numbered, starting from zero - the first one is numbered zero, the second 1, the third 2, etc. You can remove values from the list, and add new values to the end. Example: Your many cats' names.\n",
        "* **Tuples** are just like lists, but you can't change their values. The values that you give it first up, are the values that you are stuck with for the rest of the program. Again, each value is numbered starting from zero, for easy reference. Example: the names of the months of the year.\n",
        "* **Dictionaries** are similar to what their name suggests - a dictionary. In a dictionary, you have an 'index' of words, and for each of them a definition. In Python, the word is called a 'key', and the definition a 'value'. The values in a dictionary aren't numbered - they aren't in any specific order, either - the key does the same thing. You can add, remove, and modify the values in dictionaries. Example: telephone book."
      ]
    },
    {
      "cell_type": "markdown",
      "metadata": {
        "id": "qxZyL5Whb6fo"
      },
      "source": [
        "## 4.1. Tuples\n",
        "Tuples are pretty easy to make. You give your tuple a name, then after that the list of values it will carry. For example, the months of the year:"
      ]
    },
    {
      "cell_type": "code",
      "execution_count": null,
      "metadata": {
        "id": "hN4C-EPMb6fp"
      },
      "outputs": [],
      "source": [
        "months = ('January','February','March','April','May','June',\\\n",
        "'July','August','September','October','November','  December')"
      ]
    },
    {
      "cell_type": "markdown",
      "metadata": {
        "id": "sWvlxz9gb6fp"
      },
      "source": [
        "* Note that the `\\` thingy at the end of the first line carries over that line of code to the next line. It is useful way of making big lines more readable.\n",
        "* Technically you don't have to put those parentheses there (the `(` and `)` thingies) but it stops Python from getting things confused.\n",
        "* You may have spaces after the commas if you feel it necessary - it doesn't really matter"
      ]
    },
    {
      "cell_type": "markdown",
      "source": [
        "Length of months"
      ],
      "metadata": {
        "id": "qZzxHVkvfRiY"
      }
    },
    {
      "cell_type": "code",
      "source": [
        "len(months)"
      ],
      "metadata": {
        "id": "y4f90KghfGIu"
      },
      "execution_count": null,
      "outputs": []
    },
    {
      "cell_type": "markdown",
      "metadata": {
        "id": "iTcqUiNPb6fp"
      },
      "source": [
        "Python then organises those values in a handy, numbered index - starting from zero, in the order that you entered them in. It would be organised like this:<br>\n",
        "\n",
        "| Index | Value |\n",
        "| :---: | :---: |\n",
        "| 0 | January |\n",
        "| 1 | February |\n",
        "| 2 | March |\n",
        "| 3 | April |\n",
        "| 4 | May |\n",
        "| 5 | June |\n",
        "| 6 | July |\n",
        "| 7 | August |\n",
        "| 8 | September |\n",
        "| 9 | October |\n",
        "| 10 | November |\n",
        "| 11 | December |\n",
        "And that is tuples! Really easy..."
      ]
    },
    {
      "cell_type": "markdown",
      "metadata": {
        "id": "l4XTsYrKb6fp"
      },
      "source": [
        "## 4.2. Lists\n",
        "Lists are extremely similar to tuples. Lists are modifiable (or 'mutable', as a programmer may say), so their values can be changed. Most of the time we use lists, not tuples, because we want to easily change the values of things if we need to.\n",
        "\n",
        "Lists are defined very similarly to tuples. Say you have FIVE cats, called Tom, Snappy, Kitty, Jessie and Chester. To put them in a list, you would do this:<br>"
      ]
    },
    {
      "cell_type": "code",
      "execution_count": null,
      "metadata": {
        "id": "RUSCTF0Cb6fp"
      },
      "outputs": [],
      "source": [
        "cats = ['Tom', 'Snappy', 'Kitty', 'Jessie', 'Chester']"
      ]
    },
    {
      "cell_type": "markdown",
      "metadata": {
        "id": "YHmzbAZLb6fq"
      },
      "source": [
        "As you see, the code is exactly the same as a tuple, EXCEPT that all the values are put between square brackets, not parentheses. Again, you don't have to have spaces after the comma.\n",
        "\n",
        "You recall values from lists exactly the same as you do with tuples. For example, to print the name of your 3rd cat you would do this:"
      ]
    },
    {
      "cell_type": "code",
      "execution_count": null,
      "metadata": {
        "id": "w3hDGtJeb6fq"
      },
      "outputs": [],
      "source": [
        "print(cats[2])"
      ]
    },
    {
      "cell_type": "markdown",
      "metadata": {
        "id": "ZNytyVPmb6fq"
      },
      "source": [
        "You can also recall a range of examples, like above, for example - `cats[0:2]` would recall your 1st and 2nd cats. Try it in the field above.\n",
        "\n",
        "Where lists come into their own is how they can be modified. To add a value to a list, you use the `append()` function. Let's say you got a new cat called Catherine. To add her to the list you'd do this:"
      ]
    },
    {
      "cell_type": "code",
      "execution_count": null,
      "metadata": {
        "id": "_7_8ykVyb6fq"
      },
      "outputs": [],
      "source": [
        "cats.append('Catherine')"
      ]
    },
    {
      "cell_type": "markdown",
      "metadata": {
        "id": "1lZSE4g5b6fq"
      },
      "source": [
        "Use the field below to check if the cat has been added to the list."
      ]
    },
    {
      "cell_type": "code",
      "execution_count": null,
      "metadata": {
        "id": "UeaKl2LJb6fq"
      },
      "outputs": [],
      "source": []
    },
    {
      "cell_type": "markdown",
      "metadata": {
        "id": "C5qzd47Wb6fq"
      },
      "source": [
        "That's a little weird, isn't it? I'll explain. That function is in a funny spot - after a period `.` after the list name. You'll get to see those things more in a later lesson. For the meanwhile, this is the form of the function that adds a new value to a list:\n",
        "```Python\n",
        "#add a new value to the end of a list:\n",
        "list_name.append(value-to-add)\n",
        "\n",
        "#e.g. to add the number 5038 to the list 'numbers':\n",
        "numbers.append(5038)\n",
        "```\n",
        "\n",
        "Clears things up? Good!\n",
        "Now to a sad situation - Snappy was shot by a neighbour, and eaten for their dinner (good on 'em!). You need to remove him (or her) from the list. Removing that sorry cat is an easy task, thankfully, so you have to wallow in sadness for as short a time as possible:"
      ]
    },
    {
      "cell_type": "code",
      "execution_count": null,
      "metadata": {
        "id": "aWkY_EZkb6fq"
      },
      "outputs": [],
      "source": [
        "#Remove your 2nd cat, Snappy. Woe is you.\n",
        "del cats[1]"
      ]
    },
    {
      "cell_type": "markdown",
      "metadata": {
        "id": "zVzuSjUXb6fq"
      },
      "source": [
        "Check again which cats are in the list:"
      ]
    },
    {
      "cell_type": "code",
      "execution_count": null,
      "metadata": {
        "id": "fAk4bu3Zb6fq"
      },
      "outputs": [],
      "source": []
    },
    {
      "cell_type": "markdown",
      "metadata": {
        "id": "g5spdWSTb6fq"
      },
      "source": [
        "You've just removed the 2nd cat in your list - poor old Snappy.\n",
        "And with that morbid message, lets move on to..."
      ]
    },
    {
      "cell_type": "markdown",
      "source": [
        "Length of cats"
      ],
      "metadata": {
        "id": "ffjFbapDfPKD"
      }
    },
    {
      "cell_type": "code",
      "source": [
        "len(cats)"
      ],
      "metadata": {
        "id": "Cbr8Tq1nfKFy"
      },
      "execution_count": null,
      "outputs": []
    },
    {
      "cell_type": "markdown",
      "metadata": {
        "id": "n-mOD8dHb6fq"
      },
      "source": [
        "## 4.3. Dictionaries\n",
        "Okay, so there is more to life than the names of your cats. You need to call your sister, mother, son, the fruit man, and anyone else who needs to know that their favourite cat is dead. For that you need a telephone book.\n",
        "\n",
        "Now, the lists we've used above aren't really suitable for a telephone book. You need to know a number based on someone's name - not the other way around, like what we did with the cats. In the examples of months and cats, we gave the computer a number, and it gave us a name. This time we want to give the computer a name, and it gives us a number. For this we need *Dictionaries*.\n",
        "\n",
        "So how do we make a dictionary? Put away your binding equipment, it isn't that advanced.\n",
        "Remember, dictionaries have keys, and values. In a phone book, you have people's names, then their numbers. See a similarity?\n",
        "\n",
        "When you initially create a dictionary, it is very much like making a tuple or list. Tuples have `(` and `)` things, lists have `[` and `]` things. Guess what! Dictionaries have `{` and `}` things - curly braces. Here is an example below, showing a dictionary with four phone numbers in it:"
      ]
    },
    {
      "cell_type": "code",
      "execution_count": null,
      "metadata": {
        "id": "IHIjD609b6fq"
      },
      "outputs": [],
      "source": [
        "#Make the phone book:\n",
        "phonebook = {'Andrew Parson':8806336, \\\n",
        "'Emily Everett':6784346, 'Peter Power':7658344, \\\n",
        "'Lewis Lame':1122345}\n",
        "print(phonebook['Lewis Lame'])"
      ]
    },
    {
      "cell_type": "markdown",
      "metadata": {
        "id": "8z3SkM3Fb6fq"
      },
      "source": [
        "When you run it you see that Lewis Lame's number is printed onscreen. Notice how instead of identifying the value by a number, like in the cats and months examples, we identify the value, using another value - in this case the person's name.\n",
        "\n",
        "Ok, you've created a new phone book. Now you want to add new numbers to the book. What do you do? A very simple line of code:"
      ]
    },
    {
      "cell_type": "code",
      "execution_count": null,
      "metadata": {
        "id": "9vTvAQzeb6fr"
      },
      "outputs": [],
      "source": [
        "#Add the person 'Gingerbread Man' to the phonebook:\n",
        "\n",
        "phonebook['Gingerbread Man'] = 1234567\n",
        "\n",
        "# Didn't think I would give you\n",
        "# my real number now, would I?"
      ]
    },
    {
      "cell_type": "markdown",
      "metadata": {
        "id": "eGAurd-gb6fr"
      },
      "source": [
        "All that line is saying is that there is a person called Gingerbread Man in the phone book, and his number is `1234567`. In other words - the key is `Gingerbread Man`, and the value is `1234567`."
      ]
    },
    {
      "cell_type": "markdown",
      "metadata": {
        "id": "DiQ7yi7Fb6fr"
      },
      "source": [
        "Check if it's added using the field below."
      ]
    },
    {
      "cell_type": "code",
      "execution_count": null,
      "metadata": {
        "id": "5NFfJi4Mb6fr"
      },
      "outputs": [],
      "source": []
    },
    {
      "cell_type": "markdown",
      "metadata": {
        "id": "UHzLyVggb6fr"
      },
      "source": [
        "You delete entries in a dictionary just like in a list. Let's say Andrew Parson is your neighbour, and shot your cat. You never want to talk to him again, and therefore don't need his number. Just like in a list, you'd do this:"
      ]
    },
    {
      "cell_type": "code",
      "execution_count": null,
      "metadata": {
        "id": "URT96XU8b6fr"
      },
      "outputs": [],
      "source": [
        "del phonebook['Andrew Parson']"
      ]
    },
    {
      "cell_type": "markdown",
      "metadata": {
        "id": "Ncy20PRkb6fr"
      },
      "source": [
        "Again, very easy. the `del` operator deletes any function, variable, or entry in a list or dictionary (An entry in a dictionary is just a variable with a number or text string as a name. This comes in handy later on.)"
      ]
    },
    {
      "cell_type": "markdown",
      "metadata": {
        "id": "9Pv2o-Fpb6fr"
      },
      "source": [
        "Check if the number is gone using the field below."
      ]
    },
    {
      "cell_type": "code",
      "execution_count": null,
      "metadata": {
        "id": "oaZ-Wy2Ub6fr"
      },
      "outputs": [],
      "source": []
    },
    {
      "cell_type": "markdown",
      "source": [
        "Length of phonebook"
      ],
      "metadata": {
        "id": "1Jpv73e0fNFj"
      }
    },
    {
      "cell_type": "code",
      "source": [
        "len(phonebook)"
      ],
      "metadata": {
        "id": "_z3iXcWHfL4D"
      },
      "execution_count": null,
      "outputs": []
    },
    {
      "cell_type": "markdown",
      "metadata": {
        "id": "pbiuVDGUdZr-"
      },
      "source": [
        "# 5. For Loop\n",
        "## 5.1 The `for` Loop\n",
        "Basically, the `for` loop does something for every value in a list. The way it is set out is a little confusing, but otherwise is very basic. Here is an example of it in code:"
      ]
    },
    {
      "cell_type": "code",
      "execution_count": null,
      "metadata": {
        "id": "jB-ciTISdZr-"
      },
      "outputs": [],
      "source": [
        "# Example 'for' loop\n",
        "# First, create a list to loop through:\n",
        "newList = [45, 'eat me', 90210, \"The day has come, the walrus said, \\\n",
        "to speak of many things\", -67]\n",
        "\n",
        "# create the loop:\n",
        "# Goes through newList, and sequentially puts each bit of information\n",
        "# into the variable value, and runs the loop\n",
        "for value in newList:\n",
        "    print(value)"
      ]
    },
    {
      "cell_type": "markdown",
      "metadata": {
        "id": "hOxXGp3ldZr_"
      },
      "source": [
        "As you see, when the loop executes, it runs through all of the values in the list mentioned after `in`. It then puts them into `value`, and executes through the loop, each time with value being worth something different. Let's see it again, in a classic cheerleading call that we all know:"
      ]
    },
    {
      "cell_type": "code",
      "execution_count": null,
      "metadata": {
        "id": "tk2nJirIdZr_"
      },
      "outputs": [],
      "source": [
        "# cheerleading program\n",
        "word = input(\"Who do you go for? \")\n",
        "\n",
        "for letter in word:\n",
        "    call = \"Gimme a \" + letter + \"!\"\n",
        "    print(call)\n",
        "    print(letter + \"!\")\n",
        "\n",
        "print(\"What does that spell?\")\n",
        "print(word + \"!\")"
      ]
    },
    {
      "cell_type": "markdown",
      "metadata": {
        "id": "eJsRlRZEdZr_"
      },
      "source": [
        "A couple of things you've just learnt:\n",
        "* As you see, strings (remember - strings are lines of text) are just lists with lots of characters.\n",
        "* The program went through each of the letters (or values) in word, and it printed them onscreen.<br>"
      ]
    },
    {
      "cell_type": "markdown",
      "metadata": {
        "id": "PVhaL0LidZr_"
      },
      "source": [
        "And that is all there is to the for loop."
      ]
    },
    {
      "cell_type": "code",
      "source": [
        "for i in range(10):\n",
        "    print(i)"
      ],
      "metadata": {
        "id": "6fuFgzHIeIKf"
      },
      "execution_count": null,
      "outputs": []
    },
    {
      "cell_type": "markdown",
      "source": [
        "# 6. Functions"
      ],
      "metadata": {
        "id": "FHgGRZCvcn0l"
      }
    },
    {
      "cell_type": "markdown",
      "source": [
        "## 6.1. Define your own functions"
      ],
      "metadata": {
        "id": "bsw7BZQObMCY"
      }
    },
    {
      "cell_type": "markdown",
      "metadata": {
        "id": "jZ3DHicTaeNi"
      },
      "source": [
        "A function is like a miniature program that some parameters are given to - it then runs itself, and then returns a value. Your main program sees only the returned value.\n",
        "\n",
        "Because it is a separate program, a function doesn't see any of the variables that are in your main program, and your main program doesn't see any of the variables that are in a function. For example, here is a function that prints the words `\"hello\"` onscreen, and then returns the number `'1234'` to the main program:"
      ]
    },
    {
      "cell_type": "code",
      "execution_count": null,
      "metadata": {
        "id": "h3XataDxaeNi"
      },
      "outputs": [],
      "source": [
        "# Below is the function\n",
        "def hello():\n",
        "    print(\"hello\")\n",
        "    return 1234\n",
        "\n",
        "# And here is the function being used\n",
        "print(hello())"
      ]
    },
    {
      "cell_type": "markdown",
      "metadata": {
        "id": "0zPhOIsmaeNi"
      },
      "source": [
        "So what happened?\n",
        "1.\twhen `def hello()` was run, a function called `hello` was created\n",
        "2.\tWhen the line `print(hello())` was run, the function `hello` was executed (The code inside it was run)\n",
        "3.\tThe function `hello` printed `\"hello\"` onscreen, then returned the number `1234` back to the main program\n",
        "4.\tThe main program now sees the line as `print(\"1234\")` and as a result, printed `1234`"
      ]
    },
    {
      "cell_type": "markdown",
      "metadata": {
        "id": "11g_nzJzaeNi"
      },
      "source": [
        "That accounts for everything that happened. Remember, that the main program had NO IDEA that the words `hello` were printed onscreen. All it saw was `1234`, and printed that onscreen."
      ]
    },
    {
      "cell_type": "markdown",
      "metadata": {
        "id": "FHp556zzaeNi"
      },
      "source": [
        "## 6.2 Passing Parameters to functions"
      ]
    },
    {
      "cell_type": "code",
      "execution_count": null,
      "metadata": {
        "id": "6bPrsHEhaeNi"
      },
      "outputs": [],
      "source": [
        "def funnyfunction(first_word,second_word,third_word):\n",
        "    print(\"The word created is: \" + first_word + second_word + third_word)\n",
        "    return first_word + second_word + third_word"
      ]
    },
    {
      "cell_type": "markdown",
      "metadata": {
        "id": "bkdgtIfOaeNi"
      },
      "source": [
        "When you run the function above, you would type in something like this: `funnyfunction(\"meat\",\"eater\",\"man\")`. The first value (that is, \"meat\") would be put into the variable called first_word. The second value inside the brackets (that is, \"eater\") would be put into the variable called second_word, and so on. This is how values are passed from the main program to functions - inside the parentheses, after the function name.\n",
        "\n",
        "Add a new line to the script above that invokes the function."
      ]
    },
    {
      "cell_type": "code",
      "source": [],
      "metadata": {
        "id": "51_cEXWpbZVV"
      },
      "execution_count": null,
      "outputs": []
    },
    {
      "cell_type": "markdown",
      "source": [
        "## 6.3. Using a function in the library"
      ],
      "metadata": {
        "id": "jO6RFeX1eYsG"
      }
    },
    {
      "cell_type": "code",
      "source": [
        "import numpy as np\n",
        "\n",
        "print(np.log(5))"
      ],
      "metadata": {
        "id": "imqKUIhzebLf"
      },
      "execution_count": null,
      "outputs": []
    },
    {
      "cell_type": "markdown",
      "metadata": {
        "id": "BlTJHSSXmwXR"
      },
      "source": [
        "# 7. Classes\n",
        "\n",
        "If you want to write a program that compares the areas of two squares...\n",
        "\n",
        "![image.png](data:image/png;base64,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)"
      ]
    },
    {
      "cell_type": "code",
      "source": [
        "square1_point1 = (0, 0)\n",
        "square1_point2 = (1, 1)\n",
        "square2_point1 = (1, 1)\n",
        "square2_point2 = (2, 3)"
      ],
      "metadata": {
        "id": "AFJ8uHKs7Jen"
      },
      "execution_count": 2,
      "outputs": []
    },
    {
      "cell_type": "markdown",
      "source": [
        "Do without function"
      ],
      "metadata": {
        "id": "aSMdW2mQ8EZx"
      }
    },
    {
      "cell_type": "code",
      "source": [
        "area1 = (square1_point2[0] - square1_point1[0]) * (square1_point2[1] - square1_point1[1])\n",
        "area2 = (square2_point2[0] - square2_point1[0]) * (square2_point2[1] - square2_point1[1])\n",
        "if area1 > area2:\n",
        "    print('square1 is bigger')\n",
        "elif area1 < area2:\n",
        "    print('square2 is bigger')\n",
        "else:\n",
        "    print('square1 and square2 have the same size')"
      ],
      "metadata": {
        "id": "H2hWbBa48Fa2",
        "outputId": "a9fce43c-c15c-4d45-e3f5-b9141134fc7f",
        "colab": {
          "base_uri": "https://localhost:8080/"
        }
      },
      "execution_count": 5,
      "outputs": [
        {
          "output_type": "stream",
          "name": "stdout",
          "text": [
            "square2 is bigger\n"
          ]
        }
      ]
    },
    {
      "cell_type": "markdown",
      "source": [
        "Using function"
      ],
      "metadata": {
        "id": "Vh9GkITz79CK"
      }
    },
    {
      "cell_type": "code",
      "source": [
        "def area(point1,point2):\n",
        "    return (point2[0] - point1[0]) * (point2[1] - point1[1])\n",
        "\n",
        "def compare(area1, area2):\n",
        "    if area1 > area2:\n",
        "        print('square1 is bigger')\n",
        "    elif area1 < area2:\n",
        "        print('square2 is bigger')\n",
        "    else:\n",
        "        print('square1 and square2 have the same size')\n",
        "\n",
        "square1_point1 = (0, 0)\n",
        "square1_point2 = (1, 1)\n",
        "square2_point1 = (1, 1)\n",
        "square2_point2 = (2, 3)\n",
        "\n",
        "area1 = area(square1_point1, square1_point2)\n",
        "area2 = area(square2_point1, square2_point2)\n",
        "compare(area1, area2)"
      ],
      "metadata": {
        "id": "kpUWVR6x74yh",
        "outputId": "95f9f2ff-a8ea-41d8-80a2-f73a0e615191",
        "colab": {
          "base_uri": "https://localhost:8080/"
        }
      },
      "execution_count": 6,
      "outputs": [
        {
          "output_type": "stream",
          "name": "stdout",
          "text": [
            "square2 is bigger\n"
          ]
        }
      ]
    },
    {
      "cell_type": "markdown",
      "source": [
        "Using class"
      ],
      "metadata": {
        "id": "kn8r3oB993Dr"
      }
    },
    {
      "cell_type": "code",
      "source": [
        "class Square:\n",
        "    def __init__(self,point1,point2):\n",
        "        self.point1 = point1\n",
        "        self.point2 = point2\n",
        "    def area(self):\n",
        "        return (self.point2[0] - self.point1[0]) * (self.point2[1] - self.point1[1])\n",
        "\n",
        "def compare(area1, area2):\n",
        "    if area1 > area2:\n",
        "        print('square1 is bigger')\n",
        "    elif area1 < area2:\n",
        "        print('square2 is bigger')\n",
        "    else:\n",
        "        print('square1 and square2 have the same size')\n",
        "\n",
        "square1_point1 = (0, 0)\n",
        "square1_point2 = (1, 1)\n",
        "square2_point1 = (1, 1)\n",
        "square2_point2 = (2, 3)\n",
        "\n",
        "square1 = Square(square1_point1, square1_point2)\n",
        "square2 = Square(square2_point1, square2_point2)\n",
        "\n",
        "compare(square1.area(), square2.area())"
      ],
      "metadata": {
        "id": "32xRFrCG7Fe4",
        "outputId": "dce93092-c672-40de-c1c6-4fd169465311",
        "colab": {
          "base_uri": "https://localhost:8080/"
        }
      },
      "execution_count": 7,
      "outputs": [
        {
          "output_type": "stream",
          "name": "stdout",
          "text": [
            "square2 is bigger\n"
          ]
        }
      ]
    },
    {
      "cell_type": "markdown",
      "source": [
        "# 8. Numpy"
      ],
      "metadata": {
        "id": "udFHOHjofh2r"
      }
    },
    {
      "cell_type": "markdown",
      "source": [
        "Numpy is a core scientific computing library for python. It provides a high-performance multidimensional array object, and tools for working with these arrays.\n",
        "\n"
      ],
      "metadata": {
        "id": "mCU_yUeLfqqu"
      }
    },
    {
      "cell_type": "markdown",
      "source": [
        "Numpy Arrays\n",
        "\n"
      ],
      "metadata": {
        "id": "Ga9wc8-qft1k"
      }
    },
    {
      "cell_type": "code",
      "source": [
        "import numpy as np\n",
        "\n",
        "a = np.array([1, 2, 3])   # Create a rank 1 array\n",
        "print(type(a))            # Prints \"<class 'numpy.ndarray'>\"\n",
        "print(a.shape)            # Prints \"(3,)\"\n",
        "print(a[0], a[1], a[2])   # Prints \"1 2 3\"\n",
        "a[0] = 5                  # Change an element of the array\n",
        "print(a)                  # Prints \"[5, 2, 3]\"\n",
        "\n",
        "b = np.array([[1,2,3],[4,5,6]])    # Create a rank 2 array\n",
        "print(b.shape)                     # Prints \"(2, 3)\"\n",
        "print(b[0, 0], b[0, 1], b[1, 0])   # Prints \"1 2 4\""
      ],
      "metadata": {
        "id": "LsGH1DEnfjTH"
      },
      "execution_count": null,
      "outputs": []
    },
    {
      "cell_type": "markdown",
      "source": [
        "Numpy also provides several functions to create arrays"
      ],
      "metadata": {
        "id": "SqpG99y2fylN"
      }
    },
    {
      "cell_type": "code",
      "source": [
        "import numpy as np\n",
        "\n",
        "a = np.zeros((2,2))   # Create an array of all zeros\n",
        "print(a)              # Prints \"[[ 0.  0.]\n",
        "                      #          [ 0.  0.]]\"\n",
        "\n",
        "b = np.ones((1,2))    # Create an array of all ones\n",
        "print(b)              # Prints \"[[ 1.  1.]]\"\n",
        "\n",
        "c = np.full((2,2), 7)  # Create a constant array\n",
        "print(c)               # Prints \"[[ 7.  7.]\n",
        "                       #          [ 7.  7.]]\"\n",
        "\n",
        "d = np.eye(2)         # Create a 2x2 identity matrix\n",
        "print(d)              # Prints \"[[ 1.  0.]\n",
        "                      #          [ 0.  1.]]\"\n",
        "\n",
        "e = np.random.random((2,2))  # Create an array filled with random values\n",
        "print(e)                     # Might print \"[[0.91940167 0.08143941]\n",
        "                             # [ 0.68744134  0.87236687]]\""
      ],
      "metadata": {
        "id": "UBOfPsL1fzGD"
      },
      "execution_count": null,
      "outputs": []
    },
    {
      "cell_type": "markdown",
      "source": [
        "Slicing Numpy arrays"
      ],
      "metadata": {
        "id": "ef3_g8Zhf1h_"
      }
    },
    {
      "cell_type": "code",
      "source": [
        "import numpy as np\n",
        "\n",
        "# Create the following rank 2 array with shape (3, 4)\n",
        "# [[ 1  2  3  4]\n",
        "#  [ 5  6  7  8]\n",
        "#  [ 9 10 11 12]]\n",
        "a = np.array([[1,2,3,4], [5,6,7,8], [9,10,11,12]])\n",
        "\n",
        "# Use slicing to pull out the subarray consisting of the first 2 rows\n",
        "# and columns 1 and 2; b is the following array of shape (2, 2):\n",
        "# [[2 3]\n",
        "#  [6 7]]\n",
        "b = a[:2, 1:3]\n",
        "\n",
        "# A slice of an array is a view into the same data, so modifying it\n",
        "# will modify the original array.\n",
        "print(a[0, 1])   # Prints \"2\"\n",
        "b[0, 0] = 77     # b[0, 0] is the same piece of data as a[0, 1]\n",
        "print(a[0, 1])   # Prints \"77\""
      ],
      "metadata": {
        "id": "oYsO09j2f3HB"
      },
      "execution_count": null,
      "outputs": []
    },
    {
      "cell_type": "markdown",
      "source": [
        "Numpy Array Math"
      ],
      "metadata": {
        "id": "bfvRHPEwgCIA"
      }
    },
    {
      "cell_type": "code",
      "source": [
        "import numpy as np\n",
        "\n",
        "x = np.array([[1,2],[3,4]], dtype=np.float64)\n",
        "y = np.array([[5,6],[7,8]], dtype=np.float64)\n",
        "\n",
        "# Elementwise sum; both produce the array\n",
        "# [[ 6.0  8.0]\n",
        "#  [10.0 12.0]]\n",
        "print(x + y)\n",
        "print(np.add(x, y))\n",
        "\n",
        "# Elementwise difference; both produce the array\n",
        "# [[-4.0 -4.0]\n",
        "#  [-4.0 -4.0]]\n",
        "print(x - y)\n",
        "print(np.subtract(x, y))\n",
        "\n",
        "# Elementwise product; both produce the array\n",
        "# [[ 5.0 12.0]\n",
        "#  [21.0 32.0]]\n",
        "print(x * y)\n",
        "print(np.multiply(x, y))\n",
        "\n",
        "# Elementwise division; both produce the array\n",
        "# [[ 0.2         0.33333333]\n",
        "#  [ 0.42857143  0.5       ]]\n",
        "print(x / y)\n",
        "print(np.divide(x, y))\n",
        "\n",
        "# Elementwise square root; produces the array\n",
        "# [[ 1.          1.41421356]\n",
        "#  [ 1.73205081  2.        ]]\n",
        "print(np.sqrt(x))\n"
      ],
      "metadata": {
        "id": "4Ws4TSYqgCl_"
      },
      "execution_count": null,
      "outputs": []
    },
    {
      "cell_type": "markdown",
      "source": [
        "Numpy functions\n",
        "\n",
        "np.sum"
      ],
      "metadata": {
        "id": "t8ua7NLhgchm"
      }
    },
    {
      "cell_type": "code",
      "source": [
        "import numpy as np\n",
        "\n",
        "x = np.array([[1,2],[3,4]])\n",
        "\n",
        "print(np.sum(x))  # Compute sum of all elements; prints \"10\"\n",
        "print(np.sum(x, axis=0))  # Compute sum of each column; prints \"[4 6]\"\n",
        "print(np.sum(x, axis=1))  # Compute sum of each row; prints \"[3 7]\""
      ],
      "metadata": {
        "id": "3Arw9zz8gcHV"
      },
      "execution_count": null,
      "outputs": []
    },
    {
      "cell_type": "markdown",
      "source": [
        "Transpose a matrix"
      ],
      "metadata": {
        "id": "Yhmv6hbsghcM"
      }
    },
    {
      "cell_type": "code",
      "source": [
        "import numpy as np\n",
        "\n",
        "x = np.array([[1,2], [3,4]])\n",
        "print(x)    # Prints \"[[1 2]\n",
        "            #          [3 4]]\"\n",
        "print(x.T)  # Prints \"[[1 3]\n",
        "            #          [2 4]]\"\n",
        "\n",
        "# Note that taking the transpose of a rank 1 array does nothing:\n",
        "v = np.array([1,2,3])\n",
        "print(v)    # Prints \"[1 2 3]\"\n",
        "print(v.T)  # Prints \"[1 2 3]\""
      ],
      "metadata": {
        "id": "s3qA3eLrgif8"
      },
      "execution_count": null,
      "outputs": []
    },
    {
      "cell_type": "markdown",
      "source": [
        "# 9. Pandas"
      ],
      "metadata": {
        "id": "FTDKhygugq8j"
      }
    },
    {
      "cell_type": "markdown",
      "source": [
        "Pandas is a popular Python library for data manipulation and analysis."
      ],
      "metadata": {
        "id": "QHGEfnKwhBcb"
      }
    },
    {
      "cell_type": "markdown",
      "source": [
        "## 9.1. Importing Pandas"
      ],
      "metadata": {
        "id": "_cUhvlonhKOY"
      }
    },
    {
      "cell_type": "code",
      "source": [
        "import pandas as pd"
      ],
      "metadata": {
        "id": "XCBwKFz9gr6A"
      },
      "execution_count": null,
      "outputs": []
    },
    {
      "cell_type": "markdown",
      "source": [
        "This will import Pandas into our notebook and allow us to use all of its functions."
      ],
      "metadata": {
        "id": "mi5JEIn2hMtx"
      }
    },
    {
      "cell_type": "markdown",
      "source": [
        "## 9.2. Loading Data into Pandas"
      ],
      "metadata": {
        "id": "3u47YmQQhZL-"
      }
    },
    {
      "cell_type": "markdown",
      "source": [
        "The first step in analyzing data with Pandas is to load the data into a Pandas DataFrame. There are many ways to do this, but one of the most common is to load data from a CSV file. To do this, we can use the read_csv() function in Pandas. For example, if we have a CSV file called “data.csv” in the same directory as our Jupyter Notebook, we can load it into a DataFrame like this:"
      ],
      "metadata": {
        "id": "AOysBEkqhbUo"
      }
    },
    {
      "cell_type": "code",
      "source": [
        "df = pd.read_csv('data.csv')"
      ],
      "metadata": {
        "id": "41w6KW8mhOqg"
      },
      "execution_count": null,
      "outputs": []
    },
    {
      "cell_type": "markdown",
      "source": [
        "We do not have data.csv right now, so let's create a toy example data. You can also create your own Dataframe using dictionary."
      ],
      "metadata": {
        "id": "CTwuXn_UihSy"
      }
    },
    {
      "cell_type": "code",
      "source": [
        "df = pd.DataFrame({'Name': ['Alice', 'Bob', 'Charlie', 'David'],\n",
        "                   'Age': [28, 22, 35, 30],\n",
        "                   'City': ['New York', 'Los Angeles', 'London', 'Toronto'],\n",
        "                   'Country': ['USA', 'USA', 'UK', 'Canada'],\n",
        "                   'Gender': ['F', 'M', 'M', 'M'],\n",
        "                   'Income': [45000, 30000, 40000, 60000]})"
      ],
      "metadata": {
        "id": "m-VLhtwwiMM1"
      },
      "execution_count": null,
      "outputs": []
    },
    {
      "cell_type": "code",
      "source": [
        "df"
      ],
      "metadata": {
        "colab": {
          "base_uri": "https://localhost:8080/",
          "height": 175
        },
        "id": "SVL9VGh8jzVA",
        "outputId": "7685d43d-5702-4bb5-9759-41990e5db6f3"
      },
      "execution_count": null,
      "outputs": [
        {
          "output_type": "execute_result",
          "data": {
            "text/plain": [
              "      Name  Age         City Country Gender  Income\n",
              "0    Alice   28     New York     USA      F   45000\n",
              "1      Bob   22  Los Angeles     USA      M   30000\n",
              "2  Charlie   35       London      UK      M   40000\n",
              "3    David   30      Toronto  Canada      M   60000"
            ],
            "text/html": [
              "\n",
              "  <div id=\"df-84e5a848-4b9b-4fe8-84ff-9736082762d0\" class=\"colab-df-container\">\n",
              "    <div>\n",
              "<style scoped>\n",
              "    .dataframe tbody tr th:only-of-type {\n",
              "        vertical-align: middle;\n",
              "    }\n",
              "\n",
              "    .dataframe tbody tr th {\n",
              "        vertical-align: top;\n",
              "    }\n",
              "\n",
              "    .dataframe thead th {\n",
              "        text-align: right;\n",
              "    }\n",
              "</style>\n",
              "<table border=\"1\" class=\"dataframe\">\n",
              "  <thead>\n",
              "    <tr style=\"text-align: right;\">\n",
              "      <th></th>\n",
              "      <th>Name</th>\n",
              "      <th>Age</th>\n",
              "      <th>City</th>\n",
              "      <th>Country</th>\n",
              "      <th>Gender</th>\n",
              "      <th>Income</th>\n",
              "    </tr>\n",
              "  </thead>\n",
              "  <tbody>\n",
              "    <tr>\n",
              "      <th>0</th>\n",
              "      <td>Alice</td>\n",
              "      <td>28</td>\n",
              "      <td>New York</td>\n",
              "      <td>USA</td>\n",
              "      <td>F</td>\n",
              "      <td>45000</td>\n",
              "    </tr>\n",
              "    <tr>\n",
              "      <th>1</th>\n",
              "      <td>Bob</td>\n",
              "      <td>22</td>\n",
              "      <td>Los Angeles</td>\n",
              "      <td>USA</td>\n",
              "      <td>M</td>\n",
              "      <td>30000</td>\n",
              "    </tr>\n",
              "    <tr>\n",
              "      <th>2</th>\n",
              "      <td>Charlie</td>\n",
              "      <td>35</td>\n",
              "      <td>London</td>\n",
              "      <td>UK</td>\n",
              "      <td>M</td>\n",
              "      <td>40000</td>\n",
              "    </tr>\n",
              "    <tr>\n",
              "      <th>3</th>\n",
              "      <td>David</td>\n",
              "      <td>30</td>\n",
              "      <td>Toronto</td>\n",
              "      <td>Canada</td>\n",
              "      <td>M</td>\n",
              "      <td>60000</td>\n",
              "    </tr>\n",
              "  </tbody>\n",
              "</table>\n",
              "</div>\n",
              "    <div class=\"colab-df-buttons\">\n",
              "\n",
              "  <div class=\"colab-df-container\">\n",
              "    <button class=\"colab-df-convert\" onclick=\"convertToInteractive('df-84e5a848-4b9b-4fe8-84ff-9736082762d0')\"\n",
              "            title=\"Convert this dataframe to an interactive table.\"\n",
              "            style=\"display:none;\">\n",
              "\n",
              "  <svg xmlns=\"http://www.w3.org/2000/svg\" height=\"24px\" viewBox=\"0 -960 960 960\">\n",
              "    <path d=\"M120-120v-720h720v720H120Zm60-500h600v-160H180v160Zm220 220h160v-160H400v160Zm0 220h160v-160H400v160ZM180-400h160v-160H180v160Zm440 0h160v-160H620v160ZM180-180h160v-160H180v160Zm440 0h160v-160H620v160Z\"/>\n",
              "  </svg>\n",
              "    </button>\n",
              "\n",
              "  <style>\n",
              "    .colab-df-container {\n",
              "      display:flex;\n",
              "      gap: 12px;\n",
              "    }\n",
              "\n",
              "    .colab-df-convert {\n",
              "      background-color: #E8F0FE;\n",
              "      border: none;\n",
              "      border-radius: 50%;\n",
              "      cursor: pointer;\n",
              "      display: none;\n",
              "      fill: #1967D2;\n",
              "      height: 32px;\n",
              "      padding: 0 0 0 0;\n",
              "      width: 32px;\n",
              "    }\n",
              "\n",
              "    .colab-df-convert:hover {\n",
              "      background-color: #E2EBFA;\n",
              "      box-shadow: 0px 1px 2px rgba(60, 64, 67, 0.3), 0px 1px 3px 1px rgba(60, 64, 67, 0.15);\n",
              "      fill: #174EA6;\n",
              "    }\n",
              "\n",
              "    .colab-df-buttons div {\n",
              "      margin-bottom: 4px;\n",
              "    }\n",
              "\n",
              "    [theme=dark] .colab-df-convert {\n",
              "      background-color: #3B4455;\n",
              "      fill: #D2E3FC;\n",
              "    }\n",
              "\n",
              "    [theme=dark] .colab-df-convert:hover {\n",
              "      background-color: #434B5C;\n",
              "      box-shadow: 0px 1px 3px 1px rgba(0, 0, 0, 0.15);\n",
              "      filter: drop-shadow(0px 1px 2px rgba(0, 0, 0, 0.3));\n",
              "      fill: #FFFFFF;\n",
              "    }\n",
              "  </style>\n",
              "\n",
              "    <script>\n",
              "      const buttonEl =\n",
              "        document.querySelector('#df-84e5a848-4b9b-4fe8-84ff-9736082762d0 button.colab-df-convert');\n",
              "      buttonEl.style.display =\n",
              "        google.colab.kernel.accessAllowed ? 'block' : 'none';\n",
              "\n",
              "      async function convertToInteractive(key) {\n",
              "        const element = document.querySelector('#df-84e5a848-4b9b-4fe8-84ff-9736082762d0');\n",
              "        const dataTable =\n",
              "          await google.colab.kernel.invokeFunction('convertToInteractive',\n",
              "                                                    [key], {});\n",
              "        if (!dataTable) return;\n",
              "\n",
              "        const docLinkHtml = 'Like what you see? Visit the ' +\n",
              "          '<a target=\"_blank\" href=https://colab.research.google.com/notebooks/data_table.ipynb>data table notebook</a>'\n",
              "          + ' to learn more about interactive tables.';\n",
              "        element.innerHTML = '';\n",
              "        dataTable['output_type'] = 'display_data';\n",
              "        await google.colab.output.renderOutput(dataTable, element);\n",
              "        const docLink = document.createElement('div');\n",
              "        docLink.innerHTML = docLinkHtml;\n",
              "        element.appendChild(docLink);\n",
              "      }\n",
              "    </script>\n",
              "  </div>\n",
              "\n",
              "\n",
              "<div id=\"df-60c9077d-e5bc-4c3a-aed3-b4a8a4448e5c\">\n",
              "  <button class=\"colab-df-quickchart\" onclick=\"quickchart('df-60c9077d-e5bc-4c3a-aed3-b4a8a4448e5c')\"\n",
              "            title=\"Suggest charts\"\n",
              "            style=\"display:none;\">\n",
              "\n",
              "<svg xmlns=\"http://www.w3.org/2000/svg\" height=\"24px\"viewBox=\"0 0 24 24\"\n",
              "     width=\"24px\">\n",
              "    <g>\n",
              "        <path d=\"M19 3H5c-1.1 0-2 .9-2 2v14c0 1.1.9 2 2 2h14c1.1 0 2-.9 2-2V5c0-1.1-.9-2-2-2zM9 17H7v-7h2v7zm4 0h-2V7h2v10zm4 0h-2v-4h2v4z\"/>\n",
              "    </g>\n",
              "</svg>\n",
              "  </button>\n",
              "\n",
              "<style>\n",
              "  .colab-df-quickchart {\n",
              "      --bg-color: #E8F0FE;\n",
              "      --fill-color: #1967D2;\n",
              "      --hover-bg-color: #E2EBFA;\n",
              "      --hover-fill-color: #174EA6;\n",
              "      --disabled-fill-color: #AAA;\n",
              "      --disabled-bg-color: #DDD;\n",
              "  }\n",
              "\n",
              "  [theme=dark] .colab-df-quickchart {\n",
              "      --bg-color: #3B4455;\n",
              "      --fill-color: #D2E3FC;\n",
              "      --hover-bg-color: #434B5C;\n",
              "      --hover-fill-color: #FFFFFF;\n",
              "      --disabled-bg-color: #3B4455;\n",
              "      --disabled-fill-color: #666;\n",
              "  }\n",
              "\n",
              "  .colab-df-quickchart {\n",
              "    background-color: var(--bg-color);\n",
              "    border: none;\n",
              "    border-radius: 50%;\n",
              "    cursor: pointer;\n",
              "    display: none;\n",
              "    fill: var(--fill-color);\n",
              "    height: 32px;\n",
              "    padding: 0;\n",
              "    width: 32px;\n",
              "  }\n",
              "\n",
              "  .colab-df-quickchart:hover {\n",
              "    background-color: var(--hover-bg-color);\n",
              "    box-shadow: 0 1px 2px rgba(60, 64, 67, 0.3), 0 1px 3px 1px rgba(60, 64, 67, 0.15);\n",
              "    fill: var(--button-hover-fill-color);\n",
              "  }\n",
              "\n",
              "  .colab-df-quickchart-complete:disabled,\n",
              "  .colab-df-quickchart-complete:disabled:hover {\n",
              "    background-color: var(--disabled-bg-color);\n",
              "    fill: var(--disabled-fill-color);\n",
              "    box-shadow: none;\n",
              "  }\n",
              "\n",
              "  .colab-df-spinner {\n",
              "    border: 2px solid var(--fill-color);\n",
              "    border-color: transparent;\n",
              "    border-bottom-color: var(--fill-color);\n",
              "    animation:\n",
              "      spin 1s steps(1) infinite;\n",
              "  }\n",
              "\n",
              "  @keyframes spin {\n",
              "    0% {\n",
              "      border-color: transparent;\n",
              "      border-bottom-color: var(--fill-color);\n",
              "      border-left-color: var(--fill-color);\n",
              "    }\n",
              "    20% {\n",
              "      border-color: transparent;\n",
              "      border-left-color: var(--fill-color);\n",
              "      border-top-color: var(--fill-color);\n",
              "    }\n",
              "    30% {\n",
              "      border-color: transparent;\n",
              "      border-left-color: var(--fill-color);\n",
              "      border-top-color: var(--fill-color);\n",
              "      border-right-color: var(--fill-color);\n",
              "    }\n",
              "    40% {\n",
              "      border-color: transparent;\n",
              "      border-right-color: var(--fill-color);\n",
              "      border-top-color: var(--fill-color);\n",
              "    }\n",
              "    60% {\n",
              "      border-color: transparent;\n",
              "      border-right-color: var(--fill-color);\n",
              "    }\n",
              "    80% {\n",
              "      border-color: transparent;\n",
              "      border-right-color: var(--fill-color);\n",
              "      border-bottom-color: var(--fill-color);\n",
              "    }\n",
              "    90% {\n",
              "      border-color: transparent;\n",
              "      border-bottom-color: var(--fill-color);\n",
              "    }\n",
              "  }\n",
              "</style>\n",
              "\n",
              "  <script>\n",
              "    async function quickchart(key) {\n",
              "      const quickchartButtonEl =\n",
              "        document.querySelector('#' + key + ' button');\n",
              "      quickchartButtonEl.disabled = true;  // To prevent multiple clicks.\n",
              "      quickchartButtonEl.classList.add('colab-df-spinner');\n",
              "      try {\n",
              "        const charts = await google.colab.kernel.invokeFunction(\n",
              "            'suggestCharts', [key], {});\n",
              "      } catch (error) {\n",
              "        console.error('Error during call to suggestCharts:', error);\n",
              "      }\n",
              "      quickchartButtonEl.classList.remove('colab-df-spinner');\n",
              "      quickchartButtonEl.classList.add('colab-df-quickchart-complete');\n",
              "    }\n",
              "    (() => {\n",
              "      let quickchartButtonEl =\n",
              "        document.querySelector('#df-60c9077d-e5bc-4c3a-aed3-b4a8a4448e5c button');\n",
              "      quickchartButtonEl.style.display =\n",
              "        google.colab.kernel.accessAllowed ? 'block' : 'none';\n",
              "    })();\n",
              "  </script>\n",
              "</div>\n",
              "\n",
              "  <div id=\"id_3858729a-60fe-42e6-80c1-bf61652d5e59\">\n",
              "    <style>\n",
              "      .colab-df-generate {\n",
              "        background-color: #E8F0FE;\n",
              "        border: none;\n",
              "        border-radius: 50%;\n",
              "        cursor: pointer;\n",
              "        display: none;\n",
              "        fill: #1967D2;\n",
              "        height: 32px;\n",
              "        padding: 0 0 0 0;\n",
              "        width: 32px;\n",
              "      }\n",
              "\n",
              "      .colab-df-generate:hover {\n",
              "        background-color: #E2EBFA;\n",
              "        box-shadow: 0px 1px 2px rgba(60, 64, 67, 0.3), 0px 1px 3px 1px rgba(60, 64, 67, 0.15);\n",
              "        fill: #174EA6;\n",
              "      }\n",
              "\n",
              "      [theme=dark] .colab-df-generate {\n",
              "        background-color: #3B4455;\n",
              "        fill: #D2E3FC;\n",
              "      }\n",
              "\n",
              "      [theme=dark] .colab-df-generate:hover {\n",
              "        background-color: #434B5C;\n",
              "        box-shadow: 0px 1px 3px 1px rgba(0, 0, 0, 0.15);\n",
              "        filter: drop-shadow(0px 1px 2px rgba(0, 0, 0, 0.3));\n",
              "        fill: #FFFFFF;\n",
              "      }\n",
              "    </style>\n",
              "    <button class=\"colab-df-generate\" onclick=\"generateWithVariable('df')\"\n",
              "            title=\"Generate code using this dataframe.\"\n",
              "            style=\"display:none;\">\n",
              "\n",
              "  <svg xmlns=\"http://www.w3.org/2000/svg\" height=\"24px\"viewBox=\"0 0 24 24\"\n",
              "       width=\"24px\">\n",
              "    <path d=\"M7,19H8.4L18.45,9,17,7.55,7,17.6ZM5,21V16.75L18.45,3.32a2,2,0,0,1,2.83,0l1.4,1.43a1.91,1.91,0,0,1,.58,1.4,1.91,1.91,0,0,1-.58,1.4L9.25,21ZM18.45,9,17,7.55Zm-12,3A5.31,5.31,0,0,0,4.9,8.1,5.31,5.31,0,0,0,1,6.5,5.31,5.31,0,0,0,4.9,4.9,5.31,5.31,0,0,0,6.5,1,5.31,5.31,0,0,0,8.1,4.9,5.31,5.31,0,0,0,12,6.5,5.46,5.46,0,0,0,6.5,12Z\"/>\n",
              "  </svg>\n",
              "    </button>\n",
              "    <script>\n",
              "      (() => {\n",
              "      const buttonEl =\n",
              "        document.querySelector('#id_3858729a-60fe-42e6-80c1-bf61652d5e59 button.colab-df-generate');\n",
              "      buttonEl.style.display =\n",
              "        google.colab.kernel.accessAllowed ? 'block' : 'none';\n",
              "\n",
              "      buttonEl.onclick = () => {\n",
              "        google.colab.notebook.generateWithVariable('df');\n",
              "      }\n",
              "      })();\n",
              "    </script>\n",
              "  </div>\n",
              "\n",
              "    </div>\n",
              "  </div>\n"
            ],
            "application/vnd.google.colaboratory.intrinsic+json": {
              "type": "dataframe",
              "variable_name": "df",
              "summary": "{\n  \"name\": \"df\",\n  \"rows\": 4,\n  \"fields\": [\n    {\n      \"column\": \"Name\",\n      \"properties\": {\n        \"dtype\": \"string\",\n        \"num_unique_values\": 4,\n        \"samples\": [\n          \"Bob\",\n          \"David\",\n          \"Alice\"\n        ],\n        \"semantic_type\": \"\",\n        \"description\": \"\"\n      }\n    },\n    {\n      \"column\": \"Age\",\n      \"properties\": {\n        \"dtype\": \"number\",\n        \"std\": 5,\n        \"min\": 22,\n        \"max\": 35,\n        \"num_unique_values\": 4,\n        \"samples\": [\n          22,\n          30,\n          28\n        ],\n        \"semantic_type\": \"\",\n        \"description\": \"\"\n      }\n    },\n    {\n      \"column\": \"City\",\n      \"properties\": {\n        \"dtype\": \"string\",\n        \"num_unique_values\": 4,\n        \"samples\": [\n          \"Los Angeles\",\n          \"Toronto\",\n          \"New York\"\n        ],\n        \"semantic_type\": \"\",\n        \"description\": \"\"\n      }\n    },\n    {\n      \"column\": \"Country\",\n      \"properties\": {\n        \"dtype\": \"string\",\n        \"num_unique_values\": 3,\n        \"samples\": [\n          \"USA\",\n          \"UK\",\n          \"Canada\"\n        ],\n        \"semantic_type\": \"\",\n        \"description\": \"\"\n      }\n    },\n    {\n      \"column\": \"Gender\",\n      \"properties\": {\n        \"dtype\": \"string\",\n        \"num_unique_values\": 2,\n        \"samples\": [\n          \"M\",\n          \"F\"\n        ],\n        \"semantic_type\": \"\",\n        \"description\": \"\"\n      }\n    },\n    {\n      \"column\": \"Income\",\n      \"properties\": {\n        \"dtype\": \"number\",\n        \"std\": 12500,\n        \"min\": 30000,\n        \"max\": 60000,\n        \"num_unique_values\": 4,\n        \"samples\": [\n          30000,\n          60000\n        ],\n        \"semantic_type\": \"\",\n        \"description\": \"\"\n      }\n    }\n  ]\n}"
            }
          },
          "metadata": {},
          "execution_count": 12
        }
      ]
    },
    {
      "cell_type": "markdown",
      "source": [
        "You can save your dataframe to csv file like this:"
      ],
      "metadata": {
        "id": "YX27cb69jeBe"
      }
    },
    {
      "cell_type": "code",
      "source": [
        "df.to_csv('data.csv')"
      ],
      "metadata": {
        "id": "hw7PxhjYjiUv"
      },
      "execution_count": null,
      "outputs": []
    },
    {
      "cell_type": "markdown",
      "source": [
        "Now, let's load data.csv into a DataFrame like this:"
      ],
      "metadata": {
        "id": "b4YflyxrjkDp"
      }
    },
    {
      "cell_type": "code",
      "source": [
        "df = pd.read_csv('data.csv')"
      ],
      "metadata": {
        "id": "oOs1S3FsjmwD"
      },
      "execution_count": null,
      "outputs": []
    },
    {
      "cell_type": "markdown",
      "source": [
        "This will create a new DataFrame called df that contains all of the data from the CSV file."
      ],
      "metadata": {
        "id": "fWPky5zThf92"
      }
    },
    {
      "cell_type": "markdown",
      "source": [
        "## 9.3. Exploring Data with Pandas"
      ],
      "metadata": {
        "id": "btQUfjDahhes"
      }
    },
    {
      "cell_type": "markdown",
      "source": [
        "Now that we have our data loaded into a Pandas DataFrame, we can start exploring it. One of the most useful functions for exploring data is the head() function, which allows us to see the first few rows of the DataFrame. For example, if we want to see the first five rows of our DataFrame, we can run the following code:"
      ],
      "metadata": {
        "id": "rnMfGTeBiqkA"
      }
    },
    {
      "cell_type": "code",
      "source": [
        "df.head()"
      ],
      "metadata": {
        "colab": {
          "base_uri": "https://localhost:8080/",
          "height": 175
        },
        "id": "cg5IGW8-ipeM",
        "outputId": "874fe201-c88d-40b9-e5a3-789bf6db9d59"
      },
      "execution_count": null,
      "outputs": [
        {
          "output_type": "execute_result",
          "data": {
            "text/plain": [
              "      Name  Age         City Country Gender  Income\n",
              "0    Alice   28     New York     USA      F   45000\n",
              "1      Bob   22  Los Angeles     USA      M   30000\n",
              "2  Charlie   35       London      UK      M   40000\n",
              "3    David   30      Toronto  Canada      M   60000"
            ],
            "text/html": [
              "\n",
              "  <div id=\"df-eaaf6936-b865-43d0-86e4-ab111cd90d8c\" class=\"colab-df-container\">\n",
              "    <div>\n",
              "<style scoped>\n",
              "    .dataframe tbody tr th:only-of-type {\n",
              "        vertical-align: middle;\n",
              "    }\n",
              "\n",
              "    .dataframe tbody tr th {\n",
              "        vertical-align: top;\n",
              "    }\n",
              "\n",
              "    .dataframe thead th {\n",
              "        text-align: right;\n",
              "    }\n",
              "</style>\n",
              "<table border=\"1\" class=\"dataframe\">\n",
              "  <thead>\n",
              "    <tr style=\"text-align: right;\">\n",
              "      <th></th>\n",
              "      <th>Name</th>\n",
              "      <th>Age</th>\n",
              "      <th>City</th>\n",
              "      <th>Country</th>\n",
              "      <th>Gender</th>\n",
              "      <th>Income</th>\n",
              "    </tr>\n",
              "  </thead>\n",
              "  <tbody>\n",
              "    <tr>\n",
              "      <th>0</th>\n",
              "      <td>Alice</td>\n",
              "      <td>28</td>\n",
              "      <td>New York</td>\n",
              "      <td>USA</td>\n",
              "      <td>F</td>\n",
              "      <td>45000</td>\n",
              "    </tr>\n",
              "    <tr>\n",
              "      <th>1</th>\n",
              "      <td>Bob</td>\n",
              "      <td>22</td>\n",
              "      <td>Los Angeles</td>\n",
              "      <td>USA</td>\n",
              "      <td>M</td>\n",
              "      <td>30000</td>\n",
              "    </tr>\n",
              "    <tr>\n",
              "      <th>2</th>\n",
              "      <td>Charlie</td>\n",
              "      <td>35</td>\n",
              "      <td>London</td>\n",
              "      <td>UK</td>\n",
              "      <td>M</td>\n",
              "      <td>40000</td>\n",
              "    </tr>\n",
              "    <tr>\n",
              "      <th>3</th>\n",
              "      <td>David</td>\n",
              "      <td>30</td>\n",
              "      <td>Toronto</td>\n",
              "      <td>Canada</td>\n",
              "      <td>M</td>\n",
              "      <td>60000</td>\n",
              "    </tr>\n",
              "  </tbody>\n",
              "</table>\n",
              "</div>\n",
              "    <div class=\"colab-df-buttons\">\n",
              "\n",
              "  <div class=\"colab-df-container\">\n",
              "    <button class=\"colab-df-convert\" onclick=\"convertToInteractive('df-eaaf6936-b865-43d0-86e4-ab111cd90d8c')\"\n",
              "            title=\"Convert this dataframe to an interactive table.\"\n",
              "            style=\"display:none;\">\n",
              "\n",
              "  <svg xmlns=\"http://www.w3.org/2000/svg\" height=\"24px\" viewBox=\"0 -960 960 960\">\n",
              "    <path d=\"M120-120v-720h720v720H120Zm60-500h600v-160H180v160Zm220 220h160v-160H400v160Zm0 220h160v-160H400v160ZM180-400h160v-160H180v160Zm440 0h160v-160H620v160ZM180-180h160v-160H180v160Zm440 0h160v-160H620v160Z\"/>\n",
              "  </svg>\n",
              "    </button>\n",
              "\n",
              "  <style>\n",
              "    .colab-df-container {\n",
              "      display:flex;\n",
              "      gap: 12px;\n",
              "    }\n",
              "\n",
              "    .colab-df-convert {\n",
              "      background-color: #E8F0FE;\n",
              "      border: none;\n",
              "      border-radius: 50%;\n",
              "      cursor: pointer;\n",
              "      display: none;\n",
              "      fill: #1967D2;\n",
              "      height: 32px;\n",
              "      padding: 0 0 0 0;\n",
              "      width: 32px;\n",
              "    }\n",
              "\n",
              "    .colab-df-convert:hover {\n",
              "      background-color: #E2EBFA;\n",
              "      box-shadow: 0px 1px 2px rgba(60, 64, 67, 0.3), 0px 1px 3px 1px rgba(60, 64, 67, 0.15);\n",
              "      fill: #174EA6;\n",
              "    }\n",
              "\n",
              "    .colab-df-buttons div {\n",
              "      margin-bottom: 4px;\n",
              "    }\n",
              "\n",
              "    [theme=dark] .colab-df-convert {\n",
              "      background-color: #3B4455;\n",
              "      fill: #D2E3FC;\n",
              "    }\n",
              "\n",
              "    [theme=dark] .colab-df-convert:hover {\n",
              "      background-color: #434B5C;\n",
              "      box-shadow: 0px 1px 3px 1px rgba(0, 0, 0, 0.15);\n",
              "      filter: drop-shadow(0px 1px 2px rgba(0, 0, 0, 0.3));\n",
              "      fill: #FFFFFF;\n",
              "    }\n",
              "  </style>\n",
              "\n",
              "    <script>\n",
              "      const buttonEl =\n",
              "        document.querySelector('#df-eaaf6936-b865-43d0-86e4-ab111cd90d8c button.colab-df-convert');\n",
              "      buttonEl.style.display =\n",
              "        google.colab.kernel.accessAllowed ? 'block' : 'none';\n",
              "\n",
              "      async function convertToInteractive(key) {\n",
              "        const element = document.querySelector('#df-eaaf6936-b865-43d0-86e4-ab111cd90d8c');\n",
              "        const dataTable =\n",
              "          await google.colab.kernel.invokeFunction('convertToInteractive',\n",
              "                                                    [key], {});\n",
              "        if (!dataTable) return;\n",
              "\n",
              "        const docLinkHtml = 'Like what you see? Visit the ' +\n",
              "          '<a target=\"_blank\" href=https://colab.research.google.com/notebooks/data_table.ipynb>data table notebook</a>'\n",
              "          + ' to learn more about interactive tables.';\n",
              "        element.innerHTML = '';\n",
              "        dataTable['output_type'] = 'display_data';\n",
              "        await google.colab.output.renderOutput(dataTable, element);\n",
              "        const docLink = document.createElement('div');\n",
              "        docLink.innerHTML = docLinkHtml;\n",
              "        element.appendChild(docLink);\n",
              "      }\n",
              "    </script>\n",
              "  </div>\n",
              "\n",
              "\n",
              "<div id=\"df-2a069393-74d3-4245-9fb8-cdaae54565b4\">\n",
              "  <button class=\"colab-df-quickchart\" onclick=\"quickchart('df-2a069393-74d3-4245-9fb8-cdaae54565b4')\"\n",
              "            title=\"Suggest charts\"\n",
              "            style=\"display:none;\">\n",
              "\n",
              "<svg xmlns=\"http://www.w3.org/2000/svg\" height=\"24px\"viewBox=\"0 0 24 24\"\n",
              "     width=\"24px\">\n",
              "    <g>\n",
              "        <path d=\"M19 3H5c-1.1 0-2 .9-2 2v14c0 1.1.9 2 2 2h14c1.1 0 2-.9 2-2V5c0-1.1-.9-2-2-2zM9 17H7v-7h2v7zm4 0h-2V7h2v10zm4 0h-2v-4h2v4z\"/>\n",
              "    </g>\n",
              "</svg>\n",
              "  </button>\n",
              "\n",
              "<style>\n",
              "  .colab-df-quickchart {\n",
              "      --bg-color: #E8F0FE;\n",
              "      --fill-color: #1967D2;\n",
              "      --hover-bg-color: #E2EBFA;\n",
              "      --hover-fill-color: #174EA6;\n",
              "      --disabled-fill-color: #AAA;\n",
              "      --disabled-bg-color: #DDD;\n",
              "  }\n",
              "\n",
              "  [theme=dark] .colab-df-quickchart {\n",
              "      --bg-color: #3B4455;\n",
              "      --fill-color: #D2E3FC;\n",
              "      --hover-bg-color: #434B5C;\n",
              "      --hover-fill-color: #FFFFFF;\n",
              "      --disabled-bg-color: #3B4455;\n",
              "      --disabled-fill-color: #666;\n",
              "  }\n",
              "\n",
              "  .colab-df-quickchart {\n",
              "    background-color: var(--bg-color);\n",
              "    border: none;\n",
              "    border-radius: 50%;\n",
              "    cursor: pointer;\n",
              "    display: none;\n",
              "    fill: var(--fill-color);\n",
              "    height: 32px;\n",
              "    padding: 0;\n",
              "    width: 32px;\n",
              "  }\n",
              "\n",
              "  .colab-df-quickchart:hover {\n",
              "    background-color: var(--hover-bg-color);\n",
              "    box-shadow: 0 1px 2px rgba(60, 64, 67, 0.3), 0 1px 3px 1px rgba(60, 64, 67, 0.15);\n",
              "    fill: var(--button-hover-fill-color);\n",
              "  }\n",
              "\n",
              "  .colab-df-quickchart-complete:disabled,\n",
              "  .colab-df-quickchart-complete:disabled:hover {\n",
              "    background-color: var(--disabled-bg-color);\n",
              "    fill: var(--disabled-fill-color);\n",
              "    box-shadow: none;\n",
              "  }\n",
              "\n",
              "  .colab-df-spinner {\n",
              "    border: 2px solid var(--fill-color);\n",
              "    border-color: transparent;\n",
              "    border-bottom-color: var(--fill-color);\n",
              "    animation:\n",
              "      spin 1s steps(1) infinite;\n",
              "  }\n",
              "\n",
              "  @keyframes spin {\n",
              "    0% {\n",
              "      border-color: transparent;\n",
              "      border-bottom-color: var(--fill-color);\n",
              "      border-left-color: var(--fill-color);\n",
              "    }\n",
              "    20% {\n",
              "      border-color: transparent;\n",
              "      border-left-color: var(--fill-color);\n",
              "      border-top-color: var(--fill-color);\n",
              "    }\n",
              "    30% {\n",
              "      border-color: transparent;\n",
              "      border-left-color: var(--fill-color);\n",
              "      border-top-color: var(--fill-color);\n",
              "      border-right-color: var(--fill-color);\n",
              "    }\n",
              "    40% {\n",
              "      border-color: transparent;\n",
              "      border-right-color: var(--fill-color);\n",
              "      border-top-color: var(--fill-color);\n",
              "    }\n",
              "    60% {\n",
              "      border-color: transparent;\n",
              "      border-right-color: var(--fill-color);\n",
              "    }\n",
              "    80% {\n",
              "      border-color: transparent;\n",
              "      border-right-color: var(--fill-color);\n",
              "      border-bottom-color: var(--fill-color);\n",
              "    }\n",
              "    90% {\n",
              "      border-color: transparent;\n",
              "      border-bottom-color: var(--fill-color);\n",
              "    }\n",
              "  }\n",
              "</style>\n",
              "\n",
              "  <script>\n",
              "    async function quickchart(key) {\n",
              "      const quickchartButtonEl =\n",
              "        document.querySelector('#' + key + ' button');\n",
              "      quickchartButtonEl.disabled = true;  // To prevent multiple clicks.\n",
              "      quickchartButtonEl.classList.add('colab-df-spinner');\n",
              "      try {\n",
              "        const charts = await google.colab.kernel.invokeFunction(\n",
              "            'suggestCharts', [key], {});\n",
              "      } catch (error) {\n",
              "        console.error('Error during call to suggestCharts:', error);\n",
              "      }\n",
              "      quickchartButtonEl.classList.remove('colab-df-spinner');\n",
              "      quickchartButtonEl.classList.add('colab-df-quickchart-complete');\n",
              "    }\n",
              "    (() => {\n",
              "      let quickchartButtonEl =\n",
              "        document.querySelector('#df-2a069393-74d3-4245-9fb8-cdaae54565b4 button');\n",
              "      quickchartButtonEl.style.display =\n",
              "        google.colab.kernel.accessAllowed ? 'block' : 'none';\n",
              "    })();\n",
              "  </script>\n",
              "</div>\n",
              "\n",
              "    </div>\n",
              "  </div>\n"
            ],
            "application/vnd.google.colaboratory.intrinsic+json": {
              "type": "dataframe",
              "variable_name": "df",
              "summary": "{\n  \"name\": \"df\",\n  \"rows\": 4,\n  \"fields\": [\n    {\n      \"column\": \"Name\",\n      \"properties\": {\n        \"dtype\": \"string\",\n        \"num_unique_values\": 4,\n        \"samples\": [\n          \"Bob\",\n          \"David\",\n          \"Alice\"\n        ],\n        \"semantic_type\": \"\",\n        \"description\": \"\"\n      }\n    },\n    {\n      \"column\": \"Age\",\n      \"properties\": {\n        \"dtype\": \"number\",\n        \"std\": 5,\n        \"min\": 22,\n        \"max\": 35,\n        \"num_unique_values\": 4,\n        \"samples\": [\n          22,\n          30,\n          28\n        ],\n        \"semantic_type\": \"\",\n        \"description\": \"\"\n      }\n    },\n    {\n      \"column\": \"City\",\n      \"properties\": {\n        \"dtype\": \"string\",\n        \"num_unique_values\": 4,\n        \"samples\": [\n          \"Los Angeles\",\n          \"Toronto\",\n          \"New York\"\n        ],\n        \"semantic_type\": \"\",\n        \"description\": \"\"\n      }\n    },\n    {\n      \"column\": \"Country\",\n      \"properties\": {\n        \"dtype\": \"string\",\n        \"num_unique_values\": 3,\n        \"samples\": [\n          \"USA\",\n          \"UK\",\n          \"Canada\"\n        ],\n        \"semantic_type\": \"\",\n        \"description\": \"\"\n      }\n    },\n    {\n      \"column\": \"Gender\",\n      \"properties\": {\n        \"dtype\": \"string\",\n        \"num_unique_values\": 2,\n        \"samples\": [\n          \"M\",\n          \"F\"\n        ],\n        \"semantic_type\": \"\",\n        \"description\": \"\"\n      }\n    },\n    {\n      \"column\": \"Income\",\n      \"properties\": {\n        \"dtype\": \"number\",\n        \"std\": 12500,\n        \"min\": 30000,\n        \"max\": 60000,\n        \"num_unique_values\": 4,\n        \"samples\": [\n          30000,\n          60000\n        ],\n        \"semantic_type\": \"\",\n        \"description\": \"\"\n      }\n    }\n  ]\n}"
            }
          },
          "metadata": {},
          "execution_count": 13
        }
      ]
    },
    {
      "cell_type": "markdown",
      "source": [
        "Another useful function for exploring data is the describe() function, which provides summary statistics for each column in the DataFrame. For example, if we want to see summary statistics for our DataFrame, we can run the following code:"
      ],
      "metadata": {
        "id": "zkwilJksisr4"
      }
    },
    {
      "cell_type": "code",
      "source": [
        "df.describe()"
      ],
      "metadata": {
        "colab": {
          "base_uri": "https://localhost:8080/",
          "height": 300
        },
        "id": "CIUaRUWKiud-",
        "outputId": "a39308aa-95c3-4ca0-9e06-658b388f7b3a"
      },
      "execution_count": null,
      "outputs": [
        {
          "output_type": "execute_result",
          "data": {
            "text/plain": [
              "             Age   Income\n",
              "count   4.000000      4.0\n",
              "mean   28.750000  43750.0\n",
              "std     5.377422  12500.0\n",
              "min    22.000000  30000.0\n",
              "25%    26.500000  37500.0\n",
              "50%    29.000000  42500.0\n",
              "75%    31.250000  48750.0\n",
              "max    35.000000  60000.0"
            ],
            "text/html": [
              "\n",
              "  <div id=\"df-55eaf5c0-f6ea-4f03-8394-2e24e935409a\" class=\"colab-df-container\">\n",
              "    <div>\n",
              "<style scoped>\n",
              "    .dataframe tbody tr th:only-of-type {\n",
              "        vertical-align: middle;\n",
              "    }\n",
              "\n",
              "    .dataframe tbody tr th {\n",
              "        vertical-align: top;\n",
              "    }\n",
              "\n",
              "    .dataframe thead th {\n",
              "        text-align: right;\n",
              "    }\n",
              "</style>\n",
              "<table border=\"1\" class=\"dataframe\">\n",
              "  <thead>\n",
              "    <tr style=\"text-align: right;\">\n",
              "      <th></th>\n",
              "      <th>Age</th>\n",
              "      <th>Income</th>\n",
              "    </tr>\n",
              "  </thead>\n",
              "  <tbody>\n",
              "    <tr>\n",
              "      <th>count</th>\n",
              "      <td>4.000000</td>\n",
              "      <td>4.0</td>\n",
              "    </tr>\n",
              "    <tr>\n",
              "      <th>mean</th>\n",
              "      <td>28.750000</td>\n",
              "      <td>43750.0</td>\n",
              "    </tr>\n",
              "    <tr>\n",
              "      <th>std</th>\n",
              "      <td>5.377422</td>\n",
              "      <td>12500.0</td>\n",
              "    </tr>\n",
              "    <tr>\n",
              "      <th>min</th>\n",
              "      <td>22.000000</td>\n",
              "      <td>30000.0</td>\n",
              "    </tr>\n",
              "    <tr>\n",
              "      <th>25%</th>\n",
              "      <td>26.500000</td>\n",
              "      <td>37500.0</td>\n",
              "    </tr>\n",
              "    <tr>\n",
              "      <th>50%</th>\n",
              "      <td>29.000000</td>\n",
              "      <td>42500.0</td>\n",
              "    </tr>\n",
              "    <tr>\n",
              "      <th>75%</th>\n",
              "      <td>31.250000</td>\n",
              "      <td>48750.0</td>\n",
              "    </tr>\n",
              "    <tr>\n",
              "      <th>max</th>\n",
              "      <td>35.000000</td>\n",
              "      <td>60000.0</td>\n",
              "    </tr>\n",
              "  </tbody>\n",
              "</table>\n",
              "</div>\n",
              "    <div class=\"colab-df-buttons\">\n",
              "\n",
              "  <div class=\"colab-df-container\">\n",
              "    <button class=\"colab-df-convert\" onclick=\"convertToInteractive('df-55eaf5c0-f6ea-4f03-8394-2e24e935409a')\"\n",
              "            title=\"Convert this dataframe to an interactive table.\"\n",
              "            style=\"display:none;\">\n",
              "\n",
              "  <svg xmlns=\"http://www.w3.org/2000/svg\" height=\"24px\" viewBox=\"0 -960 960 960\">\n",
              "    <path d=\"M120-120v-720h720v720H120Zm60-500h600v-160H180v160Zm220 220h160v-160H400v160Zm0 220h160v-160H400v160ZM180-400h160v-160H180v160Zm440 0h160v-160H620v160ZM180-180h160v-160H180v160Zm440 0h160v-160H620v160Z\"/>\n",
              "  </svg>\n",
              "    </button>\n",
              "\n",
              "  <style>\n",
              "    .colab-df-container {\n",
              "      display:flex;\n",
              "      gap: 12px;\n",
              "    }\n",
              "\n",
              "    .colab-df-convert {\n",
              "      background-color: #E8F0FE;\n",
              "      border: none;\n",
              "      border-radius: 50%;\n",
              "      cursor: pointer;\n",
              "      display: none;\n",
              "      fill: #1967D2;\n",
              "      height: 32px;\n",
              "      padding: 0 0 0 0;\n",
              "      width: 32px;\n",
              "    }\n",
              "\n",
              "    .colab-df-convert:hover {\n",
              "      background-color: #E2EBFA;\n",
              "      box-shadow: 0px 1px 2px rgba(60, 64, 67, 0.3), 0px 1px 3px 1px rgba(60, 64, 67, 0.15);\n",
              "      fill: #174EA6;\n",
              "    }\n",
              "\n",
              "    .colab-df-buttons div {\n",
              "      margin-bottom: 4px;\n",
              "    }\n",
              "\n",
              "    [theme=dark] .colab-df-convert {\n",
              "      background-color: #3B4455;\n",
              "      fill: #D2E3FC;\n",
              "    }\n",
              "\n",
              "    [theme=dark] .colab-df-convert:hover {\n",
              "      background-color: #434B5C;\n",
              "      box-shadow: 0px 1px 3px 1px rgba(0, 0, 0, 0.15);\n",
              "      filter: drop-shadow(0px 1px 2px rgba(0, 0, 0, 0.3));\n",
              "      fill: #FFFFFF;\n",
              "    }\n",
              "  </style>\n",
              "\n",
              "    <script>\n",
              "      const buttonEl =\n",
              "        document.querySelector('#df-55eaf5c0-f6ea-4f03-8394-2e24e935409a button.colab-df-convert');\n",
              "      buttonEl.style.display =\n",
              "        google.colab.kernel.accessAllowed ? 'block' : 'none';\n",
              "\n",
              "      async function convertToInteractive(key) {\n",
              "        const element = document.querySelector('#df-55eaf5c0-f6ea-4f03-8394-2e24e935409a');\n",
              "        const dataTable =\n",
              "          await google.colab.kernel.invokeFunction('convertToInteractive',\n",
              "                                                    [key], {});\n",
              "        if (!dataTable) return;\n",
              "\n",
              "        const docLinkHtml = 'Like what you see? Visit the ' +\n",
              "          '<a target=\"_blank\" href=https://colab.research.google.com/notebooks/data_table.ipynb>data table notebook</a>'\n",
              "          + ' to learn more about interactive tables.';\n",
              "        element.innerHTML = '';\n",
              "        dataTable['output_type'] = 'display_data';\n",
              "        await google.colab.output.renderOutput(dataTable, element);\n",
              "        const docLink = document.createElement('div');\n",
              "        docLink.innerHTML = docLinkHtml;\n",
              "        element.appendChild(docLink);\n",
              "      }\n",
              "    </script>\n",
              "  </div>\n",
              "\n",
              "\n",
              "<div id=\"df-50a8c9a0-ea1c-482d-99fc-215387979540\">\n",
              "  <button class=\"colab-df-quickchart\" onclick=\"quickchart('df-50a8c9a0-ea1c-482d-99fc-215387979540')\"\n",
              "            title=\"Suggest charts\"\n",
              "            style=\"display:none;\">\n",
              "\n",
              "<svg xmlns=\"http://www.w3.org/2000/svg\" height=\"24px\"viewBox=\"0 0 24 24\"\n",
              "     width=\"24px\">\n",
              "    <g>\n",
              "        <path d=\"M19 3H5c-1.1 0-2 .9-2 2v14c0 1.1.9 2 2 2h14c1.1 0 2-.9 2-2V5c0-1.1-.9-2-2-2zM9 17H7v-7h2v7zm4 0h-2V7h2v10zm4 0h-2v-4h2v4z\"/>\n",
              "    </g>\n",
              "</svg>\n",
              "  </button>\n",
              "\n",
              "<style>\n",
              "  .colab-df-quickchart {\n",
              "      --bg-color: #E8F0FE;\n",
              "      --fill-color: #1967D2;\n",
              "      --hover-bg-color: #E2EBFA;\n",
              "      --hover-fill-color: #174EA6;\n",
              "      --disabled-fill-color: #AAA;\n",
              "      --disabled-bg-color: #DDD;\n",
              "  }\n",
              "\n",
              "  [theme=dark] .colab-df-quickchart {\n",
              "      --bg-color: #3B4455;\n",
              "      --fill-color: #D2E3FC;\n",
              "      --hover-bg-color: #434B5C;\n",
              "      --hover-fill-color: #FFFFFF;\n",
              "      --disabled-bg-color: #3B4455;\n",
              "      --disabled-fill-color: #666;\n",
              "  }\n",
              "\n",
              "  .colab-df-quickchart {\n",
              "    background-color: var(--bg-color);\n",
              "    border: none;\n",
              "    border-radius: 50%;\n",
              "    cursor: pointer;\n",
              "    display: none;\n",
              "    fill: var(--fill-color);\n",
              "    height: 32px;\n",
              "    padding: 0;\n",
              "    width: 32px;\n",
              "  }\n",
              "\n",
              "  .colab-df-quickchart:hover {\n",
              "    background-color: var(--hover-bg-color);\n",
              "    box-shadow: 0 1px 2px rgba(60, 64, 67, 0.3), 0 1px 3px 1px rgba(60, 64, 67, 0.15);\n",
              "    fill: var(--button-hover-fill-color);\n",
              "  }\n",
              "\n",
              "  .colab-df-quickchart-complete:disabled,\n",
              "  .colab-df-quickchart-complete:disabled:hover {\n",
              "    background-color: var(--disabled-bg-color);\n",
              "    fill: var(--disabled-fill-color);\n",
              "    box-shadow: none;\n",
              "  }\n",
              "\n",
              "  .colab-df-spinner {\n",
              "    border: 2px solid var(--fill-color);\n",
              "    border-color: transparent;\n",
              "    border-bottom-color: var(--fill-color);\n",
              "    animation:\n",
              "      spin 1s steps(1) infinite;\n",
              "  }\n",
              "\n",
              "  @keyframes spin {\n",
              "    0% {\n",
              "      border-color: transparent;\n",
              "      border-bottom-color: var(--fill-color);\n",
              "      border-left-color: var(--fill-color);\n",
              "    }\n",
              "    20% {\n",
              "      border-color: transparent;\n",
              "      border-left-color: var(--fill-color);\n",
              "      border-top-color: var(--fill-color);\n",
              "    }\n",
              "    30% {\n",
              "      border-color: transparent;\n",
              "      border-left-color: var(--fill-color);\n",
              "      border-top-color: var(--fill-color);\n",
              "      border-right-color: var(--fill-color);\n",
              "    }\n",
              "    40% {\n",
              "      border-color: transparent;\n",
              "      border-right-color: var(--fill-color);\n",
              "      border-top-color: var(--fill-color);\n",
              "    }\n",
              "    60% {\n",
              "      border-color: transparent;\n",
              "      border-right-color: var(--fill-color);\n",
              "    }\n",
              "    80% {\n",
              "      border-color: transparent;\n",
              "      border-right-color: var(--fill-color);\n",
              "      border-bottom-color: var(--fill-color);\n",
              "    }\n",
              "    90% {\n",
              "      border-color: transparent;\n",
              "      border-bottom-color: var(--fill-color);\n",
              "    }\n",
              "  }\n",
              "</style>\n",
              "\n",
              "  <script>\n",
              "    async function quickchart(key) {\n",
              "      const quickchartButtonEl =\n",
              "        document.querySelector('#' + key + ' button');\n",
              "      quickchartButtonEl.disabled = true;  // To prevent multiple clicks.\n",
              "      quickchartButtonEl.classList.add('colab-df-spinner');\n",
              "      try {\n",
              "        const charts = await google.colab.kernel.invokeFunction(\n",
              "            'suggestCharts', [key], {});\n",
              "      } catch (error) {\n",
              "        console.error('Error during call to suggestCharts:', error);\n",
              "      }\n",
              "      quickchartButtonEl.classList.remove('colab-df-spinner');\n",
              "      quickchartButtonEl.classList.add('colab-df-quickchart-complete');\n",
              "    }\n",
              "    (() => {\n",
              "      let quickchartButtonEl =\n",
              "        document.querySelector('#df-50a8c9a0-ea1c-482d-99fc-215387979540 button');\n",
              "      quickchartButtonEl.style.display =\n",
              "        google.colab.kernel.accessAllowed ? 'block' : 'none';\n",
              "    })();\n",
              "  </script>\n",
              "</div>\n",
              "\n",
              "    </div>\n",
              "  </div>\n"
            ],
            "application/vnd.google.colaboratory.intrinsic+json": {
              "type": "dataframe",
              "summary": "{\n  \"name\": \"df\",\n  \"rows\": 8,\n  \"fields\": [\n    {\n      \"column\": \"Age\",\n      \"properties\": {\n        \"dtype\": \"number\",\n        \"std\": 11.74349114830913,\n        \"min\": 4.0,\n        \"max\": 35.0,\n        \"num_unique_values\": 8,\n        \"samples\": [\n          28.75,\n          29.0,\n          4.0\n        ],\n        \"semantic_type\": \"\",\n        \"description\": \"\"\n      }\n    },\n    {\n      \"column\": \"Income\",\n      \"properties\": {\n        \"dtype\": \"number\",\n        \"std\": 19661.32902788764,\n        \"min\": 4.0,\n        \"max\": 60000.0,\n        \"num_unique_values\": 8,\n        \"samples\": [\n          43750.0,\n          42500.0,\n          4.0\n        ],\n        \"semantic_type\": \"\",\n        \"description\": \"\"\n      }\n    }\n  ]\n}"
            }
          },
          "metadata": {},
          "execution_count": 14
        }
      ]
    },
    {
      "cell_type": "markdown",
      "source": [
        "## 9.4. Manipulating Data with Pandas"
      ],
      "metadata": {
        "id": "Kqc--pntj3_O"
      }
    },
    {
      "cell_type": "markdown",
      "source": [
        "Once we have explored our data, we may want to manipulate it in some way. Pandas provides a wide range of functions and methods for manipulating data, but we will only cover a few of the most common ones here."
      ],
      "metadata": {
        "id": "DRkkO7YQj516"
      }
    },
    {
      "cell_type": "markdown",
      "source": [
        "\n",
        "### Selecting Columns\n",
        "To select a single column from a DataFrame, we can use the square bracket notation. For example, if we have a column called “age” in our DataFrame, we can select it like this:\n",
        "\n"
      ],
      "metadata": {
        "id": "QbFGuyq1j_WD"
      }
    },
    {
      "cell_type": "code",
      "source": [
        "df['Age']"
      ],
      "metadata": {
        "colab": {
          "base_uri": "https://localhost:8080/"
        },
        "id": "H01Fc27Vj-kP",
        "outputId": "55819afc-22bc-488d-9d8b-2da2414a52ad"
      },
      "execution_count": null,
      "outputs": [
        {
          "output_type": "execute_result",
          "data": {
            "text/plain": [
              "0    28\n",
              "1    22\n",
              "2    35\n",
              "3    30\n",
              "Name: Age, dtype: int64"
            ]
          },
          "metadata": {},
          "execution_count": 16
        }
      ]
    },
    {
      "cell_type": "markdown",
      "source": [
        "This will return a new Series object that contains only the “age” column.\n",
        "\n",
        "To select multiple columns, we can pass a list of column names to the square bracket notation. For example, if we have columns called “age” and “income” in our DataFrame, we can select them like this:"
      ],
      "metadata": {
        "id": "-wb7FYhQkEGO"
      }
    },
    {
      "cell_type": "code",
      "source": [
        "df[['Age', 'Income']]"
      ],
      "metadata": {
        "colab": {
          "base_uri": "https://localhost:8080/",
          "height": 175
        },
        "id": "Q5XXrzQkj8cX",
        "outputId": "23fb9d61-dc6a-40cd-d825-3477ee25e4c7"
      },
      "execution_count": null,
      "outputs": [
        {
          "output_type": "execute_result",
          "data": {
            "text/plain": [
              "   Age  Income\n",
              "0   28   45000\n",
              "1   22   30000\n",
              "2   35   40000\n",
              "3   30   60000"
            ],
            "text/html": [
              "\n",
              "  <div id=\"df-8604c1f9-0280-4912-a860-be21b27adfcc\" class=\"colab-df-container\">\n",
              "    <div>\n",
              "<style scoped>\n",
              "    .dataframe tbody tr th:only-of-type {\n",
              "        vertical-align: middle;\n",
              "    }\n",
              "\n",
              "    .dataframe tbody tr th {\n",
              "        vertical-align: top;\n",
              "    }\n",
              "\n",
              "    .dataframe thead th {\n",
              "        text-align: right;\n",
              "    }\n",
              "</style>\n",
              "<table border=\"1\" class=\"dataframe\">\n",
              "  <thead>\n",
              "    <tr style=\"text-align: right;\">\n",
              "      <th></th>\n",
              "      <th>Age</th>\n",
              "      <th>Income</th>\n",
              "    </tr>\n",
              "  </thead>\n",
              "  <tbody>\n",
              "    <tr>\n",
              "      <th>0</th>\n",
              "      <td>28</td>\n",
              "      <td>45000</td>\n",
              "    </tr>\n",
              "    <tr>\n",
              "      <th>1</th>\n",
              "      <td>22</td>\n",
              "      <td>30000</td>\n",
              "    </tr>\n",
              "    <tr>\n",
              "      <th>2</th>\n",
              "      <td>35</td>\n",
              "      <td>40000</td>\n",
              "    </tr>\n",
              "    <tr>\n",
              "      <th>3</th>\n",
              "      <td>30</td>\n",
              "      <td>60000</td>\n",
              "    </tr>\n",
              "  </tbody>\n",
              "</table>\n",
              "</div>\n",
              "    <div class=\"colab-df-buttons\">\n",
              "\n",
              "  <div class=\"colab-df-container\">\n",
              "    <button class=\"colab-df-convert\" onclick=\"convertToInteractive('df-8604c1f9-0280-4912-a860-be21b27adfcc')\"\n",
              "            title=\"Convert this dataframe to an interactive table.\"\n",
              "            style=\"display:none;\">\n",
              "\n",
              "  <svg xmlns=\"http://www.w3.org/2000/svg\" height=\"24px\" viewBox=\"0 -960 960 960\">\n",
              "    <path d=\"M120-120v-720h720v720H120Zm60-500h600v-160H180v160Zm220 220h160v-160H400v160Zm0 220h160v-160H400v160ZM180-400h160v-160H180v160Zm440 0h160v-160H620v160ZM180-180h160v-160H180v160Zm440 0h160v-160H620v160Z\"/>\n",
              "  </svg>\n",
              "    </button>\n",
              "\n",
              "  <style>\n",
              "    .colab-df-container {\n",
              "      display:flex;\n",
              "      gap: 12px;\n",
              "    }\n",
              "\n",
              "    .colab-df-convert {\n",
              "      background-color: #E8F0FE;\n",
              "      border: none;\n",
              "      border-radius: 50%;\n",
              "      cursor: pointer;\n",
              "      display: none;\n",
              "      fill: #1967D2;\n",
              "      height: 32px;\n",
              "      padding: 0 0 0 0;\n",
              "      width: 32px;\n",
              "    }\n",
              "\n",
              "    .colab-df-convert:hover {\n",
              "      background-color: #E2EBFA;\n",
              "      box-shadow: 0px 1px 2px rgba(60, 64, 67, 0.3), 0px 1px 3px 1px rgba(60, 64, 67, 0.15);\n",
              "      fill: #174EA6;\n",
              "    }\n",
              "\n",
              "    .colab-df-buttons div {\n",
              "      margin-bottom: 4px;\n",
              "    }\n",
              "\n",
              "    [theme=dark] .colab-df-convert {\n",
              "      background-color: #3B4455;\n",
              "      fill: #D2E3FC;\n",
              "    }\n",
              "\n",
              "    [theme=dark] .colab-df-convert:hover {\n",
              "      background-color: #434B5C;\n",
              "      box-shadow: 0px 1px 3px 1px rgba(0, 0, 0, 0.15);\n",
              "      filter: drop-shadow(0px 1px 2px rgba(0, 0, 0, 0.3));\n",
              "      fill: #FFFFFF;\n",
              "    }\n",
              "  </style>\n",
              "\n",
              "    <script>\n",
              "      const buttonEl =\n",
              "        document.querySelector('#df-8604c1f9-0280-4912-a860-be21b27adfcc button.colab-df-convert');\n",
              "      buttonEl.style.display =\n",
              "        google.colab.kernel.accessAllowed ? 'block' : 'none';\n",
              "\n",
              "      async function convertToInteractive(key) {\n",
              "        const element = document.querySelector('#df-8604c1f9-0280-4912-a860-be21b27adfcc');\n",
              "        const dataTable =\n",
              "          await google.colab.kernel.invokeFunction('convertToInteractive',\n",
              "                                                    [key], {});\n",
              "        if (!dataTable) return;\n",
              "\n",
              "        const docLinkHtml = 'Like what you see? Visit the ' +\n",
              "          '<a target=\"_blank\" href=https://colab.research.google.com/notebooks/data_table.ipynb>data table notebook</a>'\n",
              "          + ' to learn more about interactive tables.';\n",
              "        element.innerHTML = '';\n",
              "        dataTable['output_type'] = 'display_data';\n",
              "        await google.colab.output.renderOutput(dataTable, element);\n",
              "        const docLink = document.createElement('div');\n",
              "        docLink.innerHTML = docLinkHtml;\n",
              "        element.appendChild(docLink);\n",
              "      }\n",
              "    </script>\n",
              "  </div>\n",
              "\n",
              "\n",
              "<div id=\"df-36046768-cd0b-4cc0-a33c-2ba4667b59dd\">\n",
              "  <button class=\"colab-df-quickchart\" onclick=\"quickchart('df-36046768-cd0b-4cc0-a33c-2ba4667b59dd')\"\n",
              "            title=\"Suggest charts\"\n",
              "            style=\"display:none;\">\n",
              "\n",
              "<svg xmlns=\"http://www.w3.org/2000/svg\" height=\"24px\"viewBox=\"0 0 24 24\"\n",
              "     width=\"24px\">\n",
              "    <g>\n",
              "        <path d=\"M19 3H5c-1.1 0-2 .9-2 2v14c0 1.1.9 2 2 2h14c1.1 0 2-.9 2-2V5c0-1.1-.9-2-2-2zM9 17H7v-7h2v7zm4 0h-2V7h2v10zm4 0h-2v-4h2v4z\"/>\n",
              "    </g>\n",
              "</svg>\n",
              "  </button>\n",
              "\n",
              "<style>\n",
              "  .colab-df-quickchart {\n",
              "      --bg-color: #E8F0FE;\n",
              "      --fill-color: #1967D2;\n",
              "      --hover-bg-color: #E2EBFA;\n",
              "      --hover-fill-color: #174EA6;\n",
              "      --disabled-fill-color: #AAA;\n",
              "      --disabled-bg-color: #DDD;\n",
              "  }\n",
              "\n",
              "  [theme=dark] .colab-df-quickchart {\n",
              "      --bg-color: #3B4455;\n",
              "      --fill-color: #D2E3FC;\n",
              "      --hover-bg-color: #434B5C;\n",
              "      --hover-fill-color: #FFFFFF;\n",
              "      --disabled-bg-color: #3B4455;\n",
              "      --disabled-fill-color: #666;\n",
              "  }\n",
              "\n",
              "  .colab-df-quickchart {\n",
              "    background-color: var(--bg-color);\n",
              "    border: none;\n",
              "    border-radius: 50%;\n",
              "    cursor: pointer;\n",
              "    display: none;\n",
              "    fill: var(--fill-color);\n",
              "    height: 32px;\n",
              "    padding: 0;\n",
              "    width: 32px;\n",
              "  }\n",
              "\n",
              "  .colab-df-quickchart:hover {\n",
              "    background-color: var(--hover-bg-color);\n",
              "    box-shadow: 0 1px 2px rgba(60, 64, 67, 0.3), 0 1px 3px 1px rgba(60, 64, 67, 0.15);\n",
              "    fill: var(--button-hover-fill-color);\n",
              "  }\n",
              "\n",
              "  .colab-df-quickchart-complete:disabled,\n",
              "  .colab-df-quickchart-complete:disabled:hover {\n",
              "    background-color: var(--disabled-bg-color);\n",
              "    fill: var(--disabled-fill-color);\n",
              "    box-shadow: none;\n",
              "  }\n",
              "\n",
              "  .colab-df-spinner {\n",
              "    border: 2px solid var(--fill-color);\n",
              "    border-color: transparent;\n",
              "    border-bottom-color: var(--fill-color);\n",
              "    animation:\n",
              "      spin 1s steps(1) infinite;\n",
              "  }\n",
              "\n",
              "  @keyframes spin {\n",
              "    0% {\n",
              "      border-color: transparent;\n",
              "      border-bottom-color: var(--fill-color);\n",
              "      border-left-color: var(--fill-color);\n",
              "    }\n",
              "    20% {\n",
              "      border-color: transparent;\n",
              "      border-left-color: var(--fill-color);\n",
              "      border-top-color: var(--fill-color);\n",
              "    }\n",
              "    30% {\n",
              "      border-color: transparent;\n",
              "      border-left-color: var(--fill-color);\n",
              "      border-top-color: var(--fill-color);\n",
              "      border-right-color: var(--fill-color);\n",
              "    }\n",
              "    40% {\n",
              "      border-color: transparent;\n",
              "      border-right-color: var(--fill-color);\n",
              "      border-top-color: var(--fill-color);\n",
              "    }\n",
              "    60% {\n",
              "      border-color: transparent;\n",
              "      border-right-color: var(--fill-color);\n",
              "    }\n",
              "    80% {\n",
              "      border-color: transparent;\n",
              "      border-right-color: var(--fill-color);\n",
              "      border-bottom-color: var(--fill-color);\n",
              "    }\n",
              "    90% {\n",
              "      border-color: transparent;\n",
              "      border-bottom-color: var(--fill-color);\n",
              "    }\n",
              "  }\n",
              "</style>\n",
              "\n",
              "  <script>\n",
              "    async function quickchart(key) {\n",
              "      const quickchartButtonEl =\n",
              "        document.querySelector('#' + key + ' button');\n",
              "      quickchartButtonEl.disabled = true;  // To prevent multiple clicks.\n",
              "      quickchartButtonEl.classList.add('colab-df-spinner');\n",
              "      try {\n",
              "        const charts = await google.colab.kernel.invokeFunction(\n",
              "            'suggestCharts', [key], {});\n",
              "      } catch (error) {\n",
              "        console.error('Error during call to suggestCharts:', error);\n",
              "      }\n",
              "      quickchartButtonEl.classList.remove('colab-df-spinner');\n",
              "      quickchartButtonEl.classList.add('colab-df-quickchart-complete');\n",
              "    }\n",
              "    (() => {\n",
              "      let quickchartButtonEl =\n",
              "        document.querySelector('#df-36046768-cd0b-4cc0-a33c-2ba4667b59dd button');\n",
              "      quickchartButtonEl.style.display =\n",
              "        google.colab.kernel.accessAllowed ? 'block' : 'none';\n",
              "    })();\n",
              "  </script>\n",
              "</div>\n",
              "\n",
              "    </div>\n",
              "  </div>\n"
            ],
            "application/vnd.google.colaboratory.intrinsic+json": {
              "type": "dataframe",
              "summary": "{\n  \"name\": \"df[['Age', 'Income']]\",\n  \"rows\": 4,\n  \"fields\": [\n    {\n      \"column\": \"Age\",\n      \"properties\": {\n        \"dtype\": \"number\",\n        \"std\": 5,\n        \"min\": 22,\n        \"max\": 35,\n        \"num_unique_values\": 4,\n        \"samples\": [\n          22,\n          30,\n          28\n        ],\n        \"semantic_type\": \"\",\n        \"description\": \"\"\n      }\n    },\n    {\n      \"column\": \"Income\",\n      \"properties\": {\n        \"dtype\": \"number\",\n        \"std\": 12500,\n        \"min\": 30000,\n        \"max\": 60000,\n        \"num_unique_values\": 4,\n        \"samples\": [\n          30000,\n          60000,\n          45000\n        ],\n        \"semantic_type\": \"\",\n        \"description\": \"\"\n      }\n    }\n  ]\n}"
            }
          },
          "metadata": {},
          "execution_count": 17
        }
      ]
    },
    {
      "cell_type": "markdown",
      "source": [
        "This will return a new DataFrame that contains only the “age” and “income” columns."
      ],
      "metadata": {
        "id": "TKA7DjfzkGxx"
      }
    },
    {
      "cell_type": "markdown",
      "source": [
        "### Filtering Rows\n"
      ],
      "metadata": {
        "id": "mh4xDHTNkIsu"
      }
    },
    {
      "cell_type": "markdown",
      "source": [
        "To filter rows based on a condition, we can use the square bracket notation with a boolean expression. For example, if we want to select only the rows where the “age” column is greater than 30, we can run the following code:"
      ],
      "metadata": {
        "id": "jlDgF84hkK-0"
      }
    },
    {
      "cell_type": "code",
      "source": [
        "df[df['Age'] > 30]"
      ],
      "metadata": {
        "colab": {
          "base_uri": "https://localhost:8080/",
          "height": 81
        },
        "id": "r-ReVfnpkJS-",
        "outputId": "ec7c7ad8-6321-4ece-e9f2-8dc6780bfdf5"
      },
      "execution_count": null,
      "outputs": [
        {
          "output_type": "execute_result",
          "data": {
            "text/plain": [
              "      Name  Age    City Country Gender  Income\n",
              "2  Charlie   35  London      UK      M   40000"
            ],
            "text/html": [
              "\n",
              "  <div id=\"df-3419dd78-43e7-4749-93ae-eb6a76a0437c\" class=\"colab-df-container\">\n",
              "    <div>\n",
              "<style scoped>\n",
              "    .dataframe tbody tr th:only-of-type {\n",
              "        vertical-align: middle;\n",
              "    }\n",
              "\n",
              "    .dataframe tbody tr th {\n",
              "        vertical-align: top;\n",
              "    }\n",
              "\n",
              "    .dataframe thead th {\n",
              "        text-align: right;\n",
              "    }\n",
              "</style>\n",
              "<table border=\"1\" class=\"dataframe\">\n",
              "  <thead>\n",
              "    <tr style=\"text-align: right;\">\n",
              "      <th></th>\n",
              "      <th>Name</th>\n",
              "      <th>Age</th>\n",
              "      <th>City</th>\n",
              "      <th>Country</th>\n",
              "      <th>Gender</th>\n",
              "      <th>Income</th>\n",
              "    </tr>\n",
              "  </thead>\n",
              "  <tbody>\n",
              "    <tr>\n",
              "      <th>2</th>\n",
              "      <td>Charlie</td>\n",
              "      <td>35</td>\n",
              "      <td>London</td>\n",
              "      <td>UK</td>\n",
              "      <td>M</td>\n",
              "      <td>40000</td>\n",
              "    </tr>\n",
              "  </tbody>\n",
              "</table>\n",
              "</div>\n",
              "    <div class=\"colab-df-buttons\">\n",
              "\n",
              "  <div class=\"colab-df-container\">\n",
              "    <button class=\"colab-df-convert\" onclick=\"convertToInteractive('df-3419dd78-43e7-4749-93ae-eb6a76a0437c')\"\n",
              "            title=\"Convert this dataframe to an interactive table.\"\n",
              "            style=\"display:none;\">\n",
              "\n",
              "  <svg xmlns=\"http://www.w3.org/2000/svg\" height=\"24px\" viewBox=\"0 -960 960 960\">\n",
              "    <path d=\"M120-120v-720h720v720H120Zm60-500h600v-160H180v160Zm220 220h160v-160H400v160Zm0 220h160v-160H400v160ZM180-400h160v-160H180v160Zm440 0h160v-160H620v160ZM180-180h160v-160H180v160Zm440 0h160v-160H620v160Z\"/>\n",
              "  </svg>\n",
              "    </button>\n",
              "\n",
              "  <style>\n",
              "    .colab-df-container {\n",
              "      display:flex;\n",
              "      gap: 12px;\n",
              "    }\n",
              "\n",
              "    .colab-df-convert {\n",
              "      background-color: #E8F0FE;\n",
              "      border: none;\n",
              "      border-radius: 50%;\n",
              "      cursor: pointer;\n",
              "      display: none;\n",
              "      fill: #1967D2;\n",
              "      height: 32px;\n",
              "      padding: 0 0 0 0;\n",
              "      width: 32px;\n",
              "    }\n",
              "\n",
              "    .colab-df-convert:hover {\n",
              "      background-color: #E2EBFA;\n",
              "      box-shadow: 0px 1px 2px rgba(60, 64, 67, 0.3), 0px 1px 3px 1px rgba(60, 64, 67, 0.15);\n",
              "      fill: #174EA6;\n",
              "    }\n",
              "\n",
              "    .colab-df-buttons div {\n",
              "      margin-bottom: 4px;\n",
              "    }\n",
              "\n",
              "    [theme=dark] .colab-df-convert {\n",
              "      background-color: #3B4455;\n",
              "      fill: #D2E3FC;\n",
              "    }\n",
              "\n",
              "    [theme=dark] .colab-df-convert:hover {\n",
              "      background-color: #434B5C;\n",
              "      box-shadow: 0px 1px 3px 1px rgba(0, 0, 0, 0.15);\n",
              "      filter: drop-shadow(0px 1px 2px rgba(0, 0, 0, 0.3));\n",
              "      fill: #FFFFFF;\n",
              "    }\n",
              "  </style>\n",
              "\n",
              "    <script>\n",
              "      const buttonEl =\n",
              "        document.querySelector('#df-3419dd78-43e7-4749-93ae-eb6a76a0437c button.colab-df-convert');\n",
              "      buttonEl.style.display =\n",
              "        google.colab.kernel.accessAllowed ? 'block' : 'none';\n",
              "\n",
              "      async function convertToInteractive(key) {\n",
              "        const element = document.querySelector('#df-3419dd78-43e7-4749-93ae-eb6a76a0437c');\n",
              "        const dataTable =\n",
              "          await google.colab.kernel.invokeFunction('convertToInteractive',\n",
              "                                                    [key], {});\n",
              "        if (!dataTable) return;\n",
              "\n",
              "        const docLinkHtml = 'Like what you see? Visit the ' +\n",
              "          '<a target=\"_blank\" href=https://colab.research.google.com/notebooks/data_table.ipynb>data table notebook</a>'\n",
              "          + ' to learn more about interactive tables.';\n",
              "        element.innerHTML = '';\n",
              "        dataTable['output_type'] = 'display_data';\n",
              "        await google.colab.output.renderOutput(dataTable, element);\n",
              "        const docLink = document.createElement('div');\n",
              "        docLink.innerHTML = docLinkHtml;\n",
              "        element.appendChild(docLink);\n",
              "      }\n",
              "    </script>\n",
              "  </div>\n",
              "\n",
              "\n",
              "    </div>\n",
              "  </div>\n"
            ],
            "application/vnd.google.colaboratory.intrinsic+json": {
              "type": "dataframe",
              "summary": "{\n  \"name\": \"df[df['Age'] > 30]\",\n  \"rows\": 1,\n  \"fields\": [\n    {\n      \"column\": \"Name\",\n      \"properties\": {\n        \"dtype\": \"string\",\n        \"num_unique_values\": 1,\n        \"samples\": [\n          \"Charlie\"\n        ],\n        \"semantic_type\": \"\",\n        \"description\": \"\"\n      }\n    },\n    {\n      \"column\": \"Age\",\n      \"properties\": {\n        \"dtype\": \"number\",\n        \"std\": null,\n        \"min\": 35,\n        \"max\": 35,\n        \"num_unique_values\": 1,\n        \"samples\": [\n          35\n        ],\n        \"semantic_type\": \"\",\n        \"description\": \"\"\n      }\n    },\n    {\n      \"column\": \"City\",\n      \"properties\": {\n        \"dtype\": \"string\",\n        \"num_unique_values\": 1,\n        \"samples\": [\n          \"London\"\n        ],\n        \"semantic_type\": \"\",\n        \"description\": \"\"\n      }\n    },\n    {\n      \"column\": \"Country\",\n      \"properties\": {\n        \"dtype\": \"string\",\n        \"num_unique_values\": 1,\n        \"samples\": [\n          \"UK\"\n        ],\n        \"semantic_type\": \"\",\n        \"description\": \"\"\n      }\n    },\n    {\n      \"column\": \"Gender\",\n      \"properties\": {\n        \"dtype\": \"string\",\n        \"num_unique_values\": 1,\n        \"samples\": [\n          \"M\"\n        ],\n        \"semantic_type\": \"\",\n        \"description\": \"\"\n      }\n    },\n    {\n      \"column\": \"Income\",\n      \"properties\": {\n        \"dtype\": \"number\",\n        \"std\": null,\n        \"min\": 40000,\n        \"max\": 40000,\n        \"num_unique_values\": 1,\n        \"samples\": [\n          40000\n        ],\n        \"semantic_type\": \"\",\n        \"description\": \"\"\n      }\n    }\n  ]\n}"
            }
          },
          "metadata": {},
          "execution_count": 18
        }
      ]
    },
    {
      "cell_type": "markdown",
      "source": [
        "This will return a new DataFrame that contains only the rows where the “age” column is greater than 30."
      ],
      "metadata": {
        "id": "wt9svIeGkMv2"
      }
    },
    {
      "cell_type": "markdown",
      "source": [
        "### Grouping Data"
      ],
      "metadata": {
        "id": "gHXLn5UVkQQV"
      }
    },
    {
      "cell_type": "markdown",
      "source": [
        "To group data by a particular column and perform an aggregation function on each group, we can use the groupby() function. For example, if we want to group our data by the “gender” column and calculate the mean age for each gender, we can run the following code:"
      ],
      "metadata": {
        "id": "X3oGgKDHkSV5"
      }
    },
    {
      "cell_type": "code",
      "source": [
        "df.groupby('Gender')['Age'].mean()"
      ],
      "metadata": {
        "colab": {
          "base_uri": "https://localhost:8080/"
        },
        "id": "_f8pPeGDkRAR",
        "outputId": "3a942485-5dfc-44cf-af7c-98c7bbe2dc8a"
      },
      "execution_count": null,
      "outputs": [
        {
          "output_type": "execute_result",
          "data": {
            "text/plain": [
              "Gender\n",
              "F    28.0\n",
              "M    29.0\n",
              "Name: Age, dtype: float64"
            ]
          },
          "metadata": {},
          "execution_count": 19
        }
      ]
    },
    {
      "cell_type": "markdown",
      "source": [
        "This will return a new Series object that contains the mean age for each gender."
      ],
      "metadata": {
        "id": "sWkho7xqk2KX"
      }
    },
    {
      "cell_type": "markdown",
      "metadata": {
        "id": "17QdWKRVfklF"
      },
      "source": [
        "# 10. Introducing Machine Learning: Tasks and Pipelines\n",
        "\n",
        "This notebook will walk us through basic Machine Learning tasks and pipelines before we jump into deep learning.\n",
        "\n",
        "What is a task? What are we learning? In this notebook we will walk through different scenarios commonly encountered in machine learning. These will help to orient you before we dive into the deep learning approach to these tasks. Often, deep learning is used as an approach to machine learning or as a component within a machine learning pipeline. Deep learning is also complex, ensemble method that incorporates other machine learning models or components simultaneously. For either case, familiarity with the following topics will be critical!\n",
        "\n",
        "### Imports\n",
        "\n",
        "We will predominantly be using scikit-learn, numpy and scipy to demonstrate  basic machine learning concepts."
      ]
    },
    {
      "cell_type": "code",
      "metadata": {
        "id": "vIvRAtHufklM"
      },
      "source": [
        "import sklearn\n",
        "import numpy as np\n",
        "import scipy"
      ],
      "execution_count": null,
      "outputs": []
    },
    {
      "cell_type": "markdown",
      "metadata": {
        "id": "KwnwHiydfklO"
      },
      "source": [
        "### Setting up Data\n",
        "\n",
        "One of the advantages of scikit learn is that it includes functionality to load sample datasets or generate datasets based on a stochastic process or distribution. We use the scikit-learn [make_classification function](https://scikit-learn.org/stable/modules/generated/sklearn.datasets.make_classification.html) which uses an algorithm based off _I. Guyon, “Design of experiments for the NIPS 2003 variable selection benchmark”, 2003. The algorithm creates clusters of points normally distributed (std=1) about vertices of a hypercube with dimensions equal to the number of features dimensions that explain the class, and sides of length 2 times a class separation variable (default=1), then assigns an equal number of clusters to each class. It introduces interdependence between features and noise to the data. Key variables to toggle are the number of classes, number of features, number of informative features, and the class separation factor (higher is easier), etc. (see [paper](http://clopinet.com/isabelle/Projects/NIPS2003/Slides/NIPS2003-Datasets.pdf) for more details)."
      ]
    },
    {
      "cell_type": "code",
      "metadata": {
        "id": "SJbjQKuUfklO"
      },
      "source": [
        "import sklearn.datasets\n",
        "import sklearn.model_selection"
      ],
      "execution_count": null,
      "outputs": []
    },
    {
      "cell_type": "code",
      "metadata": {
        "id": "znm-0mtmfklO"
      },
      "source": [
        "X_class, y_class = sklearn.datasets.make_classification(n_samples=200, n_features=20, n_classes=2)"
      ],
      "execution_count": null,
      "outputs": []
    },
    {
      "cell_type": "code",
      "metadata": {
        "id": "Q0U-D8_K7hmg"
      },
      "source": [
        "sklearn.datasets.make_classification?"
      ],
      "execution_count": null,
      "outputs": []
    },
    {
      "cell_type": "code",
      "metadata": {
        "colab": {
          "base_uri": "https://localhost:8080/"
        },
        "id": "I2hl_75sfklP",
        "outputId": "e6ea20ed-0946-41f2-fc7d-2de429215cab"
      },
      "source": [
        "X_class[0:2]"
      ],
      "execution_count": null,
      "outputs": [
        {
          "output_type": "execute_result",
          "data": {
            "text/plain": [
              "array([[ 0.28342069, -0.33064931,  0.11553121, -0.31917148, -0.40627896,\n",
              "        -1.06452513, -1.10343936, -0.67709884, -0.83986669, -0.2992828 ,\n",
              "        -1.50251219, -2.66859775,  0.23961162,  1.23453552,  1.15316196,\n",
              "        -0.88956319, -0.20555316, -1.21252845,  1.10584084,  0.38814573],\n",
              "       [ 1.76820587,  0.08616862,  0.41170506,  0.52676837, -1.1585453 ,\n",
              "         1.55071382,  1.10836029, -0.69361196,  1.1259795 , -2.15317895,\n",
              "         0.44300573, -0.40608004,  0.30150663,  0.32910468,  3.36413122,\n",
              "        -0.76264118,  0.9638533 ,  1.16571628, -0.06593765, -1.80468671]])"
            ]
          },
          "metadata": {},
          "execution_count": 11
        }
      ]
    },
    {
      "cell_type": "code",
      "metadata": {
        "colab": {
          "base_uri": "https://localhost:8080/"
        },
        "id": "MnCWIZEofklQ",
        "outputId": "99b8bdad-ac1d-4fc4-a903-6b68dda30c47"
      },
      "source": [
        "y_class[0:2]"
      ],
      "execution_count": null,
      "outputs": [
        {
          "output_type": "execute_result",
          "data": {
            "text/plain": [
              "array([1, 1])"
            ]
          },
          "metadata": {},
          "execution_count": 12
        }
      ]
    },
    {
      "cell_type": "markdown",
      "metadata": {
        "id": "cZOziKx1fklR"
      },
      "source": [
        "Here, we see X (features, dimensions, or columns) and y (class, category, or label to be predicted) of the first two data points. Remember that our hope is to find a function f(x), such that f(X) best maps onto y."
      ]
    },
    {
      "cell_type": "code",
      "metadata": {
        "id": "Lwql9u8IfklS"
      },
      "source": [
        "import matplotlib.pyplot as plt"
      ],
      "execution_count": null,
      "outputs": []
    },
    {
      "cell_type": "code",
      "metadata": {
        "colab": {
          "base_uri": "https://localhost:8080/",
          "height": 281
        },
        "id": "pZdg-_y9fklS",
        "outputId": "39ce7079-785a-4247-8c8c-c706ea401ba2"
      },
      "source": [
        "plt.title(\"Plotting two dimensions of Classification dataset\")\n",
        "plt.scatter(X_class[:, 0], X_class[:, 1], marker='o', c=y_class, s=25, edgecolor='k')\n",
        "plt.show()"
      ],
      "execution_count": null,
      "outputs": [
        {
          "output_type": "display_data",
          "data": {
            "text/plain": [
              "<Figure size 432x288 with 1 Axes>"
            ],
            "image/png": "[encoded data removed]"
          },
          "metadata": {
            "needs_background": "light"
          }
        }
      ]
    },
    {
      "cell_type": "markdown",
      "metadata": {
        "id": "XF1453PVH_Y3"
      },
      "source": [
        "We now use a similar algorithm offered by scikit-learn to build a regression dataset. [make_regression](https://scikit-learn.org/stable/modules/generated/sklearn.datasets.make_regression.html#sklearn.datasets.make_regression) produces regression targets as an optionally-sparse random linear combination of random features, with noise. Its informative features may be uncorrelated, or low rank (few features account for most of the variance)."
      ]
    },
    {
      "cell_type": "code",
      "metadata": {
        "id": "IanfL-4tfklT"
      },
      "source": [
        "X_reg, y_reg = sklearn.datasets.make_regression(n_samples=200, n_features=20)"
      ],
      "execution_count": null,
      "outputs": []
    },
    {
      "cell_type": "code",
      "metadata": {
        "colab": {
          "base_uri": "https://localhost:8080/"
        },
        "id": "bAXMq0IGfklT",
        "outputId": "97fde472-d6fb-4380-d4e4-33970d53eb03"
      },
      "source": [
        "X_reg[0]"
      ],
      "execution_count": null,
      "outputs": [
        {
          "output_type": "execute_result",
          "data": {
            "text/plain": [
              "array([ 0.07055785,  0.28171923, -1.21568803, -0.62858654, -0.0232289 ,\n",
              "       -0.98630492,  0.13407326, -0.81406177,  0.9011727 , -0.48775052,\n",
              "        1.54826519, -0.99752222,  0.23826175, -0.32860539, -0.54059294,\n",
              "       -0.99559741,  0.47800688, -0.2642608 , -0.47493918,  0.2772619 ])"
            ]
          },
          "metadata": {},
          "execution_count": 16
        }
      ]
    },
    {
      "cell_type": "code",
      "metadata": {
        "colab": {
          "base_uri": "https://localhost:8080/"
        },
        "id": "CD8L-Q6gfklU",
        "outputId": "c30b8390-a0d8-4a07-92a9-79ab73cde9d7"
      },
      "source": [
        "y_reg[0]"
      ],
      "execution_count": null,
      "outputs": [
        {
          "output_type": "execute_result",
          "data": {
            "text/plain": [
              "-171.3050299099245"
            ]
          },
          "metadata": {},
          "execution_count": 17
        }
      ]
    },
    {
      "cell_type": "markdown",
      "metadata": {
        "id": "7Q5sUe-xfklU"
      },
      "source": [
        "Here, we see X (features, dimensions, or columns) and y (feature or value to be predicted) of the first two data points. Remember that our hope is to find a function f(x), such that f(X) best maps onto y. While in classification we deal with descrete values, usually a class or label, in regression we are often dealing with numerical values."
      ]
    },
    {
      "cell_type": "markdown",
      "metadata": {
        "id": "DrwkobaAfklV"
      },
      "source": [
        "So we've created a toy dataset for classification with 200 samples, 20 features, and 2 target classes. For regression instead of two classes, its one numerical value. Most standard classification and regression have such set ups.\n",
        "Let us now split this into training and testing class so that we can begin to train and test models."
      ]
    },
    {
      "cell_type": "code",
      "metadata": {
        "id": "MxLSv_jifklV"
      },
      "source": [
        "X_train_class, X_test_class, y_train_class, y_test_class = sklearn.model_selection.train_test_split(X_class, y_class)"
      ],
      "execution_count": null,
      "outputs": []
    },
    {
      "cell_type": "code",
      "metadata": {
        "id": "3MQAtI7BfklW"
      },
      "source": [
        "X_train_reg, X_test_reg, y_train_reg, y_test_reg = sklearn.model_selection.train_test_split(X_reg, y_reg)"
      ],
      "execution_count": null,
      "outputs": []
    },
    {
      "cell_type": "markdown",
      "metadata": {
        "id": "0fiM9n_cfklW"
      },
      "source": [
        "### Supervised Learning\n",
        "\n",
        "Supervised learning is the setting where we have labelled training data, or a target value alongside our data that allows us to explicitly discipline our model to produce the target. Now we will train some simple models to predict values and labels.\n"
      ]
    },
    {
      "cell_type": "code",
      "metadata": {
        "id": "tKfzR0LtfklW"
      },
      "source": [
        "from sklearn.linear_model import LinearRegression\n",
        "from sklearn.linear_model import LogisticRegression"
      ],
      "execution_count": null,
      "outputs": []
    },
    {
      "cell_type": "markdown",
      "metadata": {
        "id": "t5cE-jDmgRho"
      },
      "source": [
        "***Here we call the built-in algorithm of Logistic regression and linear regression from sklearn package."
      ]
    },
    {
      "cell_type": "code",
      "metadata": {
        "id": "96tIJaSyfklX"
      },
      "source": [
        "logreg = LogisticRegression()"
      ],
      "execution_count": null,
      "outputs": []
    },
    {
      "cell_type": "code",
      "metadata": {
        "id": "p8R7coZFfklX"
      },
      "source": [
        "linreg = LinearRegression()"
      ],
      "execution_count": null,
      "outputs": []
    },
    {
      "cell_type": "code",
      "metadata": {
        "colab": {
          "base_uri": "https://localhost:8080/"
        },
        "id": "hCF-5Wl5fklX",
        "outputId": "d2fed72a-67a2-457a-d08f-e3de845a6d5a"
      },
      "source": [
        "logreg.fit(X_train_class, y_train_class)"
      ],
      "execution_count": null,
      "outputs": [
        {
          "output_type": "execute_result",
          "data": {
            "text/plain": [
              "LogisticRegression(C=1.0, class_weight=None, dual=False, fit_intercept=True,\n",
              "                   intercept_scaling=1, l1_ratio=None, max_iter=100,\n",
              "                   multi_class='auto', n_jobs=None, penalty='l2',\n",
              "                   random_state=None, solver='lbfgs', tol=0.0001, verbose=0,\n",
              "                   warm_start=False)"
            ]
          },
          "metadata": {},
          "execution_count": 23
        }
      ]
    },
    {
      "cell_type": "code",
      "metadata": {
        "colab": {
          "base_uri": "https://localhost:8080/"
        },
        "id": "Pdl-vHoEfklY",
        "outputId": "e0c26ee4-416c-44b2-ed4c-fbdf65552f4c"
      },
      "source": [
        "linreg.fit(X_train_reg, y_train_reg)"
      ],
      "execution_count": null,
      "outputs": [
        {
          "output_type": "execute_result",
          "data": {
            "text/plain": [
              "LinearRegression(copy_X=True, fit_intercept=True, n_jobs=None, normalize=False)"
            ]
          },
          "metadata": {},
          "execution_count": 24
        }
      ]
    },
    {
      "cell_type": "code",
      "metadata": {
        "colab": {
          "base_uri": "https://localhost:8080/"
        },
        "id": "DdRKBWcUfklY",
        "outputId": "07aa073a-5715-44aa-b1c3-2d4e19464583"
      },
      "source": [
        "logreg.predict(X_test_class[0].reshape(1, -1))"
      ],
      "execution_count": null,
      "outputs": [
        {
          "output_type": "execute_result",
          "data": {
            "text/plain": [
              "array([0])"
            ]
          },
          "metadata": {},
          "execution_count": 25
        }
      ]
    },
    {
      "cell_type": "code",
      "metadata": {
        "colab": {
          "base_uri": "https://localhost:8080/"
        },
        "id": "NsKSJHc2fklY",
        "outputId": "0e9644fb-b727-4114-c600-b6de920f722f"
      },
      "source": [
        "linreg.predict(X_test_reg[0].reshape(1, -1))"
      ],
      "execution_count": null,
      "outputs": [
        {
          "output_type": "execute_result",
          "data": {
            "text/plain": [
              "array([-300.88845688])"
            ]
          },
          "metadata": {},
          "execution_count": 26
        }
      ]
    },
    {
      "cell_type": "markdown",
      "metadata": {
        "id": "Eu_5HxtKfklY"
      },
      "source": [
        "Boom! That's all it takes in scikit learn to train a logistic regression and linear regression model, two simple machine learning models for classification and regression. Scikit-learn offers many different supervised learning models we can try out: https://scikit-learn.org/stable/supervised_learning.html#supervised-learning\n",
        "\n",
        "### Testing and Performance\n",
        "\n",
        "Once we have our model trained, the next step is to test its performance. Seeing how well our model does is a key part of machine learning and deep learning, and we will have longer sections devoted exclusively to this topic, but let us begin with some basic measures of test performance."
      ]
    },
    {
      "cell_type": "code",
      "metadata": {
        "id": "FnJKUPNPfklZ"
      },
      "source": [
        "import sklearn.metrics"
      ],
      "execution_count": null,
      "outputs": []
    },
    {
      "cell_type": "markdown",
      "metadata": {
        "id": "OqV5_kEcgd7-"
      },
      "source": [
        "Here, accuracy score measures the fraction of correctly classified samples, and r2_score measures R^2 (coefficient of determination)."
      ]
    },
    {
      "cell_type": "code",
      "metadata": {
        "colab": {
          "base_uri": "https://localhost:8080/"
        },
        "id": "EG0vDwAIfklZ",
        "outputId": "86381db5-3cc7-4ace-bea0-9c3afa44078d"
      },
      "source": [
        "sklearn.metrics.accuracy_score(y_test_class, logreg.predict(X_test_class))"
      ],
      "execution_count": null,
      "outputs": [
        {
          "output_type": "execute_result",
          "data": {
            "text/plain": [
              "0.94"
            ]
          },
          "metadata": {},
          "execution_count": 28
        }
      ]
    },
    {
      "cell_type": "code",
      "metadata": {
        "colab": {
          "base_uri": "https://localhost:8080/"
        },
        "id": "_lxr6o7BfklZ",
        "outputId": "c33c0c34-d441-40a2-f391-4250fd6c5468"
      },
      "source": [
        "sklearn.metrics.r2_score(y_test_reg, linreg.predict(X_test_reg))"
      ],
      "execution_count": null,
      "outputs": [
        {
          "output_type": "execute_result",
          "data": {
            "text/plain": [
              "1.0"
            ]
          },
          "metadata": {},
          "execution_count": 29
        }
      ]
    },
    {
      "cell_type": "markdown",
      "metadata": {
        "id": "JjYxDz49fkla"
      },
      "source": [
        "For these toy datasets, basic linear models do well. Scikit-learn has many other metrics: https://scikit-learn.org/stable/modules/model_evaluation.html"
      ]
    }
  ]
}