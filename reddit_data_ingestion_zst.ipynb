{
  "cells": [
    {
      "cell_type": "markdown",
      "metadata": {
        "id": "ETj4rEiF15Tk"
      },
      "source": [
        "# Accessing Reddit Data\n",
        "\n",
        "This notebook will look at the Pushshift dataset of reddit submissions and comments."
      ]
    },
    {
      "cell_type": "markdown",
      "source": [
        "The dataset consists of two files per month. For instance, for January 2021, we have RS_2021-01.zst and RC_2021-01.zst. The RS_2021-01.zst file contains all the submissions (or posts) made in January 2021, and the RC_2021-01.zst file contains all the comments made in January 2021. Each file literally contains **everything** posted on Reddit during that month, which makes them so large. You will want to filter the data to create a smaller dataset for your analyses.\n",
        "\n",
        "In this tutorial, we are going to retrieve all the submissions and comments posted on r/AmItheAsshole in January 2021. We assume that RS_2021-01.zst and RC_2021-01.zst have been uploaded to Google Drive."
      ],
      "metadata": {
        "id": "EbQJN8d33Rg3"
      }
    },
    {
      "cell_type": "code",
      "source": [
        "from google.colab import drive\n",
        "drive.mount('/content/drive')"
      ],
      "metadata": {
        "id": "tNSifabH4wBH",
        "outputId": "5bf00594-d943-4333-8f11-2630cd7994a4",
        "colab": {
          "base_uri": "https://localhost:8080/"
        }
      },
      "execution_count": null,
      "outputs": [
        {
          "output_type": "stream",
          "name": "stdout",
          "text": [
            "Mounted at /content/drive\n"
          ]
        }
      ]
    },
    {
      "cell_type": "code",
      "source": [
        "cd /content/drive/MyDrive"
      ],
      "metadata": {
        "id": "PCo6x7784zTQ"
      },
      "execution_count": null,
      "outputs": []
    },
    {
      "cell_type": "markdown",
      "source": [
        "You need zstandard package for this."
      ],
      "metadata": {
        "id": "AFB7ZFIM5H4c"
      }
    },
    {
      "cell_type": "code",
      "source": [
        "!pip install zstandard"
      ],
      "metadata": {
        "id": "SLGotz5q5JLE"
      },
      "execution_count": null,
      "outputs": []
    },
    {
      "cell_type": "markdown",
      "source": [
        "## Filtering .zst file to create a smaller .json file.\n",
        "\n",
        "Let's open RS_2021-01.zst and filter all submissions posted on a particular subreddit (r/AmItheAssHole) on January 2021. Then, we are going to create a smaller .json file that can be easily opened by pandas and be used for the analyses."
      ],
      "metadata": {
        "id": "97wF0N_l1_yW"
      }
    },
    {
      "cell_type": "code",
      "source": [
        "import zstandard\n",
        "import os\n",
        "import json\n",
        "import sys\n",
        "from datetime import datetime\n",
        "\n",
        "def read_and_decode(reader, chunk_size, max_window_size, previous_chunk=None, bytes_read=0):\n",
        "\tchunk = reader.read(chunk_size)\n",
        "\tbytes_read += chunk_size\n",
        "\tif previous_chunk is not None:\n",
        "\t\tchunk = previous_chunk + chunk\n",
        "\ttry:\n",
        "\t\treturn chunk.decode()\n",
        "\texcept UnicodeDecodeError:\n",
        "\t\tif bytes_read > max_window_size:\n",
        "\t\t\traise UnicodeError(f\"Unable to decode frame after reading {bytes_read:,} bytes\")\n",
        "\t\tlog.info(f\"Decoding error with {bytes_read:,} bytes, reading another chunk\")\n",
        "\t\treturn read_and_decode(reader, chunk_size, max_window_size, chunk, bytes_read)\n",
        "\n",
        "\n",
        "def read_lines_zst(file_name):\n",
        "\twith open(file_name, 'rb') as file_handle:\n",
        "\t\tbuffer = ''\n",
        "\t\treader = zstandard.ZstdDecompressor(max_window_size=2**31).stream_reader(file_handle)\n",
        "\t\twhile True:\n",
        "\t\t\tchunk = read_and_decode(reader, 2**27, (2**29) * 2)\n",
        "\n",
        "\t\t\tif not chunk:\n",
        "\t\t\t\tbreak\n",
        "\t\t\tlines = (buffer + chunk).split(\"\\n\")\n",
        "\n",
        "\t\t\tfor line in lines[:-1]:\n",
        "\t\t\t\tyield line, file_handle.tell()\n",
        "\n",
        "\t\t\tbuffer = lines[-1]\n",
        "\n",
        "\t\treader.close()"
      ],
      "metadata": {
        "id": "Ti6WbPRl2VCi"
      },
      "execution_count": null,
      "outputs": []
    },
    {
      "cell_type": "markdown",
      "source": [
        "Reddit datasets consist of two files per month. For instance, for January 2021, we have RS_2021-01.zst and RC_2021-01.zst. RS_2021-01.zst file contains the entire submissions posted on January 2021, and RC_2021-01.zst file contains the entire comments posted on January 2021."
      ],
      "metadata": {
        "id": "EJ1HchF_2uYa"
      }
    },
    {
      "cell_type": "markdown",
      "source": [
        "First, let's go through all submissions in RS_2021-01.zst, filter submissions in r/AmItheAsshole, and save them to another file RS-2021-01_subreddit.json. You can change the field and value in the following code to change the filtering criteria."
      ],
      "metadata": {
        "id": "ocnkuhxi5UL9"
      }
    },
    {
      "cell_type": "code",
      "source": [
        "file_lines = 0\n",
        "file_bytes_processed = 0\n",
        "created = None\n",
        "field = \"subreddit\"\n",
        "value = \"AmItheAsshole\"\n",
        "bad_lines = 0\n",
        "file_written = open('RS-2021-01_subreddit.json', 'w')\n",
        "for line, file_bytes_processed in read_lines_zst('RS_2021-01.zst'):\n",
        "    try:\n",
        "        obj = json.loads(line)\n",
        "        created = datetime.utcfromtimestamp(int(obj['created_utc']))\n",
        "        temp = obj[field] == value\n",
        "        if temp:\n",
        "            file_written.write(json.dumps(obj) + '\\n')\n",
        "    except (KeyError, json.JSONDecodeError) as err:\n",
        "        bad_lines += 1\n",
        "    file_lines += 1\n",
        "    if file_lines % 100000 == 0:\n",
        "        print(f\"{created.strftime('%Y-%m-%d %H:%M:%S')} : {file_lines:,} : {bad_lines:,} : {file_bytes_processed:,}:{(file_bytes_processed / file_size) * 100:.0f}%\")"
      ],
      "metadata": {
        "id": "dX8UIZdK2urK"
      },
      "execution_count": null,
      "outputs": []
    },
    {
      "cell_type": "markdown",
      "source": [
        "Second, let's go through all comments in RC_2021-01.zst, filter comments in r/AmItheAsshole, and save them to another file RS-2021-01_subreddit.json. You can change the field and value in the following code to change the filtering criteria."
      ],
      "metadata": {
        "id": "Z4lJnNJb5-Hy"
      }
    },
    {
      "cell_type": "code",
      "source": [
        "file_lines = 0\n",
        "file_bytes_processed = 0\n",
        "created = None\n",
        "field = \"subreddit\"\n",
        "value = \"AmItheAsshole\"\n",
        "bad_lines = 0\n",
        "file_written = open('RC-2021-01_subreddit.json', 'w')\n",
        "for line, file_bytes_processed in read_lines_zst('RC_2021-01.zst'):\n",
        "    try:\n",
        "        obj = json.loads(line)\n",
        "        created = datetime.utcfromtimestamp(int(obj['created_utc']))\n",
        "        temp = obj[field] == value\n",
        "        if temp:\n",
        "            file_written.write(json.dumps(obj) + '\\n')\n",
        "    except (KeyError, json.JSONDecodeError) as err:\n",
        "        bad_lines += 1\n",
        "    file_lines += 1\n",
        "    if file_lines % 100000 == 0:\n",
        "        print(f\"{created.strftime('%Y-%m-%d %H:%M:%S')} : {file_lines:,} : {bad_lines:,} : {file_bytes_processed:,}:{(file_bytes_processed / file_size) * 100:.0f}%\")"
      ],
      "metadata": {
        "id": "YO92aQ4e6Grf"
      },
      "execution_count": null,
      "outputs": []
    },
    {
      "cell_type": "markdown",
      "source": [
        "Now, you have a smaller dataset that you can use for your analyses. The following code shows how you can open the json file in Python, sample the subset of submissions or comments, and save it to csv file."
      ],
      "metadata": {
        "id": "qtOhduIG6IHp"
      }
    },
    {
      "cell_type": "markdown",
      "source": [
        "## Loading the data"
      ],
      "metadata": {
        "id": "i0cswXxZ2Snj"
      }
    },
    {
      "cell_type": "code",
      "execution_count": null,
      "metadata": {
        "id": "TvrPZt5p15Tl"
      },
      "outputs": [],
      "source": [
        "import pandas as pd"
      ]
    },
    {
      "cell_type": "code",
      "execution_count": null,
      "metadata": {
        "id": "myRhHtiA15Tl"
      },
      "outputs": [],
      "source": [
        "path  = \"../data/reddit/RC_2008-04.json\""
      ]
    },
    {
      "cell_type": "code",
      "execution_count": null,
      "metadata": {
        "id": "_yG0zAC915Tl"
      },
      "outputs": [],
      "source": [
        "rc_2008_04_df = pd.read_json(path, lines=True)"
      ]
    },
    {
      "cell_type": "code",
      "execution_count": null,
      "metadata": {
        "id": "UCD0wnv-15Tm",
        "outputId": "165f8216-ab31-49c1-fb71-0f51eccaf81c"
      },
      "outputs": [
        {
          "data": {
            "text/html": [
              "<div>\n",
              "<style scoped>\n",
              "    .dataframe tbody tr th:only-of-type {\n",
              "        vertical-align: middle;\n",
              "    }\n",
              "\n",
              "    .dataframe tbody tr th {\n",
              "        vertical-align: top;\n",
              "    }\n",
              "\n",
              "    .dataframe thead th {\n",
              "        text-align: right;\n",
              "    }\n",
              "</style>\n",
              "<table border=\"1\" class=\"dataframe\">\n",
              "  <thead>\n",
              "    <tr style=\"text-align: right;\">\n",
              "      <th></th>\n",
              "      <th>body</th>\n",
              "      <th>parent_id</th>\n",
              "      <th>subreddit</th>\n",
              "      <th>author</th>\n",
              "      <th>author_flair_css_class</th>\n",
              "      <th>edited</th>\n",
              "      <th>retrieved_on</th>\n",
              "      <th>name</th>\n",
              "      <th>gilded</th>\n",
              "      <th>id</th>\n",
              "      <th>...</th>\n",
              "      <th>archived</th>\n",
              "      <th>downs</th>\n",
              "      <th>score</th>\n",
              "      <th>controversiality</th>\n",
              "      <th>score_hidden</th>\n",
              "      <th>subreddit_id</th>\n",
              "      <th>ups</th>\n",
              "      <th>distinguished</th>\n",
              "      <th>author_flair_text</th>\n",
              "      <th>link_id</th>\n",
              "    </tr>\n",
              "  </thead>\n",
              "  <tbody>\n",
              "    <tr>\n",
              "      <th>0</th>\n",
              "      <td>I always thought \"why\" would be answered one d...</td>\n",
              "      <td>t1_c03lan8</td>\n",
              "      <td>offbeat</td>\n",
              "      <td>patchwork</td>\n",
              "      <td>None</td>\n",
              "      <td>1</td>\n",
              "      <td>1425839644</td>\n",
              "      <td>t1_c03lejq</td>\n",
              "      <td>0</td>\n",
              "      <td>c03lejq</td>\n",
              "      <td>...</td>\n",
              "      <td>True</td>\n",
              "      <td>0</td>\n",
              "      <td>2</td>\n",
              "      <td>0</td>\n",
              "      <td>False</td>\n",
              "      <td>t5_2qh11</td>\n",
              "      <td>2</td>\n",
              "      <td>NaN</td>\n",
              "      <td>None</td>\n",
              "      <td>t3_6e1ct</td>\n",
              "    </tr>\n",
              "    <tr>\n",
              "      <th>1</th>\n",
              "      <td>Turn off your television.\\nCancel your cable.\\...</td>\n",
              "      <td>t3_6e25x</td>\n",
              "      <td>entertainment</td>\n",
              "      <td>leehar24</td>\n",
              "      <td>None</td>\n",
              "      <td>0</td>\n",
              "      <td>1425839644</td>\n",
              "      <td>t1_c03lejr</td>\n",
              "      <td>0</td>\n",
              "      <td>c03lejr</td>\n",
              "      <td>...</td>\n",
              "      <td>True</td>\n",
              "      <td>0</td>\n",
              "      <td>14</td>\n",
              "      <td>0</td>\n",
              "      <td>False</td>\n",
              "      <td>t5_2qh0f</td>\n",
              "      <td>14</td>\n",
              "      <td>NaN</td>\n",
              "      <td>None</td>\n",
              "      <td>t3_6e25x</td>\n",
              "    </tr>\n",
              "    <tr>\n",
              "      <th>2</th>\n",
              "      <td>we did, last year they were ok, this year they...</td>\n",
              "      <td>t1_c03leht</td>\n",
              "      <td>offbeat</td>\n",
              "      <td>gitgat</td>\n",
              "      <td>None</td>\n",
              "      <td>0</td>\n",
              "      <td>1425839644</td>\n",
              "      <td>t1_c03lejs</td>\n",
              "      <td>0</td>\n",
              "      <td>c03lejs</td>\n",
              "      <td>...</td>\n",
              "      <td>True</td>\n",
              "      <td>0</td>\n",
              "      <td>1</td>\n",
              "      <td>0</td>\n",
              "      <td>False</td>\n",
              "      <td>t5_2qh11</td>\n",
              "      <td>1</td>\n",
              "      <td>NaN</td>\n",
              "      <td>None</td>\n",
              "      <td>t3_6e1wh</td>\n",
              "    </tr>\n",
              "    <tr>\n",
              "      <th>3</th>\n",
              "      <td>78 - it wouldn't accept my spelling of neodyni...</td>\n",
              "      <td>t3_6e1wa</td>\n",
              "      <td>science</td>\n",
              "      <td>mk_gecko</td>\n",
              "      <td>None</td>\n",
              "      <td>0</td>\n",
              "      <td>1425839644</td>\n",
              "      <td>t1_c03lejt</td>\n",
              "      <td>0</td>\n",
              "      <td>c03lejt</td>\n",
              "      <td>...</td>\n",
              "      <td>True</td>\n",
              "      <td>0</td>\n",
              "      <td>1</td>\n",
              "      <td>0</td>\n",
              "      <td>False</td>\n",
              "      <td>t5_mouw</td>\n",
              "      <td>1</td>\n",
              "      <td>NaN</td>\n",
              "      <td>None</td>\n",
              "      <td>t3_6e1wa</td>\n",
              "    </tr>\n",
              "    <tr>\n",
              "      <th>4</th>\n",
              "      <td>i don't know if that's necessary, it looks lik...</td>\n",
              "      <td>t3_6e1ay</td>\n",
              "      <td>pics</td>\n",
              "      <td>[deleted]</td>\n",
              "      <td>None</td>\n",
              "      <td>0</td>\n",
              "      <td>1425839644</td>\n",
              "      <td>t1_c03leju</td>\n",
              "      <td>0</td>\n",
              "      <td>c03leju</td>\n",
              "      <td>...</td>\n",
              "      <td>True</td>\n",
              "      <td>0</td>\n",
              "      <td>1</td>\n",
              "      <td>0</td>\n",
              "      <td>False</td>\n",
              "      <td>t5_2qh0u</td>\n",
              "      <td>1</td>\n",
              "      <td>NaN</td>\n",
              "      <td>None</td>\n",
              "      <td>t3_6e1ay</td>\n",
              "    </tr>\n",
              "  </tbody>\n",
              "</table>\n",
              "<p>5 rows × 21 columns</p>\n",
              "</div>"
            ],
            "text/plain": [
              "                                                body   parent_id  \\\n",
              "0  I always thought \"why\" would be answered one d...  t1_c03lan8   \n",
              "1  Turn off your television.\\nCancel your cable.\\...    t3_6e25x   \n",
              "2  we did, last year they were ok, this year they...  t1_c03leht   \n",
              "3  78 - it wouldn't accept my spelling of neodyni...    t3_6e1wa   \n",
              "4  i don't know if that's necessary, it looks lik...    t3_6e1ay   \n",
              "\n",
              "       subreddit     author author_flair_css_class  edited  retrieved_on  \\\n",
              "0        offbeat  patchwork                   None       1    1425839644   \n",
              "1  entertainment   leehar24                   None       0    1425839644   \n",
              "2        offbeat     gitgat                   None       0    1425839644   \n",
              "3        science   mk_gecko                   None       0    1425839644   \n",
              "4           pics  [deleted]                   None       0    1425839644   \n",
              "\n",
              "         name  gilded       id  ...  archived  downs  score  controversiality  \\\n",
              "0  t1_c03lejq       0  c03lejq  ...      True      0      2                 0   \n",
              "1  t1_c03lejr       0  c03lejr  ...      True      0     14                 0   \n",
              "2  t1_c03lejs       0  c03lejs  ...      True      0      1                 0   \n",
              "3  t1_c03lejt       0  c03lejt  ...      True      0      1                 0   \n",
              "4  t1_c03leju       0  c03leju  ...      True      0      1                 0   \n",
              "\n",
              "   score_hidden  subreddit_id ups  distinguished  author_flair_text   link_id  \n",
              "0         False      t5_2qh11   2            NaN               None  t3_6e1ct  \n",
              "1         False      t5_2qh0f  14            NaN               None  t3_6e25x  \n",
              "2         False      t5_2qh11   1            NaN               None  t3_6e1wh  \n",
              "3         False       t5_mouw   1            NaN               None  t3_6e1wa  \n",
              "4         False      t5_2qh0u   1            NaN               None  t3_6e1ay  \n",
              "\n",
              "[5 rows x 21 columns]"
            ]
          },
          "execution_count": 4,
          "metadata": {},
          "output_type": "execute_result"
        }
      ],
      "source": [
        "rc_2008_04_df.head()"
      ]
    },
    {
      "cell_type": "code",
      "execution_count": null,
      "metadata": {
        "id": "zB8z10Al15Tm",
        "outputId": "272f6afd-193b-4918-b565-293dfe61e55c"
      },
      "outputs": [
        {
          "data": {
            "text/plain": [
              "Index(['body', 'parent_id', 'subreddit', 'author', 'author_flair_css_class',\n",
              "       'edited', 'retrieved_on', 'name', 'gilded', 'id', 'created_utc',\n",
              "       'archived', 'downs', 'score', 'controversiality', 'score_hidden',\n",
              "       'subreddit_id', 'ups', 'distinguished', 'author_flair_text', 'link_id'],\n",
              "      dtype='object')"
            ]
          },
          "execution_count": 5,
          "metadata": {},
          "output_type": "execute_result"
        }
      ],
      "source": [
        "rc_2008_04_df.columns"
      ]
    },
    {
      "cell_type": "code",
      "execution_count": null,
      "metadata": {
        "id": "RmJfdBFR15Tn",
        "outputId": "5942e16d-a6de-4b89-a3ea-6f00c8b44249"
      },
      "outputs": [
        {
          "data": {
            "text/html": [
              "<div>\n",
              "<style scoped>\n",
              "    .dataframe tbody tr th:only-of-type {\n",
              "        vertical-align: middle;\n",
              "    }\n",
              "\n",
              "    .dataframe tbody tr th {\n",
              "        vertical-align: top;\n",
              "    }\n",
              "\n",
              "    .dataframe thead th {\n",
              "        text-align: right;\n",
              "    }\n",
              "</style>\n",
              "<table border=\"1\" class=\"dataframe\">\n",
              "  <thead>\n",
              "    <tr style=\"text-align: right;\">\n",
              "      <th></th>\n",
              "      <th>author</th>\n",
              "      <th>subreddit</th>\n",
              "      <th>id</th>\n",
              "      <th>link_id</th>\n",
              "      <th>parent_id</th>\n",
              "      <th>body</th>\n",
              "      <th>created_utc</th>\n",
              "    </tr>\n",
              "  </thead>\n",
              "  <tbody>\n",
              "    <tr>\n",
              "      <th>0</th>\n",
              "      <td>patchwork</td>\n",
              "      <td>offbeat</td>\n",
              "      <td>c03lejq</td>\n",
              "      <td>t3_6e1ct</td>\n",
              "      <td>t1_c03lan8</td>\n",
              "      <td>I always thought \"why\" would be answered one d...</td>\n",
              "      <td>1207008001</td>\n",
              "    </tr>\n",
              "    <tr>\n",
              "      <th>1</th>\n",
              "      <td>leehar24</td>\n",
              "      <td>entertainment</td>\n",
              "      <td>c03lejr</td>\n",
              "      <td>t3_6e25x</td>\n",
              "      <td>t3_6e25x</td>\n",
              "      <td>Turn off your television.\\nCancel your cable.\\...</td>\n",
              "      <td>1207008005</td>\n",
              "    </tr>\n",
              "    <tr>\n",
              "      <th>2</th>\n",
              "      <td>gitgat</td>\n",
              "      <td>offbeat</td>\n",
              "      <td>c03lejs</td>\n",
              "      <td>t3_6e1wh</td>\n",
              "      <td>t1_c03leht</td>\n",
              "      <td>we did, last year they were ok, this year they...</td>\n",
              "      <td>1207008006</td>\n",
              "    </tr>\n",
              "    <tr>\n",
              "      <th>3</th>\n",
              "      <td>mk_gecko</td>\n",
              "      <td>science</td>\n",
              "      <td>c03lejt</td>\n",
              "      <td>t3_6e1wa</td>\n",
              "      <td>t3_6e1wa</td>\n",
              "      <td>78 - it wouldn't accept my spelling of neodyni...</td>\n",
              "      <td>1207008010</td>\n",
              "    </tr>\n",
              "    <tr>\n",
              "      <th>4</th>\n",
              "      <td>[deleted]</td>\n",
              "      <td>pics</td>\n",
              "      <td>c03leju</td>\n",
              "      <td>t3_6e1ay</td>\n",
              "      <td>t3_6e1ay</td>\n",
              "      <td>i don't know if that's necessary, it looks lik...</td>\n",
              "      <td>1207008013</td>\n",
              "    </tr>\n",
              "  </tbody>\n",
              "</table>\n",
              "</div>"
            ],
            "text/plain": [
              "      author      subreddit       id   link_id   parent_id  \\\n",
              "0  patchwork        offbeat  c03lejq  t3_6e1ct  t1_c03lan8   \n",
              "1   leehar24  entertainment  c03lejr  t3_6e25x    t3_6e25x   \n",
              "2     gitgat        offbeat  c03lejs  t3_6e1wh  t1_c03leht   \n",
              "3   mk_gecko        science  c03lejt  t3_6e1wa    t3_6e1wa   \n",
              "4  [deleted]           pics  c03leju  t3_6e1ay    t3_6e1ay   \n",
              "\n",
              "                                                body  created_utc  \n",
              "0  I always thought \"why\" would be answered one d...   1207008001  \n",
              "1  Turn off your television.\\nCancel your cable.\\...   1207008005  \n",
              "2  we did, last year they were ok, this year they...   1207008006  \n",
              "3  78 - it wouldn't accept my spelling of neodyni...   1207008010  \n",
              "4  i don't know if that's necessary, it looks lik...   1207008013  "
            ]
          },
          "execution_count": 16,
          "metadata": {},
          "output_type": "execute_result"
        }
      ],
      "source": [
        "rc_2008_04_df[[\"author\", \"subreddit\", \"id\", \"link_id\", \"parent_id\",\"body\", \"created_utc\"]].head()"
      ]
    },
    {
      "cell_type": "code",
      "execution_count": null,
      "metadata": {
        "id": "T0qKmajV15Tn"
      },
      "outputs": [],
      "source": [
        "from datetime import date"
      ]
    },
    {
      "cell_type": "code",
      "execution_count": null,
      "metadata": {
        "id": "DR3LxXIx15Tn",
        "outputId": "ab8e9183-f5f4-4491-db5c-60546c6c6643"
      },
      "outputs": [
        {
          "data": {
            "text/plain": [
              "datetime.date(2008, 3, 31)"
            ]
          },
          "execution_count": 8,
          "metadata": {},
          "output_type": "execute_result"
        }
      ],
      "source": [
        "date.fromtimestamp(1207008001)"
      ]
    },
    {
      "cell_type": "markdown",
      "metadata": {
        "id": "5fi-_vw915Tn"
      },
      "source": [
        "## Sample Analysis\n",
        "\n",
        "Searching by parent ID."
      ]
    },
    {
      "cell_type": "code",
      "execution_count": null,
      "metadata": {
        "scrolled": true,
        "id": "KhhhbAKb15Tn",
        "outputId": "53bc5346-0ae6-493a-dae1-1487bf12ab07"
      },
      "outputs": [
        {
          "data": {
            "text/html": [
              "<div>\n",
              "<style scoped>\n",
              "    .dataframe tbody tr th:only-of-type {\n",
              "        vertical-align: middle;\n",
              "    }\n",
              "\n",
              "    .dataframe tbody tr th {\n",
              "        vertical-align: top;\n",
              "    }\n",
              "\n",
              "    .dataframe thead th {\n",
              "        text-align: right;\n",
              "    }\n",
              "</style>\n",
              "<table border=\"1\" class=\"dataframe\">\n",
              "  <thead>\n",
              "    <tr style=\"text-align: right;\">\n",
              "      <th></th>\n",
              "      <th>author</th>\n",
              "      <th>subreddit</th>\n",
              "      <th>id</th>\n",
              "      <th>link_id</th>\n",
              "      <th>parent_id</th>\n",
              "      <th>body</th>\n",
              "      <th>created_utc</th>\n",
              "    </tr>\n",
              "  </thead>\n",
              "  <tbody>\n",
              "    <tr>\n",
              "      <th>26</th>\n",
              "      <td>patchwork</td>\n",
              "      <td>offbeat</td>\n",
              "      <td>c03lekg</td>\n",
              "      <td>t3_6e1ct</td>\n",
              "      <td>t1_c03le37</td>\n",
              "      <td>See that would be even better if he had circle...</td>\n",
              "      <td>1207008110</td>\n",
              "    </tr>\n",
              "  </tbody>\n",
              "</table>\n",
              "</div>"
            ],
            "text/plain": [
              "       author subreddit       id   link_id   parent_id  \\\n",
              "26  patchwork   offbeat  c03lekg  t3_6e1ct  t1_c03le37   \n",
              "\n",
              "                                                 body  created_utc  \n",
              "26  See that would be even better if he had circle...   1207008110  "
            ]
          },
          "execution_count": 19,
          "metadata": {},
          "output_type": "execute_result"
        }
      ],
      "source": [
        "rc_2008_04_df[[\"author\", \"subreddit\", \"id\", \"link_id\", \"parent_id\",\"body\", \"created_utc\"]].query(\"parent_id == 't1_c03le37'\")"
      ]
    },
    {
      "cell_type": "markdown",
      "metadata": {
        "id": "2s5ulUuB15Tn"
      },
      "source": [
        "Searching by link id."
      ]
    },
    {
      "cell_type": "code",
      "execution_count": null,
      "metadata": {
        "id": "YQ-cyyBR15Tn",
        "outputId": "aa736464-d27c-4732-ea5b-eac46985ff30"
      },
      "outputs": [
        {
          "data": {
            "text/html": [
              "<div>\n",
              "<style scoped>\n",
              "    .dataframe tbody tr th:only-of-type {\n",
              "        vertical-align: middle;\n",
              "    }\n",
              "\n",
              "    .dataframe tbody tr th {\n",
              "        vertical-align: top;\n",
              "    }\n",
              "\n",
              "    .dataframe thead th {\n",
              "        text-align: right;\n",
              "    }\n",
              "</style>\n",
              "<table border=\"1\" class=\"dataframe\">\n",
              "  <thead>\n",
              "    <tr style=\"text-align: right;\">\n",
              "      <th></th>\n",
              "      <th>author</th>\n",
              "      <th>subreddit</th>\n",
              "      <th>id</th>\n",
              "      <th>link_id</th>\n",
              "      <th>parent_id</th>\n",
              "      <th>body</th>\n",
              "      <th>created_utc</th>\n",
              "    </tr>\n",
              "  </thead>\n",
              "  <tbody>\n",
              "    <tr>\n",
              "      <th>0</th>\n",
              "      <td>patchwork</td>\n",
              "      <td>offbeat</td>\n",
              "      <td>c03lejq</td>\n",
              "      <td>t3_6e1ct</td>\n",
              "      <td>t1_c03lan8</td>\n",
              "      <td>I always thought \"why\" would be answered one d...</td>\n",
              "      <td>1207008001</td>\n",
              "    </tr>\n",
              "    <tr>\n",
              "      <th>26</th>\n",
              "      <td>patchwork</td>\n",
              "      <td>offbeat</td>\n",
              "      <td>c03lekg</td>\n",
              "      <td>t3_6e1ct</td>\n",
              "      <td>t1_c03le37</td>\n",
              "      <td>See that would be even better if he had circle...</td>\n",
              "      <td>1207008110</td>\n",
              "    </tr>\n",
              "    <tr>\n",
              "      <th>4040</th>\n",
              "      <td>Fiserfully</td>\n",
              "      <td>offbeat</td>\n",
              "      <td>c03lho7</td>\n",
              "      <td>t3_6e1ct</td>\n",
              "      <td>t1_c03lc4c</td>\n",
              "      <td>Alright, first off.  Homeschoolers have to pay...</td>\n",
              "      <td>1207028566</td>\n",
              "    </tr>\n",
              "    <tr>\n",
              "      <th>11411</th>\n",
              "      <td>skippy17</td>\n",
              "      <td>offbeat</td>\n",
              "      <td>c03lndn</td>\n",
              "      <td>t3_6e1ct</td>\n",
              "      <td>t3_6e1ct</td>\n",
              "      <td>This is funny because it's true, right?</td>\n",
              "      <td>1207073684</td>\n",
              "    </tr>\n",
              "  </tbody>\n",
              "</table>\n",
              "</div>"
            ],
            "text/plain": [
              "           author subreddit       id   link_id   parent_id  \\\n",
              "0       patchwork   offbeat  c03lejq  t3_6e1ct  t1_c03lan8   \n",
              "26      patchwork   offbeat  c03lekg  t3_6e1ct  t1_c03le37   \n",
              "4040   Fiserfully   offbeat  c03lho7  t3_6e1ct  t1_c03lc4c   \n",
              "11411    skippy17   offbeat  c03lndn  t3_6e1ct    t3_6e1ct   \n",
              "\n",
              "                                                    body  created_utc  \n",
              "0      I always thought \"why\" would be answered one d...   1207008001  \n",
              "26     See that would be even better if he had circle...   1207008110  \n",
              "4040   Alright, first off.  Homeschoolers have to pay...   1207028566  \n",
              "11411            This is funny because it's true, right?   1207073684  "
            ]
          },
          "execution_count": 21,
          "metadata": {},
          "output_type": "execute_result"
        }
      ],
      "source": [
        "rc_2008_04_df[[\"author\", \"subreddit\", \"id\", \"link_id\", \"parent_id\",\"body\", \"created_utc\"]].query(\"link_id == 't3_6e1ct'\")"
      ]
    },
    {
      "cell_type": "markdown",
      "metadata": {
        "id": "bXENgMps15Tn"
      },
      "source": [
        "Searching by subreddit."
      ]
    },
    {
      "cell_type": "code",
      "execution_count": null,
      "metadata": {
        "id": "WRQon6iJ15Tn",
        "outputId": "87c14300-5269-496b-b658-ce1ff6aba065"
      },
      "outputs": [
        {
          "data": {
            "text/html": [
              "<div>\n",
              "<style scoped>\n",
              "    .dataframe tbody tr th:only-of-type {\n",
              "        vertical-align: middle;\n",
              "    }\n",
              "\n",
              "    .dataframe tbody tr th {\n",
              "        vertical-align: top;\n",
              "    }\n",
              "\n",
              "    .dataframe thead th {\n",
              "        text-align: right;\n",
              "    }\n",
              "</style>\n",
              "<table border=\"1\" class=\"dataframe\">\n",
              "  <thead>\n",
              "    <tr style=\"text-align: right;\">\n",
              "      <th></th>\n",
              "      <th>author</th>\n",
              "      <th>subreddit</th>\n",
              "      <th>id</th>\n",
              "      <th>link_id</th>\n",
              "      <th>parent_id</th>\n",
              "      <th>body</th>\n",
              "      <th>created_utc</th>\n",
              "    </tr>\n",
              "  </thead>\n",
              "  <tbody>\n",
              "    <tr>\n",
              "      <th>0</th>\n",
              "      <td>patchwork</td>\n",
              "      <td>offbeat</td>\n",
              "      <td>c03lejq</td>\n",
              "      <td>t3_6e1ct</td>\n",
              "      <td>t1_c03lan8</td>\n",
              "      <td>I always thought \"why\" would be answered one d...</td>\n",
              "      <td>1207008001</td>\n",
              "    </tr>\n",
              "    <tr>\n",
              "      <th>2</th>\n",
              "      <td>gitgat</td>\n",
              "      <td>offbeat</td>\n",
              "      <td>c03lejs</td>\n",
              "      <td>t3_6e1wh</td>\n",
              "      <td>t1_c03leht</td>\n",
              "      <td>we did, last year they were ok, this year they...</td>\n",
              "      <td>1207008006</td>\n",
              "    </tr>\n",
              "    <tr>\n",
              "      <th>26</th>\n",
              "      <td>patchwork</td>\n",
              "      <td>offbeat</td>\n",
              "      <td>c03lekg</td>\n",
              "      <td>t3_6e1ct</td>\n",
              "      <td>t1_c03le37</td>\n",
              "      <td>See that would be even better if he had circle...</td>\n",
              "      <td>1207008110</td>\n",
              "    </tr>\n",
              "    <tr>\n",
              "      <th>117</th>\n",
              "      <td>otterdam</td>\n",
              "      <td>offbeat</td>\n",
              "      <td>c03lemz</td>\n",
              "      <td>t3_6e30h</td>\n",
              "      <td>t1_c03le9w</td>\n",
              "      <td>This is a sign not to do it for so long ;o)</td>\n",
              "      <td>1207008501</td>\n",
              "    </tr>\n",
              "    <tr>\n",
              "      <th>523</th>\n",
              "      <td>niomi</td>\n",
              "      <td>offbeat</td>\n",
              "      <td>c03leya</td>\n",
              "      <td>t3_6e30h</td>\n",
              "      <td>t3_6e30h</td>\n",
              "      <td>I'm a chick and I completely agree with this a...</td>\n",
              "      <td>1207010383</td>\n",
              "    </tr>\n",
              "    <tr>\n",
              "      <th>...</th>\n",
              "      <td>...</td>\n",
              "      <td>...</td>\n",
              "      <td>...</td>\n",
              "      <td>...</td>\n",
              "      <td>...</td>\n",
              "      <td>...</td>\n",
              "      <td>...</td>\n",
              "    </tr>\n",
              "    <tr>\n",
              "      <th>467850</th>\n",
              "      <td>[deleted]</td>\n",
              "      <td>offbeat</td>\n",
              "      <td>c03vg8i</td>\n",
              "      <td>t3_6hnzu</td>\n",
              "      <td>t3_6hnzu</td>\n",
              "      <td>[deleted]</td>\n",
              "      <td>1209597554</td>\n",
              "    </tr>\n",
              "    <tr>\n",
              "      <th>468204</th>\n",
              "      <td>vague_blur</td>\n",
              "      <td>offbeat</td>\n",
              "      <td>c03vgic</td>\n",
              "      <td>t3_6hof5</td>\n",
              "      <td>t3_6hof5</td>\n",
              "      <td>The birds are watching</td>\n",
              "      <td>1209599413</td>\n",
              "    </tr>\n",
              "    <tr>\n",
              "      <th>468234</th>\n",
              "      <td>[deleted]</td>\n",
              "      <td>offbeat</td>\n",
              "      <td>c03vgj6</td>\n",
              "      <td>t3_6hoie</td>\n",
              "      <td>t3_6hoie</td>\n",
              "      <td>Somewhere, in a dark and dingy assembly room, ...</td>\n",
              "      <td>1209599567</td>\n",
              "    </tr>\n",
              "    <tr>\n",
              "      <th>468258</th>\n",
              "      <td>deadsoon</td>\n",
              "      <td>offbeat</td>\n",
              "      <td>c03vgju</td>\n",
              "      <td>t3_6hoie</td>\n",
              "      <td>t3_6hoie</td>\n",
              "      <td>Big Lots is a closeout store. That means that ...</td>\n",
              "      <td>1209599715</td>\n",
              "    </tr>\n",
              "    <tr>\n",
              "      <th>468297</th>\n",
              "      <td>[deleted]</td>\n",
              "      <td>offbeat</td>\n",
              "      <td>c03vgkx</td>\n",
              "      <td>t3_6hpzj</td>\n",
              "      <td>t3_6hpzj</td>\n",
              "      <td>rats are our friends, don't eat them please.</td>\n",
              "      <td>1209599896</td>\n",
              "    </tr>\n",
              "  </tbody>\n",
              "</table>\n",
              "<p>3626 rows × 7 columns</p>\n",
              "</div>"
            ],
            "text/plain": [
              "            author subreddit       id   link_id   parent_id  \\\n",
              "0        patchwork   offbeat  c03lejq  t3_6e1ct  t1_c03lan8   \n",
              "2           gitgat   offbeat  c03lejs  t3_6e1wh  t1_c03leht   \n",
              "26       patchwork   offbeat  c03lekg  t3_6e1ct  t1_c03le37   \n",
              "117       otterdam   offbeat  c03lemz  t3_6e30h  t1_c03le9w   \n",
              "523          niomi   offbeat  c03leya  t3_6e30h    t3_6e30h   \n",
              "...            ...       ...      ...       ...         ...   \n",
              "467850   [deleted]   offbeat  c03vg8i  t3_6hnzu    t3_6hnzu   \n",
              "468204  vague_blur   offbeat  c03vgic  t3_6hof5    t3_6hof5   \n",
              "468234   [deleted]   offbeat  c03vgj6  t3_6hoie    t3_6hoie   \n",
              "468258    deadsoon   offbeat  c03vgju  t3_6hoie    t3_6hoie   \n",
              "468297   [deleted]   offbeat  c03vgkx  t3_6hpzj    t3_6hpzj   \n",
              "\n",
              "                                                     body  created_utc  \n",
              "0       I always thought \"why\" would be answered one d...   1207008001  \n",
              "2       we did, last year they were ok, this year they...   1207008006  \n",
              "26      See that would be even better if he had circle...   1207008110  \n",
              "117           This is a sign not to do it for so long ;o)   1207008501  \n",
              "523     I'm a chick and I completely agree with this a...   1207010383  \n",
              "...                                                   ...          ...  \n",
              "467850                                          [deleted]   1209597554  \n",
              "468204                             The birds are watching   1209599413  \n",
              "468234  Somewhere, in a dark and dingy assembly room, ...   1209599567  \n",
              "468258  Big Lots is a closeout store. That means that ...   1209599715  \n",
              "468297       rats are our friends, don't eat them please.   1209599896  \n",
              "\n",
              "[3626 rows x 7 columns]"
            ]
          },
          "execution_count": 22,
          "metadata": {},
          "output_type": "execute_result"
        }
      ],
      "source": [
        "rc_2008_04_df[[\"author\", \"subreddit\", \"id\", \"link_id\", \"parent_id\",\"body\", \"created_utc\"]].query(\"subreddit == 'offbeat'\")"
      ]
    },
    {
      "cell_type": "code",
      "execution_count": null,
      "metadata": {
        "id": "0MmG3XHQ15Tn"
      },
      "outputs": [],
      "source": [
        "offbeat_df = rc_2008_04_df[[\"author\", \"subreddit\", \"id\", \"link_id\", \"parent_id\",\"body\", \"created_utc\"]].query(\"subreddit == 'offbeat'\")"
      ]
    },
    {
      "cell_type": "markdown",
      "metadata": {
        "id": "W15Gudbw15Tn"
      },
      "source": [
        "Choosing undeleted comments only."
      ]
    },
    {
      "cell_type": "code",
      "execution_count": null,
      "metadata": {
        "id": "dDa1rBe715Tn",
        "outputId": "5a428055-a245-42e3-e72a-9ef3666a092d"
      },
      "outputs": [
        {
          "data": {
            "text/html": [
              "<div>\n",
              "<style scoped>\n",
              "    .dataframe tbody tr th:only-of-type {\n",
              "        vertical-align: middle;\n",
              "    }\n",
              "\n",
              "    .dataframe tbody tr th {\n",
              "        vertical-align: top;\n",
              "    }\n",
              "\n",
              "    .dataframe thead th {\n",
              "        text-align: right;\n",
              "    }\n",
              "</style>\n",
              "<table border=\"1\" class=\"dataframe\">\n",
              "  <thead>\n",
              "    <tr style=\"text-align: right;\">\n",
              "      <th></th>\n",
              "      <th>author</th>\n",
              "      <th>subreddit</th>\n",
              "      <th>id</th>\n",
              "      <th>link_id</th>\n",
              "      <th>parent_id</th>\n",
              "      <th>body</th>\n",
              "      <th>created_utc</th>\n",
              "    </tr>\n",
              "  </thead>\n",
              "  <tbody>\n",
              "    <tr>\n",
              "      <th>0</th>\n",
              "      <td>patchwork</td>\n",
              "      <td>offbeat</td>\n",
              "      <td>c03lejq</td>\n",
              "      <td>t3_6e1ct</td>\n",
              "      <td>t1_c03lan8</td>\n",
              "      <td>I always thought \"why\" would be answered one d...</td>\n",
              "      <td>1207008001</td>\n",
              "    </tr>\n",
              "    <tr>\n",
              "      <th>2</th>\n",
              "      <td>gitgat</td>\n",
              "      <td>offbeat</td>\n",
              "      <td>c03lejs</td>\n",
              "      <td>t3_6e1wh</td>\n",
              "      <td>t1_c03leht</td>\n",
              "      <td>we did, last year they were ok, this year they...</td>\n",
              "      <td>1207008006</td>\n",
              "    </tr>\n",
              "    <tr>\n",
              "      <th>26</th>\n",
              "      <td>patchwork</td>\n",
              "      <td>offbeat</td>\n",
              "      <td>c03lekg</td>\n",
              "      <td>t3_6e1ct</td>\n",
              "      <td>t1_c03le37</td>\n",
              "      <td>See that would be even better if he had circle...</td>\n",
              "      <td>1207008110</td>\n",
              "    </tr>\n",
              "    <tr>\n",
              "      <th>117</th>\n",
              "      <td>otterdam</td>\n",
              "      <td>offbeat</td>\n",
              "      <td>c03lemz</td>\n",
              "      <td>t3_6e30h</td>\n",
              "      <td>t1_c03le9w</td>\n",
              "      <td>This is a sign not to do it for so long ;o)</td>\n",
              "      <td>1207008501</td>\n",
              "    </tr>\n",
              "    <tr>\n",
              "      <th>523</th>\n",
              "      <td>niomi</td>\n",
              "      <td>offbeat</td>\n",
              "      <td>c03leya</td>\n",
              "      <td>t3_6e30h</td>\n",
              "      <td>t3_6e30h</td>\n",
              "      <td>I'm a chick and I completely agree with this a...</td>\n",
              "      <td>1207010383</td>\n",
              "    </tr>\n",
              "    <tr>\n",
              "      <th>...</th>\n",
              "      <td>...</td>\n",
              "      <td>...</td>\n",
              "      <td>...</td>\n",
              "      <td>...</td>\n",
              "      <td>...</td>\n",
              "      <td>...</td>\n",
              "      <td>...</td>\n",
              "    </tr>\n",
              "    <tr>\n",
              "      <th>467341</th>\n",
              "      <td>-J-</td>\n",
              "      <td>offbeat</td>\n",
              "      <td>c03vfud</td>\n",
              "      <td>t3_6hof5</td>\n",
              "      <td>t3_6hof5</td>\n",
              "      <td>Yes: http://www.youtube.com/watch?v=oHg5SJYRHA...</td>\n",
              "      <td>1209595053</td>\n",
              "    </tr>\n",
              "    <tr>\n",
              "      <th>467609</th>\n",
              "      <td>memsisthefuture</td>\n",
              "      <td>offbeat</td>\n",
              "      <td>c03vg1t</td>\n",
              "      <td>t3_6hof5</td>\n",
              "      <td>t3_6hof5</td>\n",
              "      <td>God, no. I should be so lucky.</td>\n",
              "      <td>1209596418</td>\n",
              "    </tr>\n",
              "    <tr>\n",
              "      <th>467715</th>\n",
              "      <td>OMG_my_BABY</td>\n",
              "      <td>offbeat</td>\n",
              "      <td>c03vg4r</td>\n",
              "      <td>t3_6hoie</td>\n",
              "      <td>t3_6hoie</td>\n",
              "      <td>Oh my god!!!\\r\\n</td>\n",
              "      <td>1209596943</td>\n",
              "    </tr>\n",
              "    <tr>\n",
              "      <th>468204</th>\n",
              "      <td>vague_blur</td>\n",
              "      <td>offbeat</td>\n",
              "      <td>c03vgic</td>\n",
              "      <td>t3_6hof5</td>\n",
              "      <td>t3_6hof5</td>\n",
              "      <td>The birds are watching</td>\n",
              "      <td>1209599413</td>\n",
              "    </tr>\n",
              "    <tr>\n",
              "      <th>468258</th>\n",
              "      <td>deadsoon</td>\n",
              "      <td>offbeat</td>\n",
              "      <td>c03vgju</td>\n",
              "      <td>t3_6hoie</td>\n",
              "      <td>t3_6hoie</td>\n",
              "      <td>Big Lots is a closeout store. That means that ...</td>\n",
              "      <td>1209599715</td>\n",
              "    </tr>\n",
              "  </tbody>\n",
              "</table>\n",
              "<p>2571 rows × 7 columns</p>\n",
              "</div>"
            ],
            "text/plain": [
              "                 author subreddit       id   link_id   parent_id  \\\n",
              "0             patchwork   offbeat  c03lejq  t3_6e1ct  t1_c03lan8   \n",
              "2                gitgat   offbeat  c03lejs  t3_6e1wh  t1_c03leht   \n",
              "26            patchwork   offbeat  c03lekg  t3_6e1ct  t1_c03le37   \n",
              "117            otterdam   offbeat  c03lemz  t3_6e30h  t1_c03le9w   \n",
              "523               niomi   offbeat  c03leya  t3_6e30h    t3_6e30h   \n",
              "...                 ...       ...      ...       ...         ...   \n",
              "467341              -J-   offbeat  c03vfud  t3_6hof5    t3_6hof5   \n",
              "467609  memsisthefuture   offbeat  c03vg1t  t3_6hof5    t3_6hof5   \n",
              "467715      OMG_my_BABY   offbeat  c03vg4r  t3_6hoie    t3_6hoie   \n",
              "468204       vague_blur   offbeat  c03vgic  t3_6hof5    t3_6hof5   \n",
              "468258         deadsoon   offbeat  c03vgju  t3_6hoie    t3_6hoie   \n",
              "\n",
              "                                                     body  created_utc  \n",
              "0       I always thought \"why\" would be answered one d...   1207008001  \n",
              "2       we did, last year they were ok, this year they...   1207008006  \n",
              "26      See that would be even better if he had circle...   1207008110  \n",
              "117           This is a sign not to do it for so long ;o)   1207008501  \n",
              "523     I'm a chick and I completely agree with this a...   1207010383  \n",
              "...                                                   ...          ...  \n",
              "467341  Yes: http://www.youtube.com/watch?v=oHg5SJYRHA...   1209595053  \n",
              "467609                     God, no. I should be so lucky.   1209596418  \n",
              "467715                                   Oh my god!!!\\r\\n   1209596943  \n",
              "468204                             The birds are watching   1209599413  \n",
              "468258  Big Lots is a closeout store. That means that ...   1209599715  \n",
              "\n",
              "[2571 rows x 7 columns]"
            ]
          },
          "execution_count": 25,
          "metadata": {},
          "output_type": "execute_result"
        }
      ],
      "source": [
        "offbeat_df.query(\"author != '[deleted]'\")"
      ]
    },
    {
      "cell_type": "code",
      "execution_count": null,
      "metadata": {
        "id": "8rKT2Uyr15Tn"
      },
      "outputs": [],
      "source": [
        "link_id_lens = {}"
      ]
    },
    {
      "cell_type": "code",
      "execution_count": null,
      "metadata": {
        "id": "WhCDbHdw15Tn"
      },
      "outputs": [],
      "source": [
        "linkids = offbeat_df[\"link_id\"].unique()"
      ]
    },
    {
      "cell_type": "code",
      "execution_count": null,
      "metadata": {
        "id": "lcC0oCxY15To"
      },
      "outputs": [],
      "source": [
        "for link in linkids:\n",
        "    link_id_lens[link] = len(offbeat_df.query(\"link_id == '\" +link+\"'\"))"
      ]
    },
    {
      "cell_type": "code",
      "execution_count": null,
      "metadata": {
        "id": "sSQudmDR15To",
        "outputId": "4a87bd01-9bf1-4fed-b188-980b58c98cc5"
      },
      "outputs": [
        {
          "data": {
            "text/plain": [
              "64"
            ]
          },
          "execution_count": 39,
          "metadata": {},
          "output_type": "execute_result"
        }
      ],
      "source": [
        "link_id_lens[\"t3_6e97t\"]"
      ]
    },
    {
      "cell_type": "code",
      "execution_count": null,
      "metadata": {
        "id": "T_kzWDdW15To"
      },
      "outputs": [],
      "source": [
        "long_thread = rc_2008_04_df[[\"author\", \"subreddit\", \"id\", \"link_id\", \"parent_id\",\"body\", \"created_utc\"]].query(\"link_id == 't3_6e97t'\")"
      ]
    },
    {
      "cell_type": "code",
      "execution_count": null,
      "metadata": {
        "id": "bT7hA4Ib15To",
        "outputId": "4e7bb501-e659-4cb1-f740-1bd0d07d8d1a"
      },
      "outputs": [
        {
          "data": {
            "text/plain": [
              "30"
            ]
          },
          "execution_count": 44,
          "metadata": {},
          "output_type": "execute_result"
        }
      ],
      "source": [
        "len(long_thread[\"parent_id\"].unique())"
      ]
    },
    {
      "cell_type": "markdown",
      "metadata": {
        "id": "Yeh4MENI15To"
      },
      "source": [
        "So there are 30 conversations here. Let's pick them up and see how the dataset relates to"
      ]
    },
    {
      "cell_type": "code",
      "execution_count": null,
      "metadata": {
        "id": "uzO0snPQ15To",
        "outputId": "a944b945-e3e1-4882-a1aa-df2a12fe5cb5"
      },
      "outputs": [
        {
          "data": {
            "text/plain": [
              "array(['t3_6e97t', 't1_c03lsy2', 't1_c03lt4s', 't1_c03lt86', 't1_c03lt7s',\n",
              "       't1_c03ltha', 't1_c03ltio', 't1_c03ltj8', 't1_c03ltmj',\n",
              "       't1_c03ltet', 't1_c03ltd1', 't1_c03ltx1', 't1_c03lueu',\n",
              "       't1_c03luiy', 't1_c03ltqn', 't1_c03lurx', 't1_c03ltlu',\n",
              "       't1_c03ltg2', 't1_c03lu19', 't1_c03lvot', 't1_c03lucj',\n",
              "       't1_c03ltya', 't1_c03lvry', 't1_c03lx0v', 't1_c03lwm9',\n",
              "       't1_c03lxj6', 't1_c03lxh7', 't1_c03lxoy', 't1_c03lw0g',\n",
              "       't1_c03lwqv'], dtype=object)"
            ]
          },
          "execution_count": 45,
          "metadata": {},
          "output_type": "execute_result"
        }
      ],
      "source": [
        "long_thread[\"parent_id\"].unique()"
      ]
    },
    {
      "cell_type": "markdown",
      "metadata": {
        "id": "-tk4FBrk15Tp"
      },
      "source": [
        "Let us first see all the top level comments"
      ]
    },
    {
      "cell_type": "code",
      "execution_count": null,
      "metadata": {
        "id": "NclPf8sR15Tp",
        "outputId": "02a98044-debd-43b0-9aea-7f5cdde5e1f7"
      },
      "outputs": [
        {
          "data": {
            "text/html": [
              "<div>\n",
              "<style scoped>\n",
              "    .dataframe tbody tr th:only-of-type {\n",
              "        vertical-align: middle;\n",
              "    }\n",
              "\n",
              "    .dataframe tbody tr th {\n",
              "        vertical-align: top;\n",
              "    }\n",
              "\n",
              "    .dataframe thead th {\n",
              "        text-align: right;\n",
              "    }\n",
              "</style>\n",
              "<table border=\"1\" class=\"dataframe\">\n",
              "  <thead>\n",
              "    <tr style=\"text-align: right;\">\n",
              "      <th></th>\n",
              "      <th>author</th>\n",
              "      <th>subreddit</th>\n",
              "      <th>id</th>\n",
              "      <th>link_id</th>\n",
              "      <th>parent_id</th>\n",
              "      <th>body</th>\n",
              "      <th>created_utc</th>\n",
              "    </tr>\n",
              "  </thead>\n",
              "  <tbody>\n",
              "    <tr>\n",
              "      <th>18610</th>\n",
              "      <td>wgardenhire</td>\n",
              "      <td>offbeat</td>\n",
              "      <td>c03lsy2</td>\n",
              "      <td>t3_6e97t</td>\n",
              "      <td>t3_6e97t</td>\n",
              "      <td>Pot is non-addictive. End of story.</td>\n",
              "      <td>1207106991</td>\n",
              "    </tr>\n",
              "    <tr>\n",
              "      <th>18943</th>\n",
              "      <td>zerogravity</td>\n",
              "      <td>offbeat</td>\n",
              "      <td>c03lt7b</td>\n",
              "      <td>t3_6e97t</td>\n",
              "      <td>t3_6e97t</td>\n",
              "      <td>Share, you no good low down dirty pothead.</td>\n",
              "      <td>1207108719</td>\n",
              "    </tr>\n",
              "    <tr>\n",
              "      <th>18960</th>\n",
              "      <td>spliffy</td>\n",
              "      <td>offbeat</td>\n",
              "      <td>c03lt7s</td>\n",
              "      <td>t3_6e97t</td>\n",
              "      <td>t3_6e97t</td>\n",
              "      <td>I would dissuade those looking to go into fiel...</td>\n",
              "      <td>1207108835</td>\n",
              "    </tr>\n",
              "    <tr>\n",
              "      <th>19163</th>\n",
              "      <td>Fauster</td>\n",
              "      <td>offbeat</td>\n",
              "      <td>c03ltdf</td>\n",
              "      <td>t3_6e97t</td>\n",
              "      <td>t3_6e97t</td>\n",
              "      <td>Yes!  You should worry about your \"immortal\" s...</td>\n",
              "      <td>1207110178</td>\n",
              "    </tr>\n",
              "    <tr>\n",
              "      <th>19213</th>\n",
              "      <td>[deleted]</td>\n",
              "      <td>offbeat</td>\n",
              "      <td>c03ltet</td>\n",
              "      <td>t3_6e97t</td>\n",
              "      <td>t3_6e97t</td>\n",
              "      <td>Pot makes tedious tasks more enjoyable.  Wheth...</td>\n",
              "      <td>1207110450</td>\n",
              "    </tr>\n",
              "    <tr>\n",
              "      <th>19302</th>\n",
              "      <td>h0dg3s</td>\n",
              "      <td>offbeat</td>\n",
              "      <td>c03ltha</td>\n",
              "      <td>t3_6e97t</td>\n",
              "      <td>t3_6e97t</td>\n",
              "      <td>You are **not** addicted to pot.  Downvote for...</td>\n",
              "      <td>1207111126</td>\n",
              "    </tr>\n",
              "    <tr>\n",
              "      <th>19451</th>\n",
              "      <td>thabc</td>\n",
              "      <td>offbeat</td>\n",
              "      <td>c03ltlf</td>\n",
              "      <td>t3_6e97t</td>\n",
              "      <td>t3_6e97t</td>\n",
              "      <td>I was in the same situation, until a few weeks...</td>\n",
              "      <td>1207111928</td>\n",
              "    </tr>\n",
              "    <tr>\n",
              "      <th>19466</th>\n",
              "      <td>silentbobsc</td>\n",
              "      <td>offbeat</td>\n",
              "      <td>c03ltlu</td>\n",
              "      <td>t3_6e97t</td>\n",
              "      <td>t3_6e97t</td>\n",
              "      <td>\"...reasonably challenging liberal arts colleg...</td>\n",
              "      <td>1207112047</td>\n",
              "    </tr>\n",
              "    <tr>\n",
              "      <th>19867</th>\n",
              "      <td>[deleted]</td>\n",
              "      <td>offbeat</td>\n",
              "      <td>c03ltx1</td>\n",
              "      <td>t3_6e97t</td>\n",
              "      <td>t3_6e97t</td>\n",
              "      <td>I'm a chemist and you'd be surprised at how ma...</td>\n",
              "      <td>1207114627</td>\n",
              "    </tr>\n",
              "    <tr>\n",
              "      <th>19921</th>\n",
              "      <td>NewSc2</td>\n",
              "      <td>offbeat</td>\n",
              "      <td>c03ltyj</td>\n",
              "      <td>t3_6e97t</td>\n",
              "      <td>t3_6e97t</td>\n",
              "      <td>I smoked pot every day until I turned 21. Then...</td>\n",
              "      <td>1207115071</td>\n",
              "    </tr>\n",
              "    <tr>\n",
              "      <th>20017</th>\n",
              "      <td>pseudoswamy</td>\n",
              "      <td>offbeat</td>\n",
              "      <td>c03lu19</td>\n",
              "      <td>t3_6e97t</td>\n",
              "      <td>t3_6e97t</td>\n",
              "      <td>That's OK, I am addicted to frying pans.  No, ...</td>\n",
              "      <td>1207115800</td>\n",
              "    </tr>\n",
              "    <tr>\n",
              "      <th>20419</th>\n",
              "      <td>[deleted]</td>\n",
              "      <td>offbeat</td>\n",
              "      <td>c03lucj</td>\n",
              "      <td>t3_6e97t</td>\n",
              "      <td>t3_6e97t</td>\n",
              "      <td>[deleted]</td>\n",
              "      <td>1207119253</td>\n",
              "    </tr>\n",
              "    <tr>\n",
              "      <th>23327</th>\n",
              "      <td>[deleted]</td>\n",
              "      <td>offbeat</td>\n",
              "      <td>c03lwll</td>\n",
              "      <td>t3_6e97t</td>\n",
              "      <td>t3_6e97t</td>\n",
              "      <td>[deleted]</td>\n",
              "      <td>1207143569</td>\n",
              "    </tr>\n",
              "    <tr>\n",
              "      <th>23351</th>\n",
              "      <td>[deleted]</td>\n",
              "      <td>offbeat</td>\n",
              "      <td>c03lwm9</td>\n",
              "      <td>t3_6e97t</td>\n",
              "      <td>t3_6e97t</td>\n",
              "      <td>just be warry, when extremely stressed it may ...</td>\n",
              "      <td>1207143688</td>\n",
              "    </tr>\n",
              "    <tr>\n",
              "      <th>24535</th>\n",
              "      <td>w3weasel</td>\n",
              "      <td>offbeat</td>\n",
              "      <td>c03lxj6</td>\n",
              "      <td>t3_6e97t</td>\n",
              "      <td>t3_6e97t</td>\n",
              "      <td>YOU ARE **NOT** ADDICTED TO POT.\\n\\nThis is be...</td>\n",
              "      <td>1207149056</td>\n",
              "    </tr>\n",
              "    <tr>\n",
              "      <th>24598</th>\n",
              "      <td>gilesdudgeon</td>\n",
              "      <td>offbeat</td>\n",
              "      <td>c03lxkx</td>\n",
              "      <td>t3_6e97t</td>\n",
              "      <td>t3_6e97t</td>\n",
              "      <td>No doubt someone will post links to research c...</td>\n",
              "      <td>1207149319</td>\n",
              "    </tr>\n",
              "    <tr>\n",
              "      <th>24616</th>\n",
              "      <td>[deleted]</td>\n",
              "      <td>offbeat</td>\n",
              "      <td>c03lxlf</td>\n",
              "      <td>t3_6e97t</td>\n",
              "      <td>t3_6e97t</td>\n",
              "      <td>The key, as with anything, is moderation.  Smo...</td>\n",
              "      <td>1207149399</td>\n",
              "    </tr>\n",
              "    <tr>\n",
              "      <th>25025</th>\n",
              "      <td>[deleted]</td>\n",
              "      <td>offbeat</td>\n",
              "      <td>c03lxwt</td>\n",
              "      <td>t3_6e97t</td>\n",
              "      <td>t3_6e97t</td>\n",
              "      <td>Can you be a habitual pot smoker, and flourish...</td>\n",
              "      <td>1207150918</td>\n",
              "    </tr>\n",
              "    <tr>\n",
              "      <th>25971</th>\n",
              "      <td>elasticsoul</td>\n",
              "      <td>offbeat</td>\n",
              "      <td>c03lyn4</td>\n",
              "      <td>t3_6e97t</td>\n",
              "      <td>t3_6e97t</td>\n",
              "      <td>I've known some chronic users, and some were f...</td>\n",
              "      <td>1207154234</td>\n",
              "    </tr>\n",
              "    <tr>\n",
              "      <th>26018</th>\n",
              "      <td>[deleted]</td>\n",
              "      <td>offbeat</td>\n",
              "      <td>c03lyof</td>\n",
              "      <td>t3_6e97t</td>\n",
              "      <td>t3_6e97t</td>\n",
              "      <td>[deleted]</td>\n",
              "      <td>1207154407</td>\n",
              "    </tr>\n",
              "    <tr>\n",
              "      <th>27515</th>\n",
              "      <td>jon_titor</td>\n",
              "      <td>offbeat</td>\n",
              "      <td>c03lzu2</td>\n",
              "      <td>t3_6e97t</td>\n",
              "      <td>t3_6e97t</td>\n",
              "      <td>The guy really doesn't even sound like that he...</td>\n",
              "      <td>1207160190</td>\n",
              "    </tr>\n",
              "  </tbody>\n",
              "</table>\n",
              "</div>"
            ],
            "text/plain": [
              "             author subreddit       id   link_id parent_id  \\\n",
              "18610   wgardenhire   offbeat  c03lsy2  t3_6e97t  t3_6e97t   \n",
              "18943   zerogravity   offbeat  c03lt7b  t3_6e97t  t3_6e97t   \n",
              "18960       spliffy   offbeat  c03lt7s  t3_6e97t  t3_6e97t   \n",
              "19163       Fauster   offbeat  c03ltdf  t3_6e97t  t3_6e97t   \n",
              "19213     [deleted]   offbeat  c03ltet  t3_6e97t  t3_6e97t   \n",
              "19302        h0dg3s   offbeat  c03ltha  t3_6e97t  t3_6e97t   \n",
              "19451         thabc   offbeat  c03ltlf  t3_6e97t  t3_6e97t   \n",
              "19466   silentbobsc   offbeat  c03ltlu  t3_6e97t  t3_6e97t   \n",
              "19867     [deleted]   offbeat  c03ltx1  t3_6e97t  t3_6e97t   \n",
              "19921        NewSc2   offbeat  c03ltyj  t3_6e97t  t3_6e97t   \n",
              "20017   pseudoswamy   offbeat  c03lu19  t3_6e97t  t3_6e97t   \n",
              "20419     [deleted]   offbeat  c03lucj  t3_6e97t  t3_6e97t   \n",
              "23327     [deleted]   offbeat  c03lwll  t3_6e97t  t3_6e97t   \n",
              "23351     [deleted]   offbeat  c03lwm9  t3_6e97t  t3_6e97t   \n",
              "24535      w3weasel   offbeat  c03lxj6  t3_6e97t  t3_6e97t   \n",
              "24598  gilesdudgeon   offbeat  c03lxkx  t3_6e97t  t3_6e97t   \n",
              "24616     [deleted]   offbeat  c03lxlf  t3_6e97t  t3_6e97t   \n",
              "25025     [deleted]   offbeat  c03lxwt  t3_6e97t  t3_6e97t   \n",
              "25971   elasticsoul   offbeat  c03lyn4  t3_6e97t  t3_6e97t   \n",
              "26018     [deleted]   offbeat  c03lyof  t3_6e97t  t3_6e97t   \n",
              "27515     jon_titor   offbeat  c03lzu2  t3_6e97t  t3_6e97t   \n",
              "\n",
              "                                                    body  created_utc  \n",
              "18610                Pot is non-addictive. End of story.   1207106991  \n",
              "18943        Share, you no good low down dirty pothead.    1207108719  \n",
              "18960  I would dissuade those looking to go into fiel...   1207108835  \n",
              "19163  Yes!  You should worry about your \"immortal\" s...   1207110178  \n",
              "19213  Pot makes tedious tasks more enjoyable.  Wheth...   1207110450  \n",
              "19302  You are **not** addicted to pot.  Downvote for...   1207111126  \n",
              "19451  I was in the same situation, until a few weeks...   1207111928  \n",
              "19466  \"...reasonably challenging liberal arts colleg...   1207112047  \n",
              "19867  I'm a chemist and you'd be surprised at how ma...   1207114627  \n",
              "19921  I smoked pot every day until I turned 21. Then...   1207115071  \n",
              "20017  That's OK, I am addicted to frying pans.  No, ...   1207115800  \n",
              "20419                                          [deleted]   1207119253  \n",
              "23327                                          [deleted]   1207143569  \n",
              "23351  just be warry, when extremely stressed it may ...   1207143688  \n",
              "24535  YOU ARE **NOT** ADDICTED TO POT.\\n\\nThis is be...   1207149056  \n",
              "24598  No doubt someone will post links to research c...   1207149319  \n",
              "24616  The key, as with anything, is moderation.  Smo...   1207149399  \n",
              "25025  Can you be a habitual pot smoker, and flourish...   1207150918  \n",
              "25971  I've known some chronic users, and some were f...   1207154234  \n",
              "26018                                          [deleted]   1207154407  \n",
              "27515  The guy really doesn't even sound like that he...   1207160190  "
            ]
          },
          "execution_count": 49,
          "metadata": {},
          "output_type": "execute_result"
        }
      ],
      "source": [
        "rc_2008_04_df[[\"author\", \"subreddit\", \"id\", \"link_id\", \"parent_id\",\"body\", \"created_utc\"]].query(\"parent_id == 't3_6e97t'\")"
      ]
    },
    {
      "cell_type": "markdown",
      "metadata": {
        "id": "4d3--Eex15Tp"
      },
      "source": [
        "Now, we see the responses to the first comment."
      ]
    },
    {
      "cell_type": "code",
      "execution_count": null,
      "metadata": {
        "id": "KGDaUGMc15Tp",
        "outputId": "92c4e135-e2f9-419b-bc7b-f91920349142"
      },
      "outputs": [
        {
          "data": {
            "text/html": [
              "<div>\n",
              "<style scoped>\n",
              "    .dataframe tbody tr th:only-of-type {\n",
              "        vertical-align: middle;\n",
              "    }\n",
              "\n",
              "    .dataframe tbody tr th {\n",
              "        vertical-align: top;\n",
              "    }\n",
              "\n",
              "    .dataframe thead th {\n",
              "        text-align: right;\n",
              "    }\n",
              "</style>\n",
              "<table border=\"1\" class=\"dataframe\">\n",
              "  <thead>\n",
              "    <tr style=\"text-align: right;\">\n",
              "      <th></th>\n",
              "      <th>author</th>\n",
              "      <th>subreddit</th>\n",
              "      <th>id</th>\n",
              "      <th>link_id</th>\n",
              "      <th>parent_id</th>\n",
              "      <th>body</th>\n",
              "      <th>created_utc</th>\n",
              "    </tr>\n",
              "  </thead>\n",
              "  <tbody>\n",
              "    <tr>\n",
              "      <th>18852</th>\n",
              "      <td>spliffy</td>\n",
              "      <td>offbeat</td>\n",
              "      <td>c03lt4s</td>\n",
              "      <td>t3_6e97t</td>\n",
              "      <td>t1_c03lsy2</td>\n",
              "      <td>I wouldn't go quite that far. Maybe not physic...</td>\n",
              "      <td>1207108264</td>\n",
              "    </tr>\n",
              "    <tr>\n",
              "      <th>18974</th>\n",
              "      <td>[deleted]</td>\n",
              "      <td>offbeat</td>\n",
              "      <td>c03lt86</td>\n",
              "      <td>t3_6e97t</td>\n",
              "      <td>t1_c03lsy2</td>\n",
              "      <td>Its mentally addictive... and thats what the w...</td>\n",
              "      <td>1207108888</td>\n",
              "    </tr>\n",
              "    <tr>\n",
              "      <th>19146</th>\n",
              "      <td>Fauster</td>\n",
              "      <td>offbeat</td>\n",
              "      <td>c03ltcy</td>\n",
              "      <td>t3_6e97t</td>\n",
              "      <td>t1_c03lsy2</td>\n",
              "      <td>I don't know about that.  I'd say it's on par ...</td>\n",
              "      <td>1207110041</td>\n",
              "    </tr>\n",
              "  </tbody>\n",
              "</table>\n",
              "</div>"
            ],
            "text/plain": [
              "          author subreddit       id   link_id   parent_id  \\\n",
              "18852    spliffy   offbeat  c03lt4s  t3_6e97t  t1_c03lsy2   \n",
              "18974  [deleted]   offbeat  c03lt86  t3_6e97t  t1_c03lsy2   \n",
              "19146    Fauster   offbeat  c03ltcy  t3_6e97t  t1_c03lsy2   \n",
              "\n",
              "                                                    body  created_utc  \n",
              "18852  I wouldn't go quite that far. Maybe not physic...   1207108264  \n",
              "18974  Its mentally addictive... and thats what the w...   1207108888  \n",
              "19146  I don't know about that.  I'd say it's on par ...   1207110041  "
            ]
          },
          "execution_count": 50,
          "metadata": {},
          "output_type": "execute_result"
        }
      ],
      "source": [
        "rc_2008_04_df[[\"author\", \"subreddit\", \"id\", \"link_id\", \"parent_id\",\"body\", \"created_utc\"]].query(\"parent_id == 't1_c03lsy2'\")"
      ]
    },
    {
      "cell_type": "markdown",
      "metadata": {
        "id": "-AFp9Z2a15Tp"
      },
      "source": [
        "Peak at the first comment again:"
      ]
    },
    {
      "cell_type": "code",
      "execution_count": null,
      "metadata": {
        "id": "RIoPvZWx15Tp",
        "outputId": "728f191a-3425-4fec-c131-efcb88cb1787"
      },
      "outputs": [
        {
          "data": {
            "text/html": [
              "<div>\n",
              "<style scoped>\n",
              "    .dataframe tbody tr th:only-of-type {\n",
              "        vertical-align: middle;\n",
              "    }\n",
              "\n",
              "    .dataframe tbody tr th {\n",
              "        vertical-align: top;\n",
              "    }\n",
              "\n",
              "    .dataframe thead th {\n",
              "        text-align: right;\n",
              "    }\n",
              "</style>\n",
              "<table border=\"1\" class=\"dataframe\">\n",
              "  <thead>\n",
              "    <tr style=\"text-align: right;\">\n",
              "      <th></th>\n",
              "      <th>author</th>\n",
              "      <th>subreddit</th>\n",
              "      <th>id</th>\n",
              "      <th>link_id</th>\n",
              "      <th>parent_id</th>\n",
              "      <th>body</th>\n",
              "      <th>created_utc</th>\n",
              "    </tr>\n",
              "  </thead>\n",
              "  <tbody>\n",
              "    <tr>\n",
              "      <th>18610</th>\n",
              "      <td>wgardenhire</td>\n",
              "      <td>offbeat</td>\n",
              "      <td>c03lsy2</td>\n",
              "      <td>t3_6e97t</td>\n",
              "      <td>t3_6e97t</td>\n",
              "      <td>Pot is non-addictive. End of story.</td>\n",
              "      <td>1207106991</td>\n",
              "    </tr>\n",
              "  </tbody>\n",
              "</table>\n",
              "</div>"
            ],
            "text/plain": [
              "            author subreddit       id   link_id parent_id  \\\n",
              "18610  wgardenhire   offbeat  c03lsy2  t3_6e97t  t3_6e97t   \n",
              "\n",
              "                                      body  created_utc  \n",
              "18610  Pot is non-addictive. End of story.   1207106991  "
            ]
          },
          "execution_count": 51,
          "metadata": {},
          "output_type": "execute_result"
        }
      ],
      "source": [
        "rc_2008_04_df[[\"author\", \"subreddit\", \"id\", \"link_id\", \"parent_id\",\"body\", \"created_utc\"]].query(\"id == 'c03lsy2'\")"
      ]
    },
    {
      "cell_type": "markdown",
      "metadata": {
        "id": "alPNKgEn15Tp"
      },
      "source": [
        "So each comment has an ID for itself, one for the link, and one for the parent comment, which is the same as the link id if it is a comment replying to the post.\n",
        "This information will help you create conversation graphs."
      ]
    },
    {
      "cell_type": "code",
      "execution_count": null,
      "metadata": {
        "id": "Cl-aVKkI15Tp"
      },
      "outputs": [],
      "source": [
        "key_info_rc_2008_04 = rc_2008_04_df[[\"author\", \"subreddit\", \"id\", \"link_id\", \"parent_id\",\"body\", \"score\",\"created_utc\"]]"
      ]
    },
    {
      "cell_type": "code",
      "execution_count": null,
      "metadata": {
        "id": "UeaxBi9H15Tp"
      },
      "outputs": [],
      "source": [
        "key_info_rc_2008_04.to_csv(\"../data/reddit/key_info_rc_2008_04.csv\")"
      ]
    },
    {
      "cell_type": "markdown",
      "metadata": {
        "id": "NOG9QU3A15Tp"
      },
      "source": [
        "The saved CSV file is less than half the size of the JSON."
      ]
    }
  ],
  "metadata": {
    "kernelspec": {
      "display_name": "Python 3",
      "language": "python",
      "name": "python3"
    },
    "language_info": {
      "codemirror_mode": {
        "name": "ipython",
        "version": 3
      },
      "file_extension": ".py",
      "mimetype": "text/x-python",
      "name": "python",
      "nbconvert_exporter": "python",
      "pygments_lexer": "ipython3",
      "version": "3.7.6"
    },
    "colab": {
      "provenance": []
    }
  },
  "nbformat": 4,
  "nbformat_minor": 0
}